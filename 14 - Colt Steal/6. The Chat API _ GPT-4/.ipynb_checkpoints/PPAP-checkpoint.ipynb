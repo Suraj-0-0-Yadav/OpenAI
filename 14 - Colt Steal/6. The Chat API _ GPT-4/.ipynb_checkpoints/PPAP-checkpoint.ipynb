{
 "cells": [
  {
   "cell_type": "code",
   "execution_count": 1,
   "id": "d979ac1f",
   "metadata": {},
   "outputs": [],
   "source": [
    "import openai\n",
    "from dotenv import dotenv_values"
   ]
  },
  {
   "cell_type": "code",
   "execution_count": 3,
   "id": "0af6a34f",
   "metadata": {},
   "outputs": [],
   "source": [
    "openai.api_key = dotenv_values('../.env')['OPENAI_API_KEY']"
   ]
  },
  {
   "cell_type": "markdown",
   "id": "6349e7e7",
   "metadata": {},
   "source": [
    "***"
   ]
  },
  {
   "cell_type": "markdown",
   "id": "bfa37680",
   "metadata": {},
   "source": [
    "### Using the Completion API"
   ]
  },
  {
   "cell_type": "code",
   "execution_count": 6,
   "id": "0600409a",
   "metadata": {},
   "outputs": [],
   "source": [
    "response = openai.Completion.create(model = 'text-davinci-003',\n",
    "                                    prompt = \"Generate me 3 trivia questions and answers.\",\n",
    "                                    max_tokens = 300,\n",
    "                                    temperature=1)"
   ]
  },
  {
   "cell_type": "code",
   "execution_count": 7,
   "id": "70243074",
   "metadata": {},
   "outputs": [
    {
     "name": "stdout",
     "output_type": "stream",
     "text": [
      "\n",
      "\n",
      "Q: What is the capital of Ireland?\n",
      "A: Dublin.\n",
      "\n",
      "Q: Who wrote the novel “To Kill a Mockingbird”?\n",
      "A: Harper Lee.\n",
      "\n",
      "Q: What was the name of the Spanish flu epidemic of 1918?\n",
      "A: The Spanish Flu pandemic of 1918.\n"
     ]
    }
   ],
   "source": [
    "print(response['choices'][0]['text'])"
   ]
  },
  {
   "cell_type": "markdown",
   "id": "ae0cb9c8",
   "metadata": {},
   "source": [
    "***"
   ]
  },
  {
   "cell_type": "markdown",
   "id": "3eb2d52e",
   "metadata": {},
   "source": [
    "### Using the Chat API"
   ]
  },
  {
   "cell_type": "code",
   "execution_count": 9,
   "id": "7101721b",
   "metadata": {},
   "outputs": [],
   "source": [
    "response = openai.ChatCompletion.create(model = 'gpt-3.5-turbo',\n",
    "                                        messages = [\n",
    "                                            {'role':'user', 'content':\"Generate me 3 trivia questions and answers.\"}\n",
    "                                        ])"
   ]
  },
  {
   "cell_type": "code",
   "execution_count": 14,
   "id": "d216c63d",
   "metadata": {},
   "outputs": [
    {
     "data": {
      "text/plain": [
       "<OpenAIObject chat.completion id=chatcmpl-7Uvqgzfa7COANxrrFJb6LcrPXi4HJ at 0x21b91580680> JSON: {\n",
       "  \"choices\": [\n",
       "    {\n",
       "      \"finish_reason\": \"stop\",\n",
       "      \"index\": 0,\n",
       "      \"message\": {\n",
       "        \"content\": \"1) What are the four primary ingredients in beer?\\nAnswer: Water, barley, hops, and yeast \\n2) Who was the first person to walk on the moon?\\nAnswer: Neil Armstrong \\n3) What country gifted the United States the Statue of Liberty?\\nAnswer: France\",\n",
       "        \"role\": \"assistant\"\n",
       "      }\n",
       "    }\n",
       "  ],\n",
       "  \"created\": 1687606566,\n",
       "  \"id\": \"chatcmpl-7Uvqgzfa7COANxrrFJb6LcrPXi4HJ\",\n",
       "  \"model\": \"gpt-3.5-turbo-0301\",\n",
       "  \"object\": \"chat.completion\",\n",
       "  \"usage\": {\n",
       "    \"completion_tokens\": 56,\n",
       "    \"prompt_tokens\": 17,\n",
       "    \"total_tokens\": 73\n",
       "  }\n",
       "}"
      ]
     },
     "execution_count": 14,
     "metadata": {},
     "output_type": "execute_result"
    }
   ],
   "source": [
    "response"
   ]
  },
  {
   "cell_type": "code",
   "execution_count": 13,
   "id": "2e176d76",
   "metadata": {},
   "outputs": [
    {
     "name": "stdout",
     "output_type": "stream",
     "text": [
      "1) What are the four primary ingredients in beer?\n",
      "Answer: Water, barley, hops, and yeast \n",
      "2) Who was the first person to walk on the moon?\n",
      "Answer: Neil Armstrong \n",
      "3) What country gifted the United States the Statue of Liberty?\n",
      "Answer: France\n"
     ]
    }
   ],
   "source": [
    "print(response.choices[0].message.content)"
   ]
  },
  {
   "cell_type": "markdown",
   "id": "14e3c078",
   "metadata": {},
   "source": [
    "***"
   ]
  },
  {
   "cell_type": "code",
   "execution_count": 19,
   "id": "4540bbfc",
   "metadata": {},
   "outputs": [],
   "source": [
    "response = openai.ChatCompletion.create(model = 'gpt-3.5-turbo',\n",
    "                                        messages = [\n",
    "                                            {\"role\": \"system\", \"content\": \"You are a helpful assistant that translates English to French.\"},\n",
    "                                            {\"role\": \"user\", \"content\": 'Translate the following English text to French: How are you today ?'}\n",
    "                                        ])"
   ]
  },
  {
   "cell_type": "code",
   "execution_count": 20,
   "id": "8ae296e7",
   "metadata": {},
   "outputs": [
    {
     "name": "stdout",
     "output_type": "stream",
     "text": [
      "Comment allez-vous aujourd'hui ?\n"
     ]
    }
   ],
   "source": [
    "print(response.choices[0].message.content)"
   ]
  },
  {
   "cell_type": "code",
   "execution_count": 21,
   "id": "938198d4",
   "metadata": {},
   "outputs": [
    {
     "name": "stdout",
     "output_type": "stream",
     "text": [
      "Comment allez-vous aujourd'hui ?\n"
     ]
    }
   ],
   "source": [
    "response = openai.ChatCompletion.create(model = 'gpt-3.5-turbo',\n",
    "                                        messages = [\n",
    "                                            {\"role\": \"user\", \"content\": 'Translate the following English text to French: How are you today ?'}\n",
    "                                        ])\n",
    "\n",
    "print(response.choices[0].message.content)"
   ]
  },
  {
   "cell_type": "markdown",
   "id": "56d1aab4",
   "metadata": {},
   "source": [
    "***"
   ]
  },
  {
   "cell_type": "code",
   "execution_count": 22,
   "id": "5e1be379",
   "metadata": {},
   "outputs": [
    {
     "name": "stdout",
     "output_type": "stream",
     "text": [
      "The sentiment in the given text \"It's raining today\" is neutral.\n"
     ]
    }
   ],
   "source": [
    "response = openai.ChatCompletion.create(model = 'gpt-3.5-turbo',\n",
    "                                        messages = [\n",
    "                                            {'role':'assistant', 'content':'You are helpful assistant that classifies the sentoment of text as either postive, negative or neutral.'},\n",
    "                                            {\"role\": \"user\", \"content\": 'Classify the sentoment in the following text: \"It\\'s raining today\"'}\n",
    "                                        ])\n",
    "\n",
    "print(response.choices[0].message.content)"
   ]
  },
  {
   "cell_type": "code",
   "execution_count": 23,
   "id": "646782ad",
   "metadata": {},
   "outputs": [
    {
     "name": "stdout",
     "output_type": "stream",
     "text": [
      "The sentiment in the text \"I love watching movies\" is positive.\n"
     ]
    }
   ],
   "source": [
    "response = openai.ChatCompletion.create(model = 'gpt-3.5-turbo',\n",
    "                                        messages = [\n",
    "                                            {'role':'assistant', 'content':'You are helpful assistant that classifies the sentoment of text as either postive, negative or neutral.'},\n",
    "                                            {\"role\": \"user\", \"content\": 'Classify the sentoment in the following text: \"I love watching movies\"'}\n",
    "                                        ])\n",
    "\n",
    "print(response.choices[0].message.content)"
   ]
  },
  {
   "cell_type": "code",
   "execution_count": 24,
   "id": "08f7dcc2",
   "metadata": {},
   "outputs": [
    {
     "name": "stdout",
     "output_type": "stream",
     "text": [
      "The sentiment in the text \"I don't like chickens\" is negative.\n"
     ]
    }
   ],
   "source": [
    "response = openai.ChatCompletion.create(model = 'gpt-3.5-turbo',\n",
    "                                        messages = [\n",
    "                                            {'role':'assistant', 'content':'You are helpful assistant that classifies the sentoment of text as either postive, negative or neutral.'},\n",
    "                                            {\"role\": \"user\", \"content\": 'Classify the sentoment in the following text: \"I don\\'t like chickens\"'}\n",
    "                                        ])\n",
    "\n",
    "print(response.choices[0].message.content)"
   ]
  },
  {
   "cell_type": "markdown",
   "id": "9d391409",
   "metadata": {},
   "source": [
    "***"
   ]
  },
  {
   "cell_type": "code",
   "execution_count": 25,
   "id": "bb889fc4",
   "metadata": {},
   "outputs": [
    {
     "name": "stdout",
     "output_type": "stream",
     "text": [
      "positive\n"
     ]
    }
   ],
   "source": [
    "response = openai.ChatCompletion.create(model = 'gpt-3.5-turbo',\n",
    "                                        messages = [\n",
    "                                            {'role':'assistant', 'content':'You are helpful assistant that classifies the sentoment of text as either postive, negative or neutral.'},\n",
    "                                            {\"role\": \"user\", \"content\": 'Classify the sentiment in the following text: \"It\\'s raining today\"'},\n",
    "                                            {'role': 'assistant', 'content':'neutral'},\n",
    "                                            {\"role\": \"user\", \"content\": 'Classify the sentiment in the following text: \"I love watching movies\"'},\n",
    "                                            {'role': 'assistant', 'content':'positive'},\n",
    "                                            {\"role\": \"user\", \"content\": 'Classify the sentiment in the following text: \"I don\\'t like chickens\"'},\n",
    "                                            {'role': 'assistant', 'content':'negative'},\n",
    "                                            {\"role\": \"user\", \"content\": 'Classify the sentiment in the following text: \"We won the today\\'s match\"'},\n",
    "                                        ])\n",
    "\n",
    "print(response.choices[0].message.content)"
   ]
  },
  {
   "cell_type": "markdown",
   "id": "df7b2e46",
   "metadata": {},
   "source": [
    "***"
   ]
  },
  {
   "cell_type": "code",
   "execution_count": 63,
   "id": "6892e6c1",
   "metadata": {},
   "outputs": [
    {
     "name": "stdout",
     "output_type": "stream",
     "text": [
      "Topic: Ice Cream\n",
      "\n",
      "In summer heat, there's no debate  \n",
      "A treat that's cool, we all can relate  \n",
      "Flavors galore, from mint to fudge  \n",
      "A cone, a cup, whichever you'll judge  \n",
      "Ice cream, the sweetest food, we can budge\n"
     ]
    }
   ],
   "source": [
    "response = openai.ChatCompletion.create(\n",
    "    model=\"gpt-3.5-turbo\",\n",
    "    messages=[\n",
    "        {\"role\": \"system\", \"content\": \"You are a helpful assistant that creates funny poems\"},\n",
    "        {\"role\": \"user\", \"content\": \"Generate me a 5 line poem about the topic of your choosing\"}\n",
    "    ],\n",
    "    temperature=0.9,\n",
    "    max_tokens=200\n",
    ")\n",
    "\n",
    "print(response[\"choices\"][0][\"message\"][\"content\"])"
   ]
  },
  {
   "cell_type": "markdown",
   "id": "3533d08f",
   "metadata": {},
   "source": [
    "***"
   ]
  },
  {
   "cell_type": "markdown",
   "id": "65e3af64",
   "metadata": {},
   "source": [
    "### Color Palette Generator"
   ]
  },
  {
   "cell_type": "code",
   "execution_count": 36,
   "id": "cf7556ea",
   "metadata": {},
   "outputs": [],
   "source": [
    "import ast\n",
    "import matplotlib.pyplot as plt"
   ]
  },
  {
   "cell_type": "code",
   "execution_count": 28,
   "id": "a5f41341",
   "metadata": {},
   "outputs": [],
   "source": [
    "def display_colors(colors):\n",
    "\n",
    "    fig, ax = plt.subplots(1, len(colors), figsize=(12, 1))\n",
    "\n",
    "    for i, color in enumerate(colors):\n",
    "        ax[i].set_xlim([0, 1])\n",
    "        ax[i].set_ylim([0, 1])\n",
    "        ax[i].set_axis_off()\n",
    "        ax[i].add_patch(plt.Rectangle((0, 0), 1, 1, color=color))\n",
    "        ax[i].text(0.5, 0.5, color,color='white', weight='bold',\n",
    "                   fontsize=12, va='center', ha='center')\n",
    "\n",
    "    plt.tight_layout()\n",
    "    plt.show()"
   ]
  },
  {
   "cell_type": "code",
   "execution_count": 44,
   "id": "e1fa6d1b",
   "metadata": {},
   "outputs": [],
   "source": [
    "def get_colors(text_prpmpt):\n",
    "    response = openai.ChatCompletion.create(\n",
    "        model = 'gpt-3.5-turbo',\n",
    "        messages=[\n",
    "            {'role':'system', 'content':\"\"\"\n",
    "            Imagine you are an advanced color palette generating assistant. \n",
    "            Your task is to respond to text prompts by generating a custom color palette that perfectly matches \n",
    "            the given theme, mood, or instructions\n",
    "\n",
    "            Your goal is to create a color palette that captures the essence of the provided text prompt. \n",
    "            This color palette should consist of 2 to 8 colors, with each color represented by a unique hexadecimal color code.\n",
    "\n",
    "            Please provide the final result as a JSON array containing the hexadecimal color codes for the color palette you have created.\n",
    "            \"\"\"},\n",
    "            {'role':'user', 'content':'Convert the following verbal description of a color palette into a list of colors: The Mediterranean Sea'},\n",
    "            {'role':'assistant', 'content':'[\"#006699\", \"#66CCCC\", \"#F0E68C\", \"#008000\", \"#F08080\"]'},\n",
    "            {'role':'user', 'content':'Convert the following verbal description of a color palette into a list of colors: sage, nature, earth'},\n",
    "            {'role':'assistant', 'content':'[\"#EDF1D6\", \"#9DC08B\", \"#609966\", \"#40513B\"]'},\n",
    "            {'role':'user', 'content':'Convert the following verbal description of a color palette into a list of colors:  Color of Indian flag'},\n",
    "            {'role':'assistant', 'content':'[\"#FF671F\",\"#FFFFFF\",\"#046A38\"]'},\n",
    "            {'role':'user', 'content':f'Convert the following verbal description of a color palette into a list of colors: {text_prpmpt}'}\n",
    "        ]\n",
    "    )\n",
    "    \n",
    "    colors = response.choices[0].message.content\n",
    "    return ast.literal_eval(colors)"
   ]
  },
  {
   "cell_type": "code",
   "execution_count": 45,
   "id": "c492ff00",
   "metadata": {},
   "outputs": [
    {
     "data": {
      "image/png": "[encoded data removed]",
      "text/plain": [
       "<Figure size 1200x100 with 5 Axes>"
      ]
     },
     "metadata": {},
     "output_type": "display_data"
    }
   ],
   "source": [
    "display_colors(get_colors('Sunrise shades'))"
   ]
  },
  {
   "cell_type": "code",
   "execution_count": 46,
   "id": "a32cf243",
   "metadata": {},
   "outputs": [
    {
     "data": {
      "image/png": "[encoded data removed]",
      "text/plain": [
       "<Figure size 1200x100 with 3 Axes>"
      ]
     },
     "metadata": {},
     "output_type": "display_data"
    }
   ],
   "source": [
    "display_colors(get_colors('Indian Flag colors'))"
   ]
  },
  {
   "cell_type": "code",
   "execution_count": 47,
   "id": "52bca2ef",
   "metadata": {},
   "outputs": [
    {
     "data": {
      "image/png": "[encoded data removed]",
      "text/plain": [
       "<Figure size 1200x100 with 3 Axes>"
      ]
     },
     "metadata": {},
     "output_type": "display_data"
    }
   ],
   "source": [
    "display_colors(get_colors('US Flag colors'))"
   ]
  },
  {
   "cell_type": "code",
   "execution_count": 48,
   "id": "952cee0c",
   "metadata": {},
   "outputs": [
    {
     "data": {
      "image/png": "[encoded data removed]",
      "text/plain": [
       "<Figure size 1200x100 with 5 Axes>"
      ]
     },
     "metadata": {},
     "output_type": "display_data"
    }
   ],
   "source": [
    "display_colors(get_colors('Night sky with stars'))"
   ]
  },
  {
   "cell_type": "code",
   "execution_count": 49,
   "id": "15902182",
   "metadata": {},
   "outputs": [
    {
     "data": {
      "image/png": "[encoded data removed]",
      "text/plain": [
       "<Figure size 1200x100 with 5 Axes>"
      ]
     },
     "metadata": {},
     "output_type": "display_data"
    }
   ],
   "source": [
    "display_colors(get_colors('Light blue sky, with fresh green grass and white clouds'))"
   ]
  },
  {
   "cell_type": "markdown",
   "id": "5e76a1f0",
   "metadata": {},
   "source": [
    "***"
   ]
  },
  {
   "cell_type": "code",
   "execution_count": 52,
   "id": "284fba8d",
   "metadata": {},
   "outputs": [],
   "source": [
    "import numpy as np"
   ]
  },
  {
   "cell_type": "code",
   "execution_count": 50,
   "id": "d93ed373",
   "metadata": {},
   "outputs": [],
   "source": [
    "def display_colors_2(colors):\n",
    "    n_colors = len(colors)\n",
    "    fig, ax = plt.subplots(1, n_colors, figsize=(12, 2))\n",
    "\n",
    "    for i, color in enumerate(colors):\n",
    "        ax[i].set_xlim([0, 1])\n",
    "        ax[i].set_ylim([0, 1])\n",
    "        ax[i].set_axis_off()\n",
    "\n",
    "        # Create a gradient background\n",
    "        gradient = np.linspace(0, 1, 256).reshape(1, -1)\n",
    "        ax[i].imshow(gradient, aspect='auto', cmap=plt.get_cmap('gray'), vmin=0, vmax=1)\n",
    "\n",
    "        # Add a colored rectangle\n",
    "        ax[i].add_patch(plt.Rectangle((0, 0), 1, 1, color=color))\n",
    "\n",
    "        # Add color code text\n",
    "        ax[i].text(0.5, 0.5, color, color='white', weight='bold',\n",
    "                   fontsize=12, va='center', ha='center')\n",
    "\n",
    "    plt.tight_layout(pad=0)\n",
    "    plt.show()"
   ]
  },
  {
   "cell_type": "code",
   "execution_count": 56,
   "id": "5203e8d1",
   "metadata": {},
   "outputs": [
    {
     "data": {
      "image/png": "[encoded data removed]",
      "text/plain": [
       "<Figure size 1200x200 with 6 Axes>"
      ]
     },
     "metadata": {},
     "output_type": "display_data"
    }
   ],
   "source": [
    "display_colors_2(get_colors(\"Night sky with stars\"))"
   ]
  },
  {
   "cell_type": "code",
   "execution_count": 57,
   "id": "335fb87c",
   "metadata": {},
   "outputs": [
    {
     "data": {
      "image/png": "[encoded data removed]",
      "text/plain": [
       "<Figure size 1200x200 with 3 Axes>"
      ]
     },
     "metadata": {},
     "output_type": "display_data"
    }
   ],
   "source": [
    "display_colors_2(get_colors(\"India flag colors\"))"
   ]
  },
  {
   "cell_type": "markdown",
   "id": "57d2d7f5",
   "metadata": {},
   "source": [
    "***"
   ]
  },
  {
   "cell_type": "code",
   "execution_count": null,
   "id": "4953e1c9",
   "metadata": {},
   "outputs": [],
   "source": []
  }
 ],
 "metadata": {
  "kernelspec": {
   "display_name": "Python 3 (ipykernel)",
   "language": "python",
   "name": "python3"
  },
  "language_info": {
   "codemirror_mode": {
    "name": "ipython",
    "version": 3
   },
   "file_extension": ".py",
   "mimetype": "text/x-python",
   "name": "python",
   "nbconvert_exporter": "python",
   "pygments_lexer": "ipython3",
   "version": "3.10.11"
  }
 },
 "nbformat": 4,
 "nbformat_minor": 5
}
