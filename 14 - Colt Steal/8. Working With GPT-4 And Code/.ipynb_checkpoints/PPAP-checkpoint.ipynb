{
 "cells": [
  {
   "cell_type": "code",
   "execution_count": 1,
   "id": "9c44f18a",
   "metadata": {},
   "outputs": [],
   "source": [
    "import openai\n",
    "from dotenv import dotenv_values"
   ]
  },
  {
   "cell_type": "code",
   "execution_count": 2,
   "id": "27cd7edf",
   "metadata": {},
   "outputs": [],
   "source": [
    "config = dotenv_values(\"../.env\")"
   ]
  },
  {
   "cell_type": "code",
   "execution_count": 4,
   "id": "97caa594",
   "metadata": {},
   "outputs": [],
   "source": [
    "openai.api_key = config['OPENAI_API_KEY']"
   ]
  },
  {
   "cell_type": "markdown",
   "id": "7700b5a9",
   "metadata": {},
   "source": [
    "***"
   ]
  },
  {
   "cell_type": "markdown",
   "id": "382934a9",
   "metadata": {},
   "source": [
    "# Code Explainer"
   ]
  },
  {
   "cell_type": "code",
   "execution_count": 5,
   "id": "e53b48a5",
   "metadata": {},
   "outputs": [],
   "source": [
    "import inspect"
   ]
  },
  {
   "cell_type": "code",
   "execution_count": 6,
   "id": "96997c45",
   "metadata": {},
   "outputs": [],
   "source": [
    "# Function for I wany explaination.\n",
    "def remove_common_prefix(x, prefix, ws_prefix): \n",
    "    x[\"completion\"] = x[\"completion\"].str[len(prefix) :] \n",
    "    if ws_prefix: \n",
    "        # keep the single whitespace as prefix \n",
    "        x[\"completion\"] = \" \" + x[\"completion\"] \n",
    "    return x "
   ]
  },
  {
   "cell_type": "code",
   "execution_count": 8,
   "id": "54951bfe",
   "metadata": {},
   "outputs": [],
   "source": [
    "source_code = inspect.getsource(remove_common_prefix)"
   ]
  },
  {
   "cell_type": "code",
   "execution_count": 9,
   "id": "5bb22c3b",
   "metadata": {},
   "outputs": [
    {
     "name": "stdout",
     "output_type": "stream",
     "text": [
      "def remove_common_prefix(x, prefix, ws_prefix): \n",
      "    x[\"completion\"] = x[\"completion\"].str[len(prefix) :] \n",
      "    if ws_prefix: \n",
      "        # keep the single whitespace as prefix \n",
      "        x[\"completion\"] = \" \" + x[\"completion\"] \n",
      "    return x \n",
      "\n"
     ]
    }
   ],
   "source": [
    "print(source_code)"
   ]
  },
  {
   "cell_type": "code",
   "execution_count": 40,
   "id": "363801f3",
   "metadata": {},
   "outputs": [],
   "source": [
    "messages = [\n",
    "    {\"role\":\"system\", \"content\": \"You are a Python code explaining assistant\"},\n",
    "    {\"role\": \"user\", \"content\": f\"Explain the following Python function in detail: {source_code}\"}\n",
    "]"
   ]
  },
  {
   "cell_type": "code",
   "execution_count": 42,
   "id": "d9fb2fa2",
   "metadata": {},
   "outputs": [
    {
     "name": "stdout",
     "output_type": "stream",
     "text": [
      "This function takes three inputs:\n",
      "- \"x\", which represents a Pandas DataFrame\n",
      "- \"prefix\", which is a string representing the common prefix that needs to be removed\n",
      "- \"ws_prefix\", which is a boolean indicating whether a single whitespace should be added as a prefix to the updated string.\n",
      "\n",
      "The function proceeds to modify the \"completion\" column of the input DataFrame. Specifically, it removes the common prefix \"prefix\" from every string in that column using the \"len\" method in Python, which finds the length of \"prefix\". It assigns the updated string to the \"completion\" column of the same DataFrame.\n",
      "\n",
      "If \"ws_prefix\" is True, it adds a single whitespace at the beginning of each string in the \"completion\" column of the DataFrame. Finally, it returns the modified DataFrame.\n"
     ]
    }
   ],
   "source": [
    "response = openai.ChatCompletion.create(\n",
    "    model = \"gpt-3.5-turbo\",\n",
    "    messages = messages\n",
    ")\n",
    "\n",
    "print(response.choices[0].message.content)"
   ]
  },
  {
   "cell_type": "markdown",
   "id": "d1453db1",
   "metadata": {},
   "source": [
    "***"
   ]
  },
  {
   "cell_type": "markdown",
   "id": "d03d08ee",
   "metadata": {},
   "source": [
    "# Asking GPT-3 To Calculate Time Complexity"
   ]
  },
  {
   "cell_type": "code",
   "execution_count": 45,
   "id": "065984cb",
   "metadata": {},
   "outputs": [],
   "source": [
    "def sort(array):  \n",
    "    for i in range(len(array)):\n",
    "        for j in range(0, len(array) - i - 1):\n",
    "            if array[j] > array[j + 1]:\n",
    "                temp = array[j]\n",
    "                array[j] = array[j+1]\n",
    "                array[j+1] = temp\n",
    "    return array"
   ]
  },
  {
   "cell_type": "code",
   "execution_count": 46,
   "id": "f2487f40",
   "metadata": {},
   "outputs": [
    {
     "name": "stdout",
     "output_type": "stream",
     "text": [
      "def sort(array):  \n",
      "    for i in range(len(array)):\n",
      "        for j in range(0, len(array) - i - 1):\n",
      "            if array[j] > array[j + 1]:\n",
      "                temp = array[j]\n",
      "                array[j] = array[j+1]\n",
      "                array[j+1] = temp\n",
      "    return array\n",
      "\n"
     ]
    }
   ],
   "source": [
    "bubble_sort = inspect.getsource(sort)\n",
    "\n",
    "print(bubble_sort)"
   ]
  },
  {
   "cell_type": "code",
   "execution_count": 47,
   "id": "f442a0b3",
   "metadata": {},
   "outputs": [],
   "source": [
    "def partition(array, low, high):\n",
    "    pivot = array[high]\n",
    "    i = low - 1\n",
    " \n",
    "    for j in range(low, high):\n",
    "        if array[j] <= pivot:\n",
    "            i = i + 1\n",
    "            (array[i], array[j]) = (array[j], array[i])\n",
    "    (array[i + 1], array[high]) = (array[high], array[i + 1])\n",
    "    return i + 1\n",
    "  \n",
    "def sort(array, low, high):\n",
    "    if low < high:\n",
    "        pi = partition(array, low, high)\n",
    "        sort(array, low, pi - 1)\n",
    "        sort(array, pi + 1, high)"
   ]
  },
  {
   "cell_type": "code",
   "execution_count": 48,
   "id": "8fdca107",
   "metadata": {},
   "outputs": [
    {
     "name": "stdout",
     "output_type": "stream",
     "text": [
      "def partition(array, low, high):\n",
      "    pivot = array[high]\n",
      "    i = low - 1\n",
      " \n",
      "    for j in range(low, high):\n",
      "        if array[j] <= pivot:\n",
      "            i = i + 1\n",
      "            (array[i], array[j]) = (array[j], array[i])\n",
      "    (array[i + 1], array[high]) = (array[high], array[i + 1])\n",
      "    return i + 1\n",
      "\n",
      "def sort(array, low, high):\n",
      "    if low < high:\n",
      "        pi = partition(array, low, high)\n",
      "        sort(array, low, pi - 1)\n",
      "        sort(array, pi + 1, high)\n",
      "\n"
     ]
    }
   ],
   "source": [
    "quick_sort = inspect.getsource(partition) + \"\\n\" + inspect.getsource(sort)\n",
    "print(quick_sort)"
   ]
  },
  {
   "cell_type": "code",
   "execution_count": 49,
   "id": "d0ba7d13",
   "metadata": {},
   "outputs": [],
   "source": [
    "messages = [\n",
    "    {'role':'system', 'content':'You are very good at calculating time complexity or space complexity of the given code'},\n",
    "    {\"role\": \"user\", \"content\": f\"Calculate the time complexity of the following function: {bubble_sort} \"}\n",
    "]"
   ]
  },
  {
   "cell_type": "code",
   "execution_count": 50,
   "id": "94f06098",
   "metadata": {},
   "outputs": [
    {
     "name": "stdout",
     "output_type": "stream",
     "text": [
      "The given function implements bubble sort algorithm for sorting an array. The time complexity of bubble sort is O(n^2), where n is the length of the array.\n",
      "\n",
      "In the worst case scenario, the array is not sorted and in each iteration of inner loop, the largest remaining element is moved to the end. This takes n-1 iterations for the first element, n-2 for the second element and so on, resulting in n*(n-1)/2 total iterations. This can be simplified to O(n^2).\n",
      "\n",
      "In the best case scenario, if the input array is already sorted, the algorithm will make only n-1 passes, resulting in a time complexity of O(n).\n",
      "\n",
      "Therefore, the time complexity of the given function is O(n^2) in the worst case and O(n) in the best case.\n"
     ]
    }
   ],
   "source": [
    "response = openai.ChatCompletion.create(\n",
    "    model = \"gpt-3.5-turbo\",\n",
    "    messages = messages\n",
    ")\n",
    "\n",
    "print(response.choices[0].message.content)"
   ]
  },
  {
   "cell_type": "code",
   "execution_count": 52,
   "id": "fee614f1",
   "metadata": {},
   "outputs": [],
   "source": [
    "messages = [\n",
    "    {'role':'system', 'content':'You are very good at calculating time complexity or space complexity of the given code'},\n",
    "    {\"role\": \"user\", \"content\": f\"Calculate the time complexity of the following function: {quick_sort} \"}\n",
    "]"
   ]
  },
  {
   "cell_type": "code",
   "execution_count": 53,
   "id": "63560dfd",
   "metadata": {},
   "outputs": [
    {
     "name": "stdout",
     "output_type": "stream",
     "text": [
      "The given function uses a popular sorting algorithm known as Quicksort. The time complexity of Quicksort depends on the partitioning of the array.\n",
      "\n",
      "In the partition function, there is a loop from 'low' to 'high' that iterates over all items in the array exactly once. Therefore, the time complexity of the partition function is O(n), where n is the number of elements in the input array.\n",
      "\n",
      "In the sort function, the input array is divided into two subarrays recursively, and the partition function is called on each subarray. The time complexity of sort function can be described by the following recurrence relation:\n",
      "\n",
      "T(n) = T(k) + T(n-k-1) + O(n)\n",
      "\n",
      "where n is the number of elements in the input array, k is the index of the pivot element after partition, and O(n) is the time complexity of the partition function. The recurrence relation represents the time complexity of each recursive call, in terms of the time complexity of the previous recursive calls.\n",
      "\n",
      "By solving this recurrence relation, we get the time complexity of Quicksort as O(n log n) on average and O(n^2) in the worst case when the partition always results in unbalanced subarrays.\n",
      "\n",
      "Therefore, the time complexity of the given function is O(n log n) on average and O(n^2) in the worst case.\n"
     ]
    }
   ],
   "source": [
    "response = openai.ChatCompletion.create(\n",
    "    model = \"gpt-3.5-turbo\",\n",
    "    messages = messages\n",
    ")\n",
    "\n",
    "print(response.choices[0].message.content)"
   ]
  },
  {
   "cell_type": "markdown",
   "id": "e16b81c0",
   "metadata": {},
   "source": [
    "***"
   ]
  },
  {
   "cell_type": "markdown",
   "id": "c695935e",
   "metadata": {},
   "source": [
    "# Asking GPT-3 To Translate JS to Python"
   ]
  },
  {
   "cell_type": "code",
   "execution_count": 116,
   "id": "9110dc3c",
   "metadata": {},
   "outputs": [],
   "source": [
    "# js = \"\"\"\n",
    "# function mystery(arr) {\n",
    "#   return arr.reduce(function (p, v) {\n",
    "#     return ( p < v ? p : v );\n",
    "#   });\n",
    "# }\n",
    "# \"\"\"\n",
    "\n",
    "# js = \"\"\"\n",
    "# const mystery = (email) => {\n",
    "#   const regex = /^\\S+@\\S+\\.\\S+$/;\n",
    "#   return regex.test(email);\n",
    "# };\n",
    "# \"\"\"\n",
    "\n",
    "js = \"\"\"\n",
    "const mystery = (str) => {\n",
    "  const arr = str.trim().toLowerCase().split(\" \");\n",
    "\n",
    "  for (let i = 0; i < arr.length; i++) {\n",
    "    arr[i] = arr[i].charAt(0).toUpperCase() + arr[i].slice(1);\n",
    "  }\n",
    "\n",
    "  return arr.join(\" \");\n",
    "};\n",
    "\"\"\""
   ]
  },
  {
   "cell_type": "code",
   "execution_count": 119,
   "id": "19b2e81a",
   "metadata": {},
   "outputs": [],
   "source": [
    "messages = [\n",
    "    {'role':'system', 'content':'You are very good at translating the JavaScript code to Python.'},\n",
    "    {\"role\": \"user\", \"content\": f\"Translate the following JavaScript code to Python: {js}\\n#'ONLY PROVIDE THE PYTHON CONVERTED CODE, without any explainations.'\\n#But provide the required import if necessary\"}\n",
    "]"
   ]
  },
  {
   "cell_type": "code",
   "execution_count": 120,
   "id": "d986b3ac",
   "metadata": {},
   "outputs": [
    {
     "name": "stdout",
     "output_type": "stream",
     "text": [
      "from typing import List\n",
      "\n",
      "def mystery(str: str) -> str:\n",
      "    arr: List[str] = str.strip().lower().split(\" \")\n",
      "\n",
      "    for i in range(len(arr)):\n",
      "        arr[i] = arr[i].capitalize()\n",
      "\n",
      "    return \" \".join(arr)\n"
     ]
    }
   ],
   "source": [
    "res = openai.ChatCompletion.create(\n",
    "    messages=messages,\n",
    "    model=\"gpt-3.5-turbo\"\n",
    ")\n",
    "print(res[\"choices\"][0][\"message\"][\"content\"])"
   ]
  },
  {
   "cell_type": "code",
   "execution_count": 121,
   "id": "5ff76860",
   "metadata": {},
   "outputs": [
    {
     "name": "stdout",
     "output_type": "stream",
     "text": [
      "from typing import List\n",
      "\n",
      "def mystery(str: str) -> str:\n",
      "    arr: List[str] = str.strip().lower().split(\" \")\n",
      "\n",
      "    for i in range(len(arr)):\n",
      "        arr[i] = arr[i].capitalize()\n",
      "\n",
      "    return \" \".join(arr)\n"
     ]
    }
   ],
   "source": [
    "python_code = res[\"choices\"][0][\"message\"][\"content\"]\n",
    "print(python_code)"
   ]
  },
  {
   "cell_type": "code",
   "execution_count": 122,
   "id": "b519bd88",
   "metadata": {},
   "outputs": [
    {
     "name": "stdout",
     "output_type": "stream",
     "text": [
      "I Like To Eat Pizza.\n"
     ]
    }
   ],
   "source": [
    "# Create a namespace dictionary to store the function\n",
    "namespace = {}\n",
    "\n",
    "# Execute the function string in the namespace\n",
    "exec(python_code, namespace)\n",
    "\n",
    "# Extract the function from the namespace\n",
    "mystery_function = namespace['mystery']\n",
    "\n",
    "# Call the function with a test input\n",
    "result = mystery_function(\"i like to eat pizza.\")\n",
    "\n",
    "# Print the result\n",
    "print(result)"
   ]
  },
  {
   "cell_type": "markdown",
   "id": "ca87bc24",
   "metadata": {},
   "source": [
    "***"
   ]
  },
  {
   "cell_type": "markdown",
   "id": "cd7b4f0d",
   "metadata": {},
   "source": [
    "# Asking GPT-3 to find Bugs"
   ]
  },
  {
   "cell_type": "code",
   "execution_count": 125,
   "id": "d0403bef",
   "metadata": {},
   "outputs": [
    {
     "name": "stdout",
     "output_type": "stream",
     "text": [
      "o_\n"
     ]
    }
   ],
   "source": [
    "def add_underscore(word):\n",
    "    new_word = \"\"\n",
    "    for i in range(len(word)):\n",
    "        new_word = word[i] + \"_\"\n",
    "    return new_word\n",
    "print(add_underscore(\"Hello\"))"
   ]
  },
  {
   "cell_type": "code",
   "execution_count": 124,
   "id": "b28f4ef6",
   "metadata": {},
   "outputs": [
    {
     "data": {
      "text/plain": [
       "'o_'"
      ]
     },
     "execution_count": 124,
     "metadata": {},
     "output_type": "execute_result"
    }
   ],
   "source": []
  },
  {
   "cell_type": "code",
   "execution_count": 126,
   "id": "5b539a0a",
   "metadata": {},
   "outputs": [],
   "source": [
    "code = \"\"\"\n",
    "def add_underscore(word):\n",
    "    new_word = \"\"\n",
    "    for i in range(len(word)):\n",
    "        new_word = word[i] + \"_\"\n",
    "    return new_word\n",
    "print(add_underscore(\"Hello\"))\n",
    "\"\"\""
   ]
  },
  {
   "cell_type": "code",
   "execution_count": 127,
   "id": "07d5e7df",
   "metadata": {},
   "outputs": [],
   "source": [
    "messages = [\n",
    "    {'role':'user', 'content':f'Fix and explain the bug in the following python code : {code}'}\n",
    "]"
   ]
  },
  {
   "cell_type": "code",
   "execution_count": 129,
   "id": "13070b43",
   "metadata": {},
   "outputs": [
    {
     "name": "stdout",
     "output_type": "stream",
     "text": [
      "The bug in the code is that the loop is overwriting the value of new_word at every iteration. So, after the loop, new_word will only contain the last character of the input word followed by an underscore. \n",
      "\n",
      "To fix this, we can concatenate the current character and the underscore to new_word at every iteration, instead of overwriting it. Here's the corrected code:\n",
      "\n",
      "```\n",
      "def add_underscore(word):\n",
      "    new_word = \"\"\n",
      "    for i in range(len(word)):\n",
      "        new_word += word[i] + \"_\"\n",
      "    return new_word\n",
      "\n",
      "print(add_underscore(\"Hello\"))\n",
      "```\n",
      "\n",
      "Output: \"H_e_l_l_o_\"\n"
     ]
    }
   ],
   "source": [
    "res = openai.ChatCompletion.create(\n",
    "    messages=messages,\n",
    "    model=\"gpt-3.5-turbo\"\n",
    ")\n",
    "print(res[\"choices\"][0][\"message\"][\"content\"])"
   ]
  },
  {
   "cell_type": "code",
   "execution_count": 130,
   "id": "c857b6d5",
   "metadata": {},
   "outputs": [
    {
     "name": "stdout",
     "output_type": "stream",
     "text": [
      "H_e_l_l_o_\n"
     ]
    }
   ],
   "source": [
    "def add_underscore(word):\n",
    "    new_word = \"\"\n",
    "    for i in range(len(word)):\n",
    "        new_word += word[i] + \"_\"\n",
    "    return new_word\n",
    "\n",
    "print(add_underscore(\"Hello\"))"
   ]
  },
  {
   "cell_type": "markdown",
   "id": "ae0e02b8",
   "metadata": {},
   "source": [
    "***"
   ]
  },
  {
   "cell_type": "markdown",
   "id": "3458a923",
   "metadata": {},
   "source": [
    "# Asking GPT-3 To Write Code"
   ]
  },
  {
   "cell_type": "code",
   "execution_count": 132,
   "id": "3ada00f8",
   "metadata": {},
   "outputs": [],
   "source": [
    "messages = [\n",
    "    {'role':'system', 'content':'You are Python Developer with 30+ year of experience.Your code are very simple to understand and are higly optimzed.'},\n",
    "    {'role':'user', 'content':'Write a Python function that acccept the RGB colors and return the corresponding HSL colors'}\n",
    "]"
   ]
  },
  {
   "cell_type": "code",
   "execution_count": 134,
   "id": "5e7c0301",
   "metadata": {},
   "outputs": [
    {
     "name": "stdout",
     "output_type": "stream",
     "text": [
      "Sure, here's a Python function that accepts RGB color values (as three separate integers between 0 and 255) and returns the corresponding HSL color values (as three separate floats between 0 and 1):\n",
      "\n",
      "```\n",
      "def rgb_to_hsl(r, g, b):\n",
      "    # Convert RGB values from 0-255 range to 0-1 range\n",
      "    r = r / 255.0\n",
      "    g = g / 255.0\n",
      "    b = b / 255.0\n",
      "    \n",
      "    # Find the maximum and minimum values among r, g, and b\n",
      "    cmax = max(r, g, b)\n",
      "    cmin = min(r, g, b)\n",
      "    \n",
      "    # Calculate the difference between the maximum and minimum values\n",
      "    delta = cmax - cmin\n",
      "    \n",
      "    # Calculate the hue (in degrees) of the HSL color\n",
      "    if delta == 0:\n",
      "        hue = 0\n",
      "    elif cmax == r:\n",
      "        hue = ((g - b) / delta) % 6\n",
      "    elif cmax == g:\n",
      "        hue = ((b - r) / delta) + 2\n",
      "    else:\n",
      "        hue = ((r - g) / delta) + 4\n",
      "        \n",
      "    hue = hue * 60\n",
      "    \n",
      "    # Calculate the lightness (L) and saturation (S) of the HSL color\n",
      "    L = (cmax + cmin) / 2\n",
      "    \n",
      "    if delta == 0:\n",
      "        S = 0\n",
      "    else:\n",
      "        S = delta / (1 - abs(2*L - 1))\n",
      "    \n",
      "    # Convert the hue to a float between 0 and 1\n",
      "    H = hue / 360.0\n",
      "    \n",
      "    return (H, S, L)\n",
      "```\n",
      "\n",
      "You can call this function with the red, green, and blue values for any color to get the corresponding HSL values. For example:\n",
      "\n",
      "```\n",
      ">>> rgb_to_hsl(255, 0, 0)\n",
      "(0.0, 1.0, 0.5)\n",
      "\n",
      ">>> rgb_to_hsl(0, 128, 0)\n",
      "(0.3333333333333333, 1.0, 0.25098039215686274)\n",
      "\n",
      ">>> rgb_to_hsl(0, 0, 255)\n",
      "(0.6666666666666666, 1.0, 0.5)\n",
      "```\n"
     ]
    }
   ],
   "source": [
    "res = openai.ChatCompletion.create(\n",
    "    messages=messages,\n",
    "    model=\"gpt-3.5-turbo\"\n",
    ")\n",
    "print(res[\"choices\"][0][\"message\"][\"content\"])"
   ]
  },
  {
   "cell_type": "code",
   "execution_count": 157,
   "id": "1cc903c1",
   "metadata": {},
   "outputs": [],
   "source": [
    "def rgb_to_hsl(r, g, b):\n",
    "    # Convert RGB values from 0-255 range to 0-1 range\n",
    "    r = r / 255.0\n",
    "    g = g / 255.0\n",
    "    b = b / 255.0\n",
    "    \n",
    "    # Find the maximum and minimum values among r, g, and b\n",
    "    cmax = max(r, g, b)\n",
    "    cmin = min(r, g, b)\n",
    "    \n",
    "    # Calculate the difference between the maximum and minimum values\n",
    "    delta = cmax - cmin\n",
    "    \n",
    "    # Calculate the hue (in degrees) of the HSL color\n",
    "    if delta == 0:\n",
    "        hue = 0\n",
    "    elif cmax == r:\n",
    "        hue = ((g - b) / delta) % 6\n",
    "    elif cmax == g:\n",
    "        hue = ((b - r) / delta) + 2\n",
    "    else:\n",
    "        hue = ((r - g) / delta) + 4\n",
    "        \n",
    "    hue = hue * 60\n",
    "    \n",
    "    # Calculate the lightness (L) and saturation (S) of the HSL color\n",
    "    L = (cmax + cmin) / 2\n",
    "    \n",
    "    if delta == 0:\n",
    "        S = 0\n",
    "    else:\n",
    "        S = delta / (1 - abs(2*L - 1))\n",
    "    \n",
    "    # Convert the hue to a float between 0 and 1\n",
    "    H = hue / 360.0\n",
    "    \n",
    "    return (H, S, L)"
   ]
  },
  {
   "cell_type": "code",
   "execution_count": 158,
   "id": "bf180e0f",
   "metadata": {},
   "outputs": [
    {
     "data": {
      "text/plain": [
       "(0.08823529411764706, 1.0, 0.5)"
      ]
     },
     "execution_count": 158,
     "metadata": {},
     "output_type": "execute_result"
    }
   ],
   "source": [
    "rgb_to_hsl(255,135,0)"
   ]
  },
  {
   "cell_type": "code",
   "execution_count": null,
   "id": "22e90574",
   "metadata": {},
   "outputs": [],
   "source": []
  },
  {
   "cell_type": "code",
   "execution_count": null,
   "id": "61c41a1c",
   "metadata": {},
   "outputs": [],
   "source": []
  },
  {
   "cell_type": "code",
   "execution_count": 155,
   "id": "a7e7c509",
   "metadata": {},
   "outputs": [
    {
     "name": "stdout",
     "output_type": "stream",
     "text": [
      "Sure, here's a Python function that accepts RGB colors and returns the corresponding HSL colors:\n",
      "\n",
      "```python\n",
      "def rgb_to_hsl(r, g, b):\n",
      "    \"\"\"\n",
      "    Converts RGB colors to HSL colors.\n",
      "    Accepts RGB values from 0 to 255.\n",
      "    Returns HSL values in degrees (H) and percentages (S and L).\n",
      "    \"\"\"\n",
      "    # Convert RGB values to 0-1 scale\n",
      "    r = r / 255.0\n",
      "    g = g / 255.0\n",
      "    b = b / 255.0\n",
      "    \n",
      "    # Find the minimum and maximum values of RGB colors\n",
      "    min_color = min(r, g, b)\n",
      "    max_color = max(r, g, b)\n",
      "    \n",
      "    # Calculate the brightness (L) of the color\n",
      "    L = (min_color + max_color) / 2.0\n",
      "    \n",
      "    # Calculate the saturation (S) of the color\n",
      "    if min_color == max_color:\n",
      "        S = 0\n",
      "    elif L < 0.5:\n",
      "        S = (max_color - min_color) / (max_color + min_color)\n",
      "    else:\n",
      "        S = (max_color - min_color) / (2.0 - max_color - min_color)\n",
      "    \n",
      "    # Calculate the hue (H) of the color\n",
      "    if max_color == min_color:\n",
      "        H = 0\n",
      "    elif max_color == r:\n",
      "        H = (60 * (g - b) / (max_color - min_color) + 360) % 360\n",
      "    elif max_color == g:\n",
      "        H = (60 * (b - r) / (max_color - min_color) + 120) % 360\n",
      "    else:\n",
      "        H = (60 * (r - g) / (max_color - min_color) + 240) % 360\n",
      "    \n",
      "    # Return the HSL values\n",
      "    return (H, S * 100, L * 100)\n",
      "```\n",
      "\n",
      "This function uses the following formula to convert RGB colors to HSL colors:\n",
      "\n",
      "- H: hue, the degree on the color wheel from 0 to 360 (red to yellow to green to blue to magenta and back to red)\n",
      "- S: saturation, the percentage of the color that is \"pure\" (no white or gray mixed in)\n",
      "- L: lightness, the percentage of the color that is bright (light) vs. dull (dark)\n",
      "\n",
      "This function should work for any valid RGB color input."
     ]
    },
    {
     "ename": "KeyError",
     "evalue": "'content'",
     "output_type": "error",
     "traceback": [
      "\u001b[1;31m---------------------------------------------------------------------------\u001b[0m",
      "\u001b[1;31mKeyError\u001b[0m                                  Traceback (most recent call last)",
      "Cell \u001b[1;32mIn[155], line 7\u001b[0m\n\u001b[0;32m      1\u001b[0m res \u001b[38;5;241m=\u001b[39m openai\u001b[38;5;241m.\u001b[39mChatCompletion\u001b[38;5;241m.\u001b[39mcreate(\n\u001b[0;32m      2\u001b[0m     messages\u001b[38;5;241m=\u001b[39mmessages,\n\u001b[0;32m      3\u001b[0m     model\u001b[38;5;241m=\u001b[39m\u001b[38;5;124m\"\u001b[39m\u001b[38;5;124mgpt-3.5-turbo\u001b[39m\u001b[38;5;124m\"\u001b[39m,\n\u001b[0;32m      4\u001b[0m     stream\u001b[38;5;241m=\u001b[39m\u001b[38;5;28;01mTrue\u001b[39;00m\n\u001b[0;32m      5\u001b[0m )\n\u001b[0;32m      6\u001b[0m \u001b[38;5;28;01mfor\u001b[39;00m data \u001b[38;5;129;01min\u001b[39;00m res:\n\u001b[1;32m----> 7\u001b[0m     \u001b[38;5;28mprint\u001b[39m(\u001b[43mdata\u001b[49m\u001b[43m[\u001b[49m\u001b[38;5;124;43m'\u001b[39;49m\u001b[38;5;124;43mchoices\u001b[39;49m\u001b[38;5;124;43m'\u001b[39;49m\u001b[43m]\u001b[49m\u001b[43m[\u001b[49m\u001b[38;5;241;43m0\u001b[39;49m\u001b[43m]\u001b[49m\u001b[43m[\u001b[49m\u001b[38;5;124;43m'\u001b[39;49m\u001b[38;5;124;43mdelta\u001b[39;49m\u001b[38;5;124;43m'\u001b[39;49m\u001b[43m]\u001b[49m\u001b[43m[\u001b[49m\u001b[38;5;124;43m'\u001b[39;49m\u001b[38;5;124;43mcontent\u001b[39;49m\u001b[38;5;124;43m'\u001b[39;49m\u001b[43m]\u001b[49m, end\u001b[38;5;241m=\u001b[39m\u001b[38;5;124m\"\u001b[39m\u001b[38;5;124m\"\u001b[39m, flush\u001b[38;5;241m=\u001b[39m\u001b[38;5;28;01mTrue\u001b[39;00m)\n",
      "\u001b[1;31mKeyError\u001b[0m: 'content'"
     ]
    }
   ],
   "source": [
    "res = openai.ChatCompletion.create(\n",
    "    messages=messages,\n",
    "    model=\"gpt-3.5-turbo\",\n",
    "    stream=True\n",
    ")\n",
    "for data in res:\n",
    "    print(data['choices'][0]['delta']['content'], end=\"\", flush=True)"
   ]
  },
  {
   "cell_type": "markdown",
   "id": "7f635afb",
   "metadata": {},
   "source": [
    "***"
   ]
  },
  {
   "cell_type": "code",
   "execution_count": null,
   "id": "5ba51517",
   "metadata": {},
   "outputs": [],
   "source": []
  }
 ],
 "metadata": {
  "kernelspec": {
   "display_name": "Python 3 (ipykernel)",
   "language": "python",
   "name": "python3"
  },
  "language_info": {
   "codemirror_mode": {
    "name": "ipython",
    "version": 3
   },
   "file_extension": ".py",
   "mimetype": "text/x-python",
   "name": "python",
   "nbconvert_exporter": "python",
   "pygments_lexer": "ipython3",
   "version": "3.10.11"
  }
 },
 "nbformat": 4,
 "nbformat_minor": 5
}
