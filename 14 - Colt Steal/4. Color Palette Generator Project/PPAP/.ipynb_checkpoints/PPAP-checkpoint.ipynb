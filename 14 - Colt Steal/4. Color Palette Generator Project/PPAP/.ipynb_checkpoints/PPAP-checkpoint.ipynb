{
 "cells": [
  {
   "cell_type": "code",
   "execution_count": 102,
   "id": "6118cc04",
   "metadata": {},
   "outputs": [],
   "source": [
    "import openai\n",
    "from dotenv import dotenv_values"
   ]
  },
  {
   "cell_type": "code",
   "execution_count": 103,
   "id": "3bdca48e",
   "metadata": {},
   "outputs": [],
   "source": [
    "config = dotenv_values('../../.env')"
   ]
  },
  {
   "cell_type": "code",
   "execution_count": 104,
   "id": "a9848235",
   "metadata": {},
   "outputs": [],
   "source": [
    "openai.api_key = config['OPENAI_API_KEY']"
   ]
  },
  {
   "cell_type": "markdown",
   "id": "115dcbe0",
   "metadata": {},
   "source": [
    "***"
   ]
  },
  {
   "cell_type": "code",
   "execution_count": 68,
   "id": "dbe9abdc",
   "metadata": {},
   "outputs": [
    {
     "name": "stdout",
     "output_type": "stream",
     "text": [
      "[\"#4285F4\", \"#DB4437\", \"#F4B400\", \"#0F9D58\"]\n"
     ]
    }
   ],
   "source": [
    "prompt = \"\"\"\n",
    "You are a color palette generating assistant that respond to text prompts for color palettes.\n",
    "You should generate color palette that fit the theme, mood, or instruction in the prompt.\n",
    "The color palette should be between 2 to 8 colors\n",
    "\n",
    "Text : Google colors\n",
    "\n",
    "Desired output: A JSON array of hexadecimal color codes\n",
    "\n",
    "Result:\n",
    "\"\"\"\n",
    "\n",
    "response = openai.Completion.create(model = 'text-davinci-003',\n",
    "                                    prompt = prompt,\n",
    "                                    max_tokens=200)\n",
    "\n",
    "print(response['choices'][0]['text'])"
   ]
  },
  {
   "cell_type": "code",
   "execution_count": 69,
   "id": "4b3bff24",
   "metadata": {},
   "outputs": [
    {
     "data": {
      "text/plain": [
       "'[\"#4285F4\", \"#DB4437\", \"#F4B400\", \"#0F9D58\"]'"
      ]
     },
     "execution_count": 69,
     "metadata": {},
     "output_type": "execute_result"
    }
   ],
   "source": [
    "colors = response['choices'][0]['text']\n",
    "colors"
   ]
  },
  {
   "cell_type": "markdown",
   "id": "8fe2c265",
   "metadata": {},
   "source": [
    "***"
   ]
  },
  {
   "cell_type": "code",
   "execution_count": 54,
   "id": "12c1d490",
   "metadata": {},
   "outputs": [],
   "source": [
    "from IPython.display import display,Markdown"
   ]
  },
  {
   "cell_type": "code",
   "execution_count": 72,
   "id": "d966b0fc",
   "metadata": {},
   "outputs": [],
   "source": [
    "def display_colors(colors):\n",
    "    display(Markdown(\" \".join(f\"<span style='color: {i}'>{chr(9608)}</span>\" for i in colors)))"
   ]
  },
  {
   "cell_type": "code",
   "execution_count": 73,
   "id": "c87b5d43",
   "metadata": {},
   "outputs": [
    {
     "data": {
      "text/markdown": [
       "<span style='color: #4285F4'>█</span> <span style='color: #DB4437'>█</span> <span style='color: #F4B400'>█</span> <span style='color: #0F9D58'>█</span>"
      ],
      "text/plain": [
       "<IPython.core.display.Markdown object>"
      ]
     },
     "metadata": {},
     "output_type": "display_data"
    }
   ],
   "source": [
    "display_colors(ast.literal_eval(colors))"
   ]
  },
  {
   "cell_type": "markdown",
   "id": "98a731dc",
   "metadata": {},
   "source": [
    "***"
   ]
  },
  {
   "cell_type": "code",
   "execution_count": 81,
   "id": "0819f17b",
   "metadata": {},
   "outputs": [],
   "source": [
    "import matplotlib.pyplot as plt\n",
    "import ast\n",
    "import json"
   ]
  },
  {
   "cell_type": "code",
   "execution_count": 71,
   "id": "7ed39aca",
   "metadata": {},
   "outputs": [
    {
     "data": {
      "image/png": "[encoded data removed]",
      "text/plain": [
       "<Figure size 1200x100 with 4 Axes>"
      ]
     },
     "metadata": {},
     "output_type": "display_data"
    }
   ],
   "source": [
    "# colors = [\"#D3D3D3\", \"#A9A9A9\", \"#808080\", \"#696969\", \"#000000\", \"#4B4B4B\", \"#2F2F2F\", \"#1C1C1C\"]\n",
    "\n",
    "def display_colors(colors):\n",
    "\n",
    "    fig, ax = plt.subplots(1, len(colors), figsize=(12, 1))\n",
    "\n",
    "    for i, color in enumerate(colors):\n",
    "        ax[i].set_xlim([0, 1])\n",
    "        ax[i].set_ylim([0, 1])\n",
    "        ax[i].set_axis_off()\n",
    "        ax[i].add_patch(plt.Rectangle((0, 0), 1, 1, color=color))\n",
    "\n",
    "    plt.show()\n",
    "\n",
    "display_colors(ast.literal_eval(colors))"
   ]
  },
  {
   "cell_type": "code",
   "execution_count": 74,
   "id": "9c3a1695",
   "metadata": {},
   "outputs": [
    {
     "data": {
      "image/png": "[encoded data removed]",
      "text/plain": [
       "<Figure size 1200x100 with 4 Axes>"
      ]
     },
     "metadata": {},
     "output_type": "display_data"
    }
   ],
   "source": [
    "# colors = [\"#D3D3D3\", \"#A9A9A9\", \"#808080\", \"#696969\", \"#000000\", \"#4B4B4B\", \"#2F2F2F\", \"#1C1C1C\"]\n",
    "\n",
    "def display_colors(colors):\n",
    "\n",
    "    fig, ax = plt.subplots(1, len(colors), figsize=(12, 1))\n",
    "\n",
    "    for i, color in enumerate(colors):\n",
    "        ax[i].set_xlim([0, 1])\n",
    "        ax[i].set_ylim([0, 1])\n",
    "        ax[i].set_axis_off()\n",
    "        ax[i].add_patch(plt.Rectangle((0, 0), 1, 1, color=color))\n",
    "        ax[i].text(0.5, 0.5, color,color='white', weight='bold',\n",
    "                   fontsize=12, va='center', ha='center')\n",
    "\n",
    "    plt.tight_layout()\n",
    "    plt.show()\n",
    "\n",
    "display_colors(ast.literal_eval(colors))\n"
   ]
  },
  {
   "cell_type": "markdown",
   "id": "4bd962dc",
   "metadata": {},
   "source": [
    "***"
   ]
  },
  {
   "cell_type": "code",
   "execution_count": 85,
   "id": "6c550cf9",
   "metadata": {},
   "outputs": [
    {
     "data": {
      "image/png": "[encoded data removed]",
      "text/plain": [
       "<Figure size 1200x100 with 7 Axes>"
      ]
     },
     "metadata": {},
     "output_type": "display_data"
    }
   ],
   "source": [
    "prompt = \"\"\"\n",
    "You are a color palette generating assistant that respond to text prompts for color palettes.\n",
    "You should generate color palette that fit the theme, mood, or instruction in the prompt.\n",
    "The color palette should be between 2 to 8 colors\n",
    "\n",
    "Text : Rainy scene with sunsine\n",
    "\n",
    "Desired output: A JSON array of hexadecimal color codes\n",
    "\n",
    "Result:\n",
    "\"\"\"\n",
    "\n",
    "response = openai.Completion.create(model = 'text-davinci-003',\n",
    "                                    prompt = prompt,\n",
    "                                    max_tokens=200)\n",
    "\n",
    "# print(response['choices'][0]['text'])\n",
    "display_colors(ast.literal_eval(response['choices'][0]['text']))"
   ]
  },
  {
   "cell_type": "markdown",
   "id": "8bd2424e",
   "metadata": {},
   "source": [
    "### Upgrade the  prompt"
   ]
  },
  {
   "cell_type": "code",
   "execution_count": 93,
   "id": "1c3fd90a",
   "metadata": {},
   "outputs": [
    {
     "data": {
      "image/png": "[encoded data removed]",
      "text/plain": [
       "<Figure size 1200x100 with 8 Axes>"
      ]
     },
     "metadata": {},
     "output_type": "display_data"
    }
   ],
   "source": [
    "prompt = \"\"\"\n",
    "Imagine you are an advanced color palette generating assistant. \n",
    "Your task is to respond to text prompts by generating a custom color palette that perfectly matches \n",
    "the given theme, mood, or instructions.\n",
    "\n",
    "Text Prompt: \"Rainy scene with sunshine\"\n",
    "\n",
    "Your goal is to create a color palette that captures the essence of the provided text prompt. \n",
    "This color palette should consist of 2 to 8 colors, with each color represented by a unique hexadecimal color code.\n",
    "\n",
    "Please provide the final result as a JSON array containing the hexadecimal color codes for the color palette you have created.\n",
    "\n",
    "Example:\n",
    "[\"#A8D2F0\",\"#ECFCFA\",\"#F1F7FC\",\"#4F9FE2\",\"#1C4EA1\",\"#0A2552\",\"#C4E2EC\",\"#799FE9\"]\n",
    "\n",
    "Result:\n",
    "\"\"\"\n",
    "\n",
    "response = openai.Completion.create(model = 'text-davinci-003',\n",
    "                                    prompt = prompt,\n",
    "                                    max_tokens=200)\n",
    "\n",
    "# print(response['choices'][0]['text'])\n",
    "display_colors(ast.literal_eval(response['choices'][0]['text']))"
   ]
  },
  {
   "cell_type": "markdown",
   "id": "d9acf089",
   "metadata": {},
   "source": [
    "***"
   ]
  },
  {
   "cell_type": "code",
   "execution_count": 134,
   "id": "1aa114a8",
   "metadata": {},
   "outputs": [],
   "source": [
    "def get_and_render_colors(text_prompt):\n",
    "    prompt = f\"\"\"\n",
    "    Imagine you are an advanced color palette generating assistant. \n",
    "    Your task is to respond to text prompts by generating a custom color palette that perfectly matches \n",
    "    the given theme, mood, or instructions.\n",
    "\n",
    "    Your goal is to create a color palette that captures the essence of the provided text prompt. \n",
    "    This color palette should consist of 2 to 8 colors, with each color represented by a unique hexadecimal color code.\n",
    "\n",
    "    Please provide the final result as a JSON array containing the hexadecimal color codes for the color palette you have created.\n",
    "\n",
    "    Examples:\n",
    "    Q: Convert the following verbal description of a color palette into a list of colors: The Mediterranean Sea\n",
    "    A: [\"#006699\", \"#66CCCC\", \"#F0E68C\", \"#008000\", \"#F08080\"]\n",
    "\n",
    "    Q: Convert the following verbal description of a color palette into a list of colors: sage, nature, earth\n",
    "    A: [\"#EDF1D6\", \"#9DC08B\", \"#609966\", \"#40513B\"]\n",
    "    \n",
    "    Q: Color of Indian flag:\n",
    "    A: [\"#FF671F\",\"#FFFFFF\",\"#046A38\"]\n",
    "\n",
    "    Q: Convert the following verbal description of a color palette into a list of colors: {text_prompt} \n",
    "    A: \n",
    "    \"\"\"\n",
    "\n",
    "    response = openai.Completion.create(model = 'text-davinci-003',\n",
    "                                        prompt = prompt,\n",
    "                                        max_tokens=200)\n",
    "#     print(response)\n",
    "    display_colors(ast.literal_eval(response['choices'][0]['text']))\n"
   ]
  },
  {
   "cell_type": "code",
   "execution_count": 133,
   "id": "87c3ebed",
   "metadata": {},
   "outputs": [
    {
     "name": "stdout",
     "output_type": "stream",
     "text": [
      "{\n",
      "  \"choices\": [\n",
      "    {\n",
      "      \"finish_reason\": \"stop\",\n",
      "      \"index\": 0,\n",
      "      \"logprobs\": null,\n",
      "      \"text\": \" [\\\"#FFAF5B\\\", \\\"#FFD063\\\", \\\"#FFE09C\\\", \\\"#EEDFFC\\\", \\\"#FFADB7\\\"]\"\n",
      "    }\n",
      "  ],\n",
      "  \"created\": 1687079506,\n",
      "  \"id\": \"cmpl-7SijigSMAPP81XNe3mbCyocrxjXvM\",\n",
      "  \"model\": \"text-davinci-003\",\n",
      "  \"object\": \"text_completion\",\n",
      "  \"usage\": {\n",
      "    \"completion_tokens\": 30,\n",
      "    \"prompt_tokens\": 291,\n",
      "    \"total_tokens\": 321\n",
      "  }\n",
      "}\n"
     ]
    },
    {
     "data": {
      "image/png": "[encoded data removed]",
      "text/plain": [
       "<Figure size 1200x100 with 5 Axes>"
      ]
     },
     "metadata": {},
     "output_type": "display_data"
    }
   ],
   "source": [
    "get_and_render_colors(\"Early sunrise (5 colors)\")"
   ]
  },
  {
   "cell_type": "markdown",
   "id": "445a5e18",
   "metadata": {},
   "source": [
    "***"
   ]
  },
  {
   "cell_type": "code",
   "execution_count": 135,
   "id": "0ac8efdf",
   "metadata": {},
   "outputs": [
    {
     "data": {
      "image/png": "[encoded data removed]",
      "text/plain": [
       "<Figure size 1200x100 with 3 Axes>"
      ]
     },
     "metadata": {},
     "output_type": "display_data"
    }
   ],
   "source": [
    "get_and_render_colors(\"Colors of Indian flag\")"
   ]
  },
  {
   "cell_type": "code",
   "execution_count": 136,
   "id": "7aa4ce79",
   "metadata": {},
   "outputs": [
    {
     "data": {
      "image/png": "[encoded data removed]",
      "text/plain": [
       "<Figure size 1200x100 with 3 Axes>"
      ]
     },
     "metadata": {},
     "output_type": "display_data"
    }
   ],
   "source": [
    "get_and_render_colors(\"Colors of Italian flag\")"
   ]
  },
  {
   "cell_type": "code",
   "execution_count": null,
   "id": "1991859c",
   "metadata": {},
   "outputs": [],
   "source": []
  }
 ],
 "metadata": {
  "kernelspec": {
   "display_name": "Python 3 (ipykernel)",
   "language": "python",
   "name": "python3"
  },
  "language_info": {
   "codemirror_mode": {
    "name": "ipython",
    "version": 3
   },
   "file_extension": ".py",
   "mimetype": "text/x-python",
   "name": "python",
   "nbconvert_exporter": "python",
   "pygments_lexer": "ipython3",
   "version": "3.10.11"
  }
 },
 "nbformat": 4,
 "nbformat_minor": 5
}
