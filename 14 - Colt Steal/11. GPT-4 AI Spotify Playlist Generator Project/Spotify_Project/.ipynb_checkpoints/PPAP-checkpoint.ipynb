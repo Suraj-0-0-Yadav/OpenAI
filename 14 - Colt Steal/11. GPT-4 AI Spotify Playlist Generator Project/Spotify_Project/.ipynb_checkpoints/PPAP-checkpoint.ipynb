{
 "cells": [
  {
   "cell_type": "code",
   "execution_count": 5,
   "id": "287e8b4b",
   "metadata": {},
   "outputs": [],
   "source": [
    "import openai\n",
    "from dotenv import load_dotenv\n",
    "import os\n",
    "import json"
   ]
  },
  {
   "cell_type": "code",
   "execution_count": 2,
   "id": "4f107b17",
   "metadata": {},
   "outputs": [],
   "source": [
    "load_dotenv()\n",
    "openai.api_key = os.getenv(\"OPENAI_API_KEY\")"
   ]
  },
  {
   "cell_type": "markdown",
   "id": "6775c179",
   "metadata": {},
   "source": [
    "***"
   ]
  },
  {
   "cell_type": "code",
   "execution_count": 4,
   "id": "d3f70d0e",
   "metadata": {},
   "outputs": [],
   "source": [
    "text_prompt = \"Holi songs for 2023 with DJ style\""
   ]
  },
  {
   "cell_type": "code",
   "execution_count": 5,
   "id": "d34c484f",
   "metadata": {},
   "outputs": [],
   "source": [
    "messages = [\n",
    "    {\"role\":\"system\", \"content\":\"\"\"\n",
    "    You are helpful playlist generating assistant.\n",
    "    You should generate a list of songs and thier artist according to text prompt\n",
    "    \"\"\"},\n",
    "    {'role':'user', 'content':f\"Generate a playlist of songs based on this prompt : {text_prompt}\"}\n",
    "]"
   ]
  },
  {
   "cell_type": "code",
   "execution_count": 7,
   "id": "9d8144ee",
   "metadata": {},
   "outputs": [],
   "source": [
    "response = openai.ChatCompletion.create(\n",
    "            model = \"gpt-3.5-turbo\",\n",
    "            messages = messages,\n",
    "            max_tokens = 400\n",
    ")"
   ]
  },
  {
   "cell_type": "code",
   "execution_count": 10,
   "id": "fb93d6d4",
   "metadata": {},
   "outputs": [
    {
     "name": "stdout",
     "output_type": "stream",
     "text": [
      "Sure, here's a playlist of popular Holi songs mixed with DJ beats for 2023:\n",
      "\n",
      "1. Rang Barse - DJ Shadow Dubai remix\n",
      "2. Badri Ki Dulhania - DJ Chetas remix\n",
      "3. Balam Pichkari - DJ NYK remix\n",
      "4. Holi Ke Din - DJ Akhil Talreja remix\n",
      "5. Ang Se Ang Lagana - DJ Suketu remix\n",
      "6. Do Me A Favour Let's Play Holi - DJ Kawal remix\n",
      "7. Lahu Munh Lag Gaya - DJ Tejas remix\n",
      "8. Holi Khele Raghuveera - DJ Toons remix\n",
      "9. Jai Jai Shiv Shankar - DJ Smita remix\n",
      "10. Holi Mein Rangeele - DJ Sukhi remix\n",
      "\n",
      "Hope you enjoy this playlist!\n"
     ]
    }
   ],
   "source": [
    "print(response['choices'][0]['message']['content'])"
   ]
  },
  {
   "cell_type": "markdown",
   "id": "ce777e6b",
   "metadata": {},
   "source": [
    "***"
   ]
  },
  {
   "cell_type": "code",
   "execution_count": 11,
   "id": "dc53cb85",
   "metadata": {},
   "outputs": [
    {
     "name": "stdout",
     "output_type": "stream",
     "text": [
      "Sure, here's a list of Holi songs for 2023 with a DJ style:\n",
      "\n",
      "[\n",
      "{\"song\": \"Rang Barse\", \"artist\": \"DJ Shadow Dubai\"},\n",
      "{\"song\": \"Ang Se Ang Lagana\", \"artist\": \"DJ Lloyd\"},\n",
      "{\"song\": \"Holi Khele Raghuveera\", \"artist\": \"DJ NYK\"},\n",
      "{\"song\": \"Balam Pichkari\", \"artist\": \"DJ Saurabh\"},\n",
      "{\"song\": \"Do Me a Favor Let's Play Holi\", \"artist\": \"DJ Aqeel\"},\n",
      "{\"song\": \"Badri Ki Dulhania (Title Track)\", \"artist\": \"DJ Chetas\"},\n",
      "{\"song\": \"Go Pagal\", \"artist\": \"DJ Shilpi Sharma\"},\n",
      "{\"song\": \"Aaj Na Chhodenge\", \"artist\": \"DJ Ishwar\"},\n",
      "{\"song\": \"Hori Khele Raghuveera (Remix)\", \"artist\": \"DJ Dalal London\"}\n",
      "]\n"
     ]
    }
   ],
   "source": [
    "messages = [\n",
    "    {\"role\":\"system\", \"content\":\"\"\"\n",
    "    You are helpful playlist generating assistant.\n",
    "    You should generate a list of songs and thier artist according to text prompt.\n",
    "    You should return a JSON array, where each element follows this format: \n",
    "    {\"song\":<song_title>,\"artist\":<artist_name>}\n",
    "    \"\"\"},\n",
    "    {'role':'user', 'content':f\"Generate a playlist of songs based on this prompt : {text_prompt}\"}\n",
    "]\n",
    "\n",
    "response = openai.ChatCompletion.create(\n",
    "            model = \"gpt-3.5-turbo\",\n",
    "            messages = messages,\n",
    "            max_tokens = 400\n",
    ")\n",
    "\n",
    "print(response['choices'][0]['message']['content'])"
   ]
  },
  {
   "cell_type": "markdown",
   "id": "edc13f28",
   "metadata": {},
   "source": [
    "***"
   ]
  },
  {
   "cell_type": "code",
   "execution_count": 14,
   "id": "4897ea09",
   "metadata": {},
   "outputs": [
    {
     "name": "stdout",
     "output_type": "stream",
     "text": [
      "[\n",
      "{\"song\": \"Shiv Tandav Stotram\", \"artist\": \"Ravana\"},\n",
      "{\"song\": \"Mahamrityunjaya Mantra\", \"artist\": \"Shankar Sahney\"},\n",
      "{\"song\": \"Om Namah Shivay\", \"artist\": \"Anuradha Paudwal\"},\n",
      "{\"song\": \"Har Har Mahadev\", \"artist\": \"Pujya Bhaishri Rameshbhai Oza\"},\n",
      "{\"song\": \"Shiv Chalisa\", \"artist\": \"Gulshan Kumar\"},\n",
      "{\"song\": \"Namo Namo Shankara\", \"artist\": \"Jubin Nautiyal\"},\n",
      "{\"song\": \"Shivoham\", \"artist\": \"Manish Vyas\"},\n",
      "{\"song\": \"Shiva Shambho\", \"artist\": \"Chinmaya Dunster\"},\n",
      "{\"song\": \"Mere Bhole Baba\", \"artist\": \"Gulshan Kumar\"}\n",
      "]\n"
     ]
    }
   ],
   "source": [
    "text_prompt = \"Maha Shivratri\"\n",
    "\n",
    "example_json = \"\"\"\n",
    "[\n",
    "{\"song\": \"Rang Barse\", \"artist\": \"DJ Shadow Dubai\"},\n",
    "{\"song\": \"Ang Se Ang Lagana\", \"artist\": \"DJ Lloyd\"},\n",
    "{\"song\": \"Holi Khele Raghuveera\", \"artist\": \"DJ NYK\"},\n",
    "{\"song\": \"Balam Pichkari\", \"artist\": \"DJ Saurabh\"},\n",
    "{\"song\": \"Do Me a Favor Let's Play Holi\", \"artist\": \"DJ Aqeel\"},\n",
    "{\"song\": \"Badri Ki Dulhania (Title Track)\", \"artist\": \"DJ Chetas\"},\n",
    "{\"song\": \"Go Pagal\", \"artist\": \"DJ Shilpi Sharma\"},\n",
    "{\"song\": \"Aaj Na Chhodenge\", \"artist\": \"DJ Ishwar\"},\n",
    "{\"song\": \"Hori Khele Raghuveera (Remix)\", \"artist\": \"DJ Dalal London\"}\n",
    "]\n",
    "\"\"\"\n",
    "messages = [\n",
    "    {\"role\":\"system\", \"content\":\"\"\"\n",
    "    You are helpful playlist generating assistant.\n",
    "    You should generate a list of songs and thier artist according to text prompt.\n",
    "    You should return a JSON array, where each element follows this format: \n",
    "    {\"song\":<song_title>,\"artist\":<artist_name>}\n",
    "    \"\"\"},\n",
    "    {'role':'user', 'content':\"Generate a playlist of songs based on this prompt : Holi songs for 2023 with DJ style\"},\n",
    "    {'role':'assistant', 'content':example_json},\n",
    "    {'role':'user', 'content':f\"Generate a playlist of songs based on this prompt : {text_prompt}\"}\n",
    "]\n",
    "\n",
    "response = openai.ChatCompletion.create(\n",
    "            model = \"gpt-3.5-turbo\",\n",
    "            messages = messages,\n",
    "            max_tokens = 400\n",
    ")\n",
    "\n",
    "print(response['choices'][0]['message']['content'])"
   ]
  },
  {
   "cell_type": "markdown",
   "id": "16a057db",
   "metadata": {},
   "source": [
    "***"
   ]
  },
  {
   "cell_type": "code",
   "execution_count": 18,
   "id": "decaf868",
   "metadata": {},
   "outputs": [],
   "source": [
    "def get_playlist(text_prompt):\n",
    "    \n",
    "    example_json = \"\"\"\n",
    "    [\n",
    "    {\"song\": \"Rang Barse\", \"artist\": \"DJ Shadow Dubai\"},\n",
    "    {\"song\": \"Ang Se Ang Lagana\", \"artist\": \"DJ Lloyd\"},\n",
    "    {\"song\": \"Holi Khele Raghuveera\", \"artist\": \"DJ NYK\"},\n",
    "    {\"song\": \"Balam Pichkari\", \"artist\": \"DJ Saurabh\"},\n",
    "    {\"song\": \"Do Me a Favor Let's Play Holi\", \"artist\": \"DJ Aqeel\"},\n",
    "    {\"song\": \"Badri Ki Dulhania (Title Track)\", \"artist\": \"DJ Chetas\"},\n",
    "    {\"song\": \"Go Pagal\", \"artist\": \"DJ Shilpi Sharma\"},\n",
    "    {\"song\": \"Aaj Na Chhodenge\", \"artist\": \"DJ Ishwar\"},\n",
    "    {\"song\": \"Hori Khele Raghuveera (Remix)\", \"artist\": \"DJ Dalal London\"}\n",
    "    ]\n",
    "    \"\"\"\n",
    "    messages = [\n",
    "        {\"role\":\"system\", \"content\":\"\"\"\n",
    "        You are helpful playlist generating assistant.\n",
    "        You should generate a list of songs and thier artist according to text prompt.\n",
    "        You should return a JSON array, where each element follows this format: \n",
    "        {\"song\":<song_title>,\"artist\":<artist_name>}\n",
    "        \"\"\"},\n",
    "        {'role':'user', 'content':\"Generate a playlist of songs based on this prompt : Holi songs for 2023 with DJ style\"},\n",
    "        {'role':'assistant', 'content':example_json},\n",
    "        {'role':'user', 'content':f\"Generate a playlist of songs based on this prompt : {text_prompt}\"}\n",
    "    ]\n",
    "\n",
    "    response = openai.ChatCompletion.create(\n",
    "                model = \"gpt-3.5-turbo\",\n",
    "                messages = messages,\n",
    "                max_tokens = 400\n",
    "    )\n",
    "\n",
    "    return json.loads(response['choices'][0]['message']['content'])"
   ]
  },
  {
   "cell_type": "code",
   "execution_count": 19,
   "id": "ce8db494",
   "metadata": {},
   "outputs": [
    {
     "data": {
      "text/plain": [
       "[{'song': 'Sauda Khara Khara', 'artist': 'Good Newwz Ft. Diljit Dosanjh'},\n",
       " {'song': 'Garmi', 'artist': 'Street Dancer 3D Ft. Varun Dhawan'},\n",
       " {'song': 'Muqabla', 'artist': 'Street Dancer 3D Ft. Prabhudeva'},\n",
       " {'song': 'Kamariya', 'artist': 'Stree Ft. Nora Fatehi'},\n",
       " {'song': 'Tamma Tamma Again',\n",
       "  'artist': 'Badrinath Ki Dulhania Ft. Varun Dhawan'},\n",
       " {'song': 'Dil Chori',\n",
       "  'artist': 'Sonu Ke Titu Ki Sweety Ft. Yo Yo Honey Singh'},\n",
       " {'song': 'Kar Gayi Chull', 'artist': 'Kapoor & Sons Ft. Sidharth Malhotra'},\n",
       " {'song': 'Lungi Dance', 'artist': 'Chennai Express Ft. Shah Rukh Khan'},\n",
       " {'song': 'Balam Pichkari',\n",
       "  'artist': 'Yeh Jawaani Hai Deewani Ft. Ranbir Kapoor'},\n",
       " {'song': 'Swag Se Swagat', 'artist': 'Tiger Zinda Hai Ft. Salman Khan'}]"
      ]
     },
     "execution_count": 19,
     "metadata": {},
     "output_type": "execute_result"
    }
   ],
   "source": [
    "get_playlist(\"New year party songs for Indian audience\")"
   ]
  },
  {
   "cell_type": "markdown",
   "id": "b6e3a67f",
   "metadata": {},
   "source": [
    "***"
   ]
  },
  {
   "cell_type": "code",
   "execution_count": 3,
   "id": "5d59ce40",
   "metadata": {},
   "outputs": [],
   "source": [
    "def get_playlist(text_prompt, count=8):\n",
    "    \n",
    "    example_json = \"\"\"\n",
    "    [\n",
    "    {\"song\": \"Rang Barse\", \"artist\": \"DJ Shadow Dubai\"},\n",
    "    {\"song\": \"Ang Se Ang Lagana\", \"artist\": \"DJ Lloyd\"},\n",
    "    {\"song\": \"Holi Khele Raghuveera\", \"artist\": \"DJ NYK\"},\n",
    "    {\"song\": \"Balam Pichkari\", \"artist\": \"DJ Saurabh\"},\n",
    "    {\"song\": \"Do Me a Favor Let's Play Holi\", \"artist\": \"DJ Aqeel\"},\n",
    "    {\"song\": \"Badri Ki Dulhania (Title Track)\", \"artist\": \"DJ Chetas\"},\n",
    "    {\"song\": \"Go Pagal\", \"artist\": \"DJ Shilpi Sharma\"},\n",
    "    {\"song\": \"Aaj Na Chhodenge\", \"artist\": \"DJ Ishwar\"},\n",
    "    {\"song\": \"Hori Khele Raghuveera (Remix)\", \"artist\": \"DJ Dalal London\"}\n",
    "    ]\n",
    "    \"\"\"\n",
    "    messages = [\n",
    "        {\"role\":\"system\", \"content\":\"\"\"\n",
    "        You are helpful playlist generating assistant.\n",
    "        You should generate a list of songs and thier artist according to text prompt.\n",
    "        You should return a JSON array, where each element follows this format: \n",
    "        {\"song\":<song_title>,\"artist\":<artist_name>}\n",
    "        \"\"\"},\n",
    "        {'role':'user', 'content':\"Generate a playlist of 9 songs based on this prompt : Holi songs for 2023 with DJ style\"},\n",
    "        {'role':'assistant', 'content':example_json},\n",
    "        {'role':'user', 'content':f\"Generate a playlist of {count} songs based on this prompt : {text_prompt}\"}\n",
    "    ]\n",
    "\n",
    "    response = openai.ChatCompletion.create(\n",
    "                model = \"gpt-3.5-turbo\",\n",
    "                messages = messages,\n",
    "                max_tokens = 400\n",
    "    )\n",
    "\n",
    "    return json.loads(response['choices'][0]['message']['content'])"
   ]
  },
  {
   "cell_type": "code",
   "execution_count": 21,
   "id": "36bbfaf0",
   "metadata": {},
   "outputs": [
    {
     "data": {
      "text/plain": [
       "[{'song': 'Deewani Mastani', 'artist': 'Shreya Ghoshal'},\n",
       " {'song': 'Nagada Sang Dhol', 'artist': 'Shreya Ghoshal'},\n",
       " {'song': 'Tumhi Ho Bandhu', 'artist': 'Neeraj Shridhar, Kavita Seth'},\n",
       " {'song': 'Dhol Baaje', 'artist': 'Monali Thakur, Meet Bros Anjjan'},\n",
       " {'song': 'Shubharambh', 'artist': 'Shankar Mahadevan, Divya Kumar'}]"
      ]
     },
     "execution_count": 21,
     "metadata": {},
     "output_type": "execute_result"
    }
   ],
   "source": [
    "get_playlist(\"Diwali songs\", 5)"
   ]
  },
  {
   "cell_type": "code",
   "execution_count": 22,
   "id": "49e56678",
   "metadata": {},
   "outputs": [
    {
     "data": {
      "text/plain": [
       "[{'song': 'Din Shagna Da', 'artist': 'Jasleen Royal'},\n",
       " {'song': 'Mehendi Hai Rachnewali', 'artist': 'Alka Yagnik'},\n",
       " {'song': 'Gal Mitthi Mitthi Bol', 'artist': 'Tochi Raina'}]"
      ]
     },
     "execution_count": 22,
     "metadata": {},
     "output_type": "execute_result"
    }
   ],
   "source": [
    "get_playlist(\"Indian marriage for brother\", 3)"
   ]
  },
  {
   "cell_type": "code",
   "execution_count": null,
   "id": "6337b212",
   "metadata": {},
   "outputs": [],
   "source": [
    "get_playlist(\"Gym songs for 2023\",4)"
   ]
  },
  {
   "cell_type": "markdown",
   "id": "f85ceb3d",
   "metadata": {},
   "source": [
    "***"
   ]
  },
  {
   "cell_type": "code",
   "execution_count": null,
   "id": "c385afcb",
   "metadata": {},
   "outputs": [],
   "source": []
  }
 ],
 "metadata": {
  "kernelspec": {
   "display_name": "Python 3 (ipykernel)",
   "language": "python",
   "name": "python3"
  },
  "language_info": {
   "codemirror_mode": {
    "name": "ipython",
    "version": 3
   },
   "file_extension": ".py",
   "mimetype": "text/x-python",
   "name": "python",
   "nbconvert_exporter": "python",
   "pygments_lexer": "ipython3",
   "version": "3.10.11"
  }
 },
 "nbformat": 4,
 "nbformat_minor": 5
}
