{
 "cells": [
  {
   "cell_type": "code",
   "execution_count": 6,
   "id": "39d7ac80",
   "metadata": {},
   "outputs": [],
   "source": [
    "import openai"
   ]
  },
  {
   "cell_type": "code",
   "execution_count": 7,
   "id": "96de38cc",
   "metadata": {},
   "outputs": [],
   "source": [
    "from dotenv import load_dotenv\n",
    "import os"
   ]
  },
  {
   "cell_type": "code",
   "execution_count": 8,
   "id": "3b630436",
   "metadata": {},
   "outputs": [
    {
     "data": {
      "text/plain": [
       "True"
      ]
     },
     "execution_count": 8,
     "metadata": {},
     "output_type": "execute_result"
    }
   ],
   "source": [
    "load_dotenv()"
   ]
  },
  {
   "cell_type": "code",
   "execution_count": 9,
   "id": "b3cb65c7",
   "metadata": {},
   "outputs": [],
   "source": [
    "openai.api_key = os.getenv(\"OPENAI_API_KEY\")"
   ]
  },
  {
   "cell_type": "markdown",
   "id": "58dce599",
   "metadata": {},
   "source": [
    "***"
   ]
  },
  {
   "cell_type": "code",
   "execution_count": null,
   "id": "8eb63b39",
   "metadata": {},
   "outputs": [],
   "source": [
    "# Record Some audio\n",
    "\n",
    "import wave\n",
    "import sys\n",
    "import pyaudio"
   ]
  },
  {
   "cell_type": "code",
   "execution_count": 5,
   "id": "11746170",
   "metadata": {},
   "outputs": [],
   "source": [
    "CHUNK = 1024\n",
    "FORMAT = pyaudio.paInt16\n",
    "CHANNELS = 1 if sys.platform == \"darwin\" else 2\n",
    "RATE = 44100\n",
    "\n",
    "\n",
    "def record_audio(seconds: int):\n",
    "    output_path = \"output.wav\"\n",
    "    with wave.open(output_path, \"wb\") as wf:\n",
    "        p = pyaudio.PyAudio()\n",
    "        wf.setnchannels(CHANNELS)\n",
    "        wf.setsampwidth(p.get_sample_size(FORMAT))\n",
    "        wf.setframerate(RATE)\n",
    "\n",
    "        stream = p.open(format=FORMAT, channels=CHANNELS, rate=RATE, input=True)\n",
    "\n",
    "        print(\"Recording...\")\n",
    "        for index in range(0, RATE // CHUNK * seconds):\n",
    "            if index % (RATE // CHUNK) == 0:\n",
    "                print(f\"{index // (RATE // CHUNK)} / {seconds}s\")\n",
    "            wf.writeframes(stream.read(CHUNK))\n",
    "        print(\"Done\")\n",
    "\n",
    "        stream.close()\n",
    "        p.terminate()\n",
    "    print(f\"File saved at {output_path}\")\n",
    "    return output_path"
   ]
  },
  {
   "cell_type": "code",
   "execution_count": 15,
   "id": "c31322fa",
   "metadata": {},
   "outputs": [
    {
     "name": "stdout",
     "output_type": "stream",
     "text": [
      "Recording...\n",
      "0 / 10s\n",
      "1 / 10s\n",
      "2 / 10s\n",
      "3 / 10s\n",
      "4 / 10s\n",
      "5 / 10s\n",
      "6 / 10s\n",
      "7 / 10s\n",
      "8 / 10s\n",
      "9 / 10s\n",
      "Done\n",
      "File saved at output.wav\n"
     ]
    },
    {
     "data": {
      "text/plain": [
       "'output.wav'"
      ]
     },
     "execution_count": 15,
     "metadata": {},
     "output_type": "execute_result"
    }
   ],
   "source": [
    "record_audio(10)"
   ]
  },
  {
   "cell_type": "code",
   "execution_count": 20,
   "id": "9f7cbe12",
   "metadata": {},
   "outputs": [],
   "source": [
    "audio_file = open(\"output.wav\", \"rb\")"
   ]
  },
  {
   "cell_type": "code",
   "execution_count": 17,
   "id": "d9a80031",
   "metadata": {},
   "outputs": [],
   "source": [
    "response = openai.Audio.transcribe(\n",
    "    model=\"whisper-1\",\n",
    "    file=audio_file\n",
    ")"
   ]
  },
  {
   "cell_type": "code",
   "execution_count": 18,
   "id": "12f1be33",
   "metadata": {},
   "outputs": [
    {
     "data": {
      "text/plain": [
       "\"Hello everyone, I'm here to tell you about DALI. DALI is an image generating model. DALI takes text and spits out an image. DALI DALI DALI.\""
      ]
     },
     "execution_count": 18,
     "metadata": {},
     "output_type": "execute_result"
    }
   ],
   "source": [
    "response[\"text\"]"
   ]
  },
  {
   "cell_type": "code",
   "execution_count": 21,
   "id": "c0af9906",
   "metadata": {},
   "outputs": [],
   "source": [
    "response_with_prompt = openai.Audio.transcribe(\n",
    "    model=\"whisper-1\",\n",
    "    file=audio_file,\n",
    "    prompt=\"man talking about OpenAI and DALL-E\"\n",
    ")"
   ]
  },
  {
   "cell_type": "code",
   "execution_count": 22,
   "id": "7a216aea",
   "metadata": {},
   "outputs": [
    {
     "data": {
      "text/plain": [
       "\"hello everyone I'm here to tell you about DALL-E. DALL-E is an image generating model DALL-E takes text and spits out an image. DALL-E DALL-E DALL-E.\""
      ]
     },
     "execution_count": 22,
     "metadata": {},
     "output_type": "execute_result"
    }
   ],
   "source": [
    "response_with_prompt[\"text\"]"
   ]
  },
  {
   "cell_type": "markdown",
   "id": "6d781f7e",
   "metadata": {},
   "source": [
    "***"
   ]
  },
  {
   "cell_type": "code",
   "execution_count": 33,
   "id": "33dcdaad",
   "metadata": {},
   "outputs": [],
   "source": [
    "# !pip uninstall sounddevice"
   ]
  },
  {
   "cell_type": "code",
   "execution_count": 36,
   "id": "678fb7b5",
   "metadata": {},
   "outputs": [],
   "source": [
    "# !conda install -c conda-forge pyaudio"
   ]
  },
  {
   "cell_type": "code",
   "execution_count": null,
   "id": "c09e8999",
   "metadata": {},
   "outputs": [],
   "source": []
  }
 ],
 "metadata": {
  "kernelspec": {
   "display_name": "Python 3 (ipykernel)",
   "language": "python",
   "name": "python3"
  },
  "language_info": {
   "codemirror_mode": {
    "name": "ipython",
    "version": 3
   },
   "file_extension": ".py",
   "mimetype": "text/x-python",
   "name": "python",
   "nbconvert_exporter": "python",
   "pygments_lexer": "ipython3",
   "version": "3.10.11"
  }
 },
 "nbformat": 4,
 "nbformat_minor": 5
}
