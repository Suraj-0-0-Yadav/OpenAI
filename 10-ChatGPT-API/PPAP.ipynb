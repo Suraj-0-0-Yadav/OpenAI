{
 "cells": [
  {
   "cell_type": "code",
   "execution_count": 1,
   "id": "646fa94a",
   "metadata": {},
   "outputs": [],
   "source": [
    "import os\n",
    "import openai"
   ]
  },
  {
   "cell_type": "code",
   "execution_count": 2,
   "id": "e7f2d38a",
   "metadata": {},
   "outputs": [],
   "source": [
    "openai.api_key = os.getenv('OPENAI_API_KEY')"
   ]
  },
  {
   "cell_type": "code",
   "execution_count": 17,
   "id": "ed3ab989",
   "metadata": {},
   "outputs": [],
   "source": [
    "response = openai.ChatCompletion.create(model = 'gpt-3.5-turbo',\n",
    "                                        messages = [\n",
    "                                            {'role':'system','content':'You are Indian History Teacher'},\n",
    "                                            {'role':'user','content':'Who was the first Indian President ?'},\n",
    "                                            {'role':'assistant','content':'The first Indian President was Dr. Rajendra Prasad. He served as the President of India from 1950 to 1962.'},\n",
    "                                            {'role':'user','content':'What year he was born ?'}\n",
    "                                        ])"
   ]
  },
  {
   "cell_type": "code",
   "execution_count": 14,
   "id": "ebe6e524",
   "metadata": {},
   "outputs": [
    {
     "data": {
      "text/plain": [
       "'The first Indian President was Dr. Rajendra Prasad. He served as the President of India from 1950 to 1962.'"
      ]
     },
     "execution_count": 14,
     "metadata": {},
     "output_type": "execute_result"
    }
   ],
   "source": [
    "response['choices'][0]['message']['content']"
   ]
  },
  {
   "cell_type": "code",
   "execution_count": 18,
   "id": "9f817550",
   "metadata": {},
   "outputs": [
    {
     "data": {
      "text/plain": [
       "'Dr. Rajendra Prasad was born on December 3, 1884 in Zeradei, Bihar, India.'"
      ]
     },
     "execution_count": 18,
     "metadata": {},
     "output_type": "execute_result"
    }
   ],
   "source": [
    "response['choices'][0]['message']['content']"
   ]
  },
  {
   "cell_type": "markdown",
   "id": "889a6eef",
   "metadata": {},
   "source": [
    "***"
   ]
  },
  {
   "cell_type": "code",
   "execution_count": 32,
   "id": "ccd93e09",
   "metadata": {},
   "outputs": [],
   "source": [
    "class CreateBot:\n",
    "    \n",
    "    def __init__(self,system_prompt):\n",
    "        \n",
    "        self.system_prompt = system_prompt\n",
    "        self.messages = [{'role':'system', 'content':self.system_prompt}]\n",
    "    \n",
    "    def chat(self):\n",
    "        \n",
    "        print(\"To terminate question, type \\\"END\\\"\")\n",
    "        question=\"\"\n",
    "        \n",
    "        while question.upper() != \"END\":\n",
    "            question = input(\"\")\n",
    "            print()\n",
    "            \n",
    "            self.messages.append({'role':'user','content':question})\n",
    "            \n",
    "            response = openai.ChatCompletion.create(model='gpt-3.5-turbo',\n",
    "                                                    messages = self.messages)\n",
    "            \n",
    "            content = response['choices'][0]['message']['content']\n",
    "            print()\n",
    "            print(content)\n",
    "            print()\n",
    "            \n",
    "            self.messages.append({'role':'assistant','content':content})"
   ]
  },
  {
   "cell_type": "code",
   "execution_count": 33,
   "id": "e0a24242",
   "metadata": {},
   "outputs": [],
   "source": [
    "indian_tutor = CreateBot(system_prompt='You are Indian History Teacher')"
   ]
  },
  {
   "cell_type": "code",
   "execution_count": 34,
   "id": "b8c448a5",
   "metadata": {},
   "outputs": [
    {
     "data": {
      "text/plain": [
       "[{'role': 'system', 'content': 'You are Indian History Teacher'}]"
      ]
     },
     "execution_count": 34,
     "metadata": {},
     "output_type": "execute_result"
    }
   ],
   "source": [
    "indian_tutor.messages"
   ]
  },
  {
   "cell_type": "code",
   "execution_count": 38,
   "id": "f011031e",
   "metadata": {},
   "outputs": [
    {
     "name": "stdout",
     "output_type": "stream",
     "text": [
      "To terminate question, type \"END\"\n",
      "what was the cause of his death ?\n",
      "\n",
      "\n",
      "Dr. Rajendra Prasad died of natural causes on February 28, 1963, at the age of 78. The exact cause of his death has not been publicly disclosed.\n",
      "\n",
      "END\n",
      "\n",
      "\n",
      "Thank you. Have a good day!\n",
      "\n"
     ]
    }
   ],
   "source": [
    "indian_tutor.chat()"
   ]
  },
  {
   "cell_type": "code",
   "execution_count": 39,
   "id": "e514fcb1",
   "metadata": {},
   "outputs": [
    {
     "data": {
      "text/plain": [
       "[{'role': 'system', 'content': 'You are Indian History Teacher'},\n",
       " {'role': 'user', 'content': 'Who is the first President of India'},\n",
       " {'role': 'user', 'content': 'Who is the first President of India'},\n",
       " {'role': 'assistant',\n",
       "  'content': 'The first President of India was Dr. Rajendra Prasad. He served as the President from 1950 to 1962.'},\n",
       " {'role': 'user', 'content': 'When he was born ?'},\n",
       " {'role': 'assistant',\n",
       "  'content': 'Dr. Rajendra Prasad was born on December 3, 1884 in the district of Siwan in Bihar, India.'},\n",
       " {'role': 'user', 'content': 'How many childrens does he had ?'},\n",
       " {'role': 'assistant',\n",
       "  'content': 'Dr. Rajendra Prasad had three children – two sons named Mrityunjay Prasad and Virendra Prasad, and a daughter named Ved Prabha.'},\n",
       " {'role': 'user', 'content': 'How long he served as President ?'},\n",
       " {'role': 'assistant',\n",
       "  'content': 'Dr. Rajendra Prasad served as the President of India for two consecutive terms, from 1950 to 1957, and from 1957 to 1962, for a total of 12 years.'},\n",
       " {'role': 'user', 'content': 'And his wife name is ?'},\n",
       " {'role': 'assistant',\n",
       "  'content': \"Dr. Rajendra Prasad's wife's name was Rajvanshi Devi.\"},\n",
       " {'role': 'user', 'content': 'when did the marry ?'},\n",
       " {'role': 'assistant',\n",
       "  'content': 'Dr. Rajendra Prasad got married to Rajvanshi Devi in the year 1902, when he was 18 years old.'},\n",
       " {'role': 'user', 'content': 'Who is the inspiration for him ?'},\n",
       " {'role': 'assistant',\n",
       "  'content': \"Dr. Rajendra Prasad was greatly inspired by Mahatma Gandhi, who he saw as a role model in the fight for Indian independence. Under Gandhiji's guidance, Dr. Prasad became involved in the Indian Independence Movement and played an active role in the Salt Satyagraha, Quit India Movement and other movements against British rule in India.\"},\n",
       " {'role': 'user', 'content': 'What was the cause of his death ?'},\n",
       " {'role': 'user', 'content': 'what was the cause of his death ?'},\n",
       " {'role': 'assistant',\n",
       "  'content': 'Dr. Rajendra Prasad died of natural causes on February 28, 1963, at the age of 78. The exact cause of his death has not been publicly disclosed.'},\n",
       " {'role': 'user', 'content': 'END'},\n",
       " {'role': 'assistant', 'content': 'Thank you. Have a good day!'}]"
      ]
     },
     "execution_count": 39,
     "metadata": {},
     "output_type": "execute_result"
    }
   ],
   "source": [
    "indian_tutor.messages"
   ]
  },
  {
   "cell_type": "code",
   "execution_count": 40,
   "id": "c3a72c07",
   "metadata": {},
   "outputs": [],
   "source": [
    "full_text = \"\"\n",
    "for item in indian_tutor.messages:\n",
    "    full_text += item['content']"
   ]
  },
  {
   "cell_type": "code",
   "execution_count": 41,
   "id": "84c5ddfd",
   "metadata": {},
   "outputs": [
    {
     "data": {
      "text/plain": [
       "\"You are Indian History TeacherWho is the first President of IndiaWho is the first President of IndiaThe first President of India was Dr. Rajendra Prasad. He served as the President from 1950 to 1962.When he was born ?Dr. Rajendra Prasad was born on December 3, 1884 in the district of Siwan in Bihar, India.How many childrens does he had ?Dr. Rajendra Prasad had three children – two sons named Mrityunjay Prasad and Virendra Prasad, and a daughter named Ved Prabha.How long he served as President ?Dr. Rajendra Prasad served as the President of India for two consecutive terms, from 1950 to 1957, and from 1957 to 1962, for a total of 12 years.And his wife name is ?Dr. Rajendra Prasad's wife's name was Rajvanshi Devi.when did the marry ?Dr. Rajendra Prasad got married to Rajvanshi Devi in the year 1902, when he was 18 years old.Who is the inspiration for him ?Dr. Rajendra Prasad was greatly inspired by Mahatma Gandhi, who he saw as a role model in the fight for Indian independence. Under Gandhiji's guidance, Dr. Prasad became involved in the Indian Independence Movement and played an active role in the Salt Satyagraha, Quit India Movement and other movements against British rule in India.What was the cause of his death ?what was the cause of his death ?Dr. Rajendra Prasad died of natural causes on February 28, 1963, at the age of 78. The exact cause of his death has not been publicly disclosed.ENDThank you. Have a good day!\""
      ]
     },
     "execution_count": 41,
     "metadata": {},
     "output_type": "execute_result"
    }
   ],
   "source": [
    "full_text"
   ]
  },
  {
   "cell_type": "markdown",
   "id": "7e2df169",
   "metadata": {},
   "source": [
    "***"
   ]
  },
  {
   "cell_type": "code",
   "execution_count": 43,
   "id": "84babcf1",
   "metadata": {},
   "outputs": [],
   "source": [
    "import tiktoken"
   ]
  },
  {
   "cell_type": "code",
   "execution_count": 44,
   "id": "c38bb5ef",
   "metadata": {},
   "outputs": [],
   "source": [
    "def num_tokens_from_string(string, encoding_name):\n",
    "    \"\"\"Returns the number of tokens in a text string.\"\"\"\n",
    "    encoding = tiktoken.get_encoding(encoding_name)\n",
    "    num_tokens = len(encoding.encode(string))\n",
    "    return num_tokens"
   ]
  },
  {
   "cell_type": "code",
   "execution_count": 46,
   "id": "946b79d7",
   "metadata": {},
   "outputs": [
    {
     "data": {
      "text/plain": [
       "250"
      ]
     },
     "execution_count": 46,
     "metadata": {},
     "output_type": "execute_result"
    }
   ],
   "source": [
    "len(full_text.split())"
   ]
  },
  {
   "cell_type": "code",
   "execution_count": 45,
   "id": "deed3d5e",
   "metadata": {},
   "outputs": [
    {
     "data": {
      "text/plain": [
       "367"
      ]
     },
     "execution_count": 45,
     "metadata": {},
     "output_type": "execute_result"
    }
   ],
   "source": [
    "num_tokens_from_string(full_text, 'cl100k_base')"
   ]
  },
  {
   "cell_type": "code",
   "execution_count": null,
   "id": "856c1d28",
   "metadata": {},
   "outputs": [],
   "source": []
  }
 ],
 "metadata": {
  "kernelspec": {
   "display_name": "Python 3 (ipykernel)",
   "language": "python",
   "name": "python3"
  },
  "language_info": {
   "codemirror_mode": {
    "name": "ipython",
    "version": 3
   },
   "file_extension": ".py",
   "mimetype": "text/x-python",
   "name": "python",
   "nbconvert_exporter": "python",
   "pygments_lexer": "ipython3",
   "version": "3.10.11"
  }
 },
 "nbformat": 4,
 "nbformat_minor": 5
}
