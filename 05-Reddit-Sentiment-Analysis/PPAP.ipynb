{
 "cells": [
  {
   "cell_type": "code",
   "execution_count": 4,
   "id": "c7d448a1",
   "metadata": {},
   "outputs": [],
   "source": [
    "# client_id = \"\"\n",
    "# client_secret = \"\""
   ]
  },
  {
   "cell_type": "markdown",
   "id": "136df01c",
   "metadata": {},
   "source": [
    "***"
   ]
  },
  {
   "cell_type": "code",
   "execution_count": 2,
   "id": "89291aff",
   "metadata": {},
   "outputs": [],
   "source": [
    "# !pip install praw"
   ]
  },
  {
   "cell_type": "code",
   "execution_count": 30,
   "id": "56a96b55",
   "metadata": {},
   "outputs": [],
   "source": [
    "import openai\n",
    "import os\n",
    "import praw"
   ]
  },
  {
   "cell_type": "code",
   "execution_count": 32,
   "id": "9b813128",
   "metadata": {},
   "outputs": [],
   "source": [
    "openai.api_key = os.getenv('OPENAI_API_KEY')"
   ]
  },
  {
   "cell_type": "markdown",
   "id": "d983b4a0",
   "metadata": {},
   "source": [
    "***"
   ]
  },
  {
   "cell_type": "code",
   "execution_count": 5,
   "id": "10830523",
   "metadata": {},
   "outputs": [],
   "source": [
    "reddit = praw.Reddit(client_id=client_id,\n",
    "                     client_secret = client_secret,\n",
    "                     user_agent = 'Sentiment Analysis test')"
   ]
  },
  {
   "cell_type": "code",
   "execution_count": 6,
   "id": "ecba70f0",
   "metadata": {},
   "outputs": [
    {
     "data": {
      "text/plain": [
       "<praw.models.listing.generator.ListingGenerator at 0x235225c7d30>"
      ]
     },
     "execution_count": 6,
     "metadata": {},
     "output_type": "execute_result"
    }
   ],
   "source": [
    "reddit.subreddit(\"finance\").hot(limit=5)"
   ]
  },
  {
   "cell_type": "code",
   "execution_count": 8,
   "id": "33103c33",
   "metadata": {},
   "outputs": [
    {
     "name": "stdout",
     "output_type": "stream",
     "text": [
      "Moronic Monday - May 02, 2023 - Your Weekly Questions Thread\n",
      "We are Wall Street Journal reporters covering the collapse of SVB. Ask us anything.\n",
      "SEC Issues Largest-Ever Whistleblower Award $279M\n",
      "Three failed US banks had one thing in common: KPMG — Big Four auditor’s work for SVB, Signature and First Republic comes under scrutiny in aftermath of their collapses\n",
      "FDIC recommends overhauling US insurance deposit system\n"
     ]
    }
   ],
   "source": [
    "for submission in reddit.subreddit('finance').hot(limit=5): # reddit.com/r/finance\n",
    "    print(submission.title)"
   ]
  },
  {
   "cell_type": "code",
   "execution_count": 9,
   "id": "09cdab06",
   "metadata": {},
   "outputs": [
    {
     "name": "stdout",
     "output_type": "stream",
     "text": [
      "Rate My Portfolio - r/Stocks Quarterly Thread March 2023\n",
      "r/Stocks Daily Discussion & Fundamentals Friday May 05, 2023\n",
      "April Jobs Report: 253k vs 185k exp. Unemployment 3.4% vs 3.6% exp. Wage Growth 0.5% vs 0.3% exp.\n",
      "SEC Issues Largest-Ever Whistleblower Award 279M usd\n",
      "Square Earnings top estimates, CashApp grows by 49% YoY\n"
     ]
    }
   ],
   "source": [
    "for submission in reddit.subreddit('stocks').hot(limit=5):  # reddit.com/r/stocks\n",
    "    print(submission.title)"
   ]
  },
  {
   "cell_type": "markdown",
   "id": "82409418",
   "metadata": {},
   "source": [
    "***"
   ]
  },
  {
   "cell_type": "code",
   "execution_count": 10,
   "id": "dd9d7ef8",
   "metadata": {},
   "outputs": [],
   "source": [
    "subreddit_stocks = reddit.subreddit('stocks')"
   ]
  },
  {
   "cell_type": "code",
   "execution_count": 11,
   "id": "3094c5d6",
   "metadata": {},
   "outputs": [
    {
     "data": {
      "text/plain": [
       "'stocks'"
      ]
     },
     "execution_count": 11,
     "metadata": {},
     "output_type": "execute_result"
    }
   ],
   "source": [
    "subreddit_stocks.display_name"
   ]
  },
  {
   "cell_type": "code",
   "execution_count": 12,
   "id": "3e313dd6",
   "metadata": {},
   "outputs": [
    {
     "data": {
      "text/plain": [
       "'Stocks - Investing and trading for all'"
      ]
     },
     "execution_count": 12,
     "metadata": {},
     "output_type": "execute_result"
    }
   ],
   "source": [
    "subreddit_stocks.title"
   ]
  },
  {
   "cell_type": "code",
   "execution_count": 13,
   "id": "9d6ad405",
   "metadata": {},
   "outputs": [
    {
     "data": {
      "text/plain": [
       "4423"
      ]
     },
     "execution_count": 13,
     "metadata": {},
     "output_type": "execute_result"
    }
   ],
   "source": [
    "subreddit_stocks.active_user_count"
   ]
  },
  {
   "cell_type": "code",
   "execution_count": null,
   "id": "d02918e7",
   "metadata": {},
   "outputs": [],
   "source": []
  },
  {
   "cell_type": "code",
   "execution_count": 14,
   "id": "c51614e7",
   "metadata": {},
   "outputs": [
    {
     "name": "stdout",
     "output_type": "stream",
     "text": [
      "Rate My Portfolio - r/Stocks Quarterly Thread March 2023\n",
      "r/Stocks Daily Discussion & Fundamentals Friday May 05, 2023\n",
      "April Jobs Report: 253k vs 185k exp. Unemployment 3.4% vs 3.6% exp. Wage Growth 0.5% vs 0.3% exp.\n",
      "SEC Issues Largest-Ever Whistleblower Award 279M usd\n",
      "Square Earnings top estimates, CashApp grows by 49% YoY\n"
     ]
    }
   ],
   "source": [
    "for post in subreddit_stocks.hot(limit=5):\n",
    "    print(post.title)"
   ]
  },
  {
   "cell_type": "code",
   "execution_count": 15,
   "id": "ac26dfdd",
   "metadata": {},
   "outputs": [
    {
     "name": "stdout",
     "output_type": "stream",
     "text": [
      "11ezwar\n",
      "138gdk4\n",
      "138kubq\n",
      "138uzjb\n",
      "138h575\n"
     ]
    }
   ],
   "source": [
    "for post in subreddit_stocks.hot(limit=5):\n",
    "    print(post.id)"
   ]
  },
  {
   "cell_type": "markdown",
   "id": "9d742c5d",
   "metadata": {},
   "source": [
    "***"
   ]
  },
  {
   "cell_type": "code",
   "execution_count": 17,
   "id": "1f96da8f",
   "metadata": {},
   "outputs": [
    {
     "name": "stdout",
     "output_type": "stream",
     "text": [
      "Title - Rate My Portfolio - r/Stocks Quarterly Thread March 2023\n",
      "I am 26, so I have several decades until retirement. My goal is to hold the stocks in my portfolio perpetually, though I'm not reserved to make adjustments and sell when a) I see an opportunity to take profits b) my thesis changes. My long term goal is passive income generation, though I don't chase yields. I don't pay much attention to valuation or macro, as I think that since I plan on holding these stocks for decades while buying every month, those don't matter to me much. I invest regularly every month, so I'm okay with buying at a higher valuation at times and lower valuation at other times. In my opinion, buying at the best possible time is more difficult than buying a good company. That said, if I see an undervalued stock I like, I don't hesitate to buy more and when I make my regular contributions, I try weigh towards stocks that might have been beaten down or seem undervalued. My last review in one of these was [Dec 2021](https://www.reddit.com/r/stocks/comments/r6bdjt/rate_my_portfolio_rstocks_quarterly_thread/hn1ot2t/). Since then, I have made some adjustments, mostly by researching new companies and updating what I focus on when doing my analysis. I am pretty comfortable with my current portfolio and can see myself holding any of these companies for decades (that surely won't be the case, but I'm okay with that; not all of these will be good investments, but most of them should, I think).\n",
      "\n",
      "My goal is not doing 50% in a year or buying low and selling high. My goal is to outperform the index modestly, at maybe 2-3% annually, which would compound very nicely over decades. I'm okay with the risk that I underperform at a modest rate. I want to avoid making drastic changes to my portfolio depending on macro environment.\n",
      "\n",
      "I like stocks that are quality companies with:\n",
      "\n",
      "-\tA sustainable business model - high cash flow generation, high ROIC / ROCE, good balance sheet. Bonus points for recurring, diversified revenue, and optionality.\n",
      "-\tBusiness model and products I understand, or at least understand their value. I don't think I'll ever understand ASML's machines, but I understand why it's one of a kind company.\n",
      "-\tA wide moat. Bonus points are for brand value, network effect, IP, barriers to entry / high switching costs, supply chain, etc. I am okay with paying a high multiple for a company that cannot be replicated by throwing money at the problem. Almost every company I own scores very high in this regard in my own checklist.\n",
      "-\tHigh margins. I focus mostly on gross margin, but consider other margin metrics, too.\n",
      "-\tSustainable buybacks and dividend growth.\n",
      "-\tGreat management.\n",
      "\n",
      "Not every company I own scores high in each of these, but together they fit my investment goals very well.\n",
      "\n",
      "I used to have an allocation for growth in my portfolio, but overtime, I have decided to fully target quality companies and compounders with a great track record. I realized that it is never too late to buy into a company once it becomes profitable and sustainable. And if I miss a few 10-baggers because of restraint from unprofitable companies, I'll be okay with that.\n",
      "\n",
      "My current allocation is 96% equity, with the rest being a single commodity holding - a carbon allowance ETF (CARB on BIT)\n",
      "\n",
      "Of the 96% equity, 1/3 (32%) is in diversified ETFs:\n",
      "\n",
      "| **Name**                 | **Target allocation** |\n",
      "|--------------------------|----------------------:|\n",
      "| **MSCI World**           | 14,0%                 |\n",
      "| **MSCI World Quality**           | 10,0%                 |\n",
      "| **MSCI World Small Cap** | 4,0%                  |\n",
      "| **MSCI EM IMI**          | 4,0%                  |\n",
      "\n",
      "The other 2/3s are stocks, structured as following, ordered by my target weight (descending):\n",
      "\n",
      "| **Name**                        | **Ticker** | **Target allocation** |\n",
      "|---------------------------------|:----------:|----------------------:|\n",
      "| **Microsoft**                   | MSFT       | 6,00%                 |\n",
      "| **Apple**                       | AAPL       | 5,50%                 |\n",
      "| **ASML Holding**                | ASML       | 5,50%                 |\n",
      "| **Brookfield Corporation**      | BN         | 4,00%                 |\n",
      "| **Costco**                      | COST       | 4,00%                 |\n",
      "| **MasterCard**                  | MA         | 4,00%                 |\n",
      "| **Novo Nordisk**                | NVO        | 4,00%                 |\n",
      "| **Ulta Beauty**                 | ULTA       | 4,00%                 |\n",
      "| **Visa**                        | V          | 4,00%                 |\n",
      "| **Alphabet**                    | GOOG       | 4,00%                 |\n",
      "| **Johnson and Johnson**         | JNJ        | 3,00%                 |\n",
      "| **Home Depot**                  | HD         | 3,00%                 |\n",
      "| **Lockheed Martin**             | LMT        | 3,00%                 |\n",
      "| **Union Pacific**               | UNP        | 3,00%                 |\n",
      "| **Intuitive Surgical**          | ISRG       | 2,50%                 |\n",
      "| **Adobe**                       | ADBE       | 2,50%                 |\n",
      "| **Brookfield Asset Management** | BAM        | 2,00%                 |\n",
      "\n",
      "Edit: I also have two retirement accounts that are both 100% MSCI World.\n",
      "GOOG 41% AMZN 31% MSFT 21% AAPL 6% currently up 11% as I only started this year. So as to not ruin my good work thus far I’m going to DCA the s and p going forward\n",
      "------------------------------------------------------------\n",
      "Title - r/Stocks Daily Discussion & Fundamentals Friday May 05, 2023\n",
      "March payrolls revised from 236K to 165K. Instead of a beat, would have been a huge miss (exp. was 230K).\n",
      "Today payrolls 253k vs exp 185k, a huge beat but i am wondering if they will revise it next month lol\n",
      "Jobs exceed by 70K.  Rate cut bois in shambles.\n",
      "\n",
      "Get passed the debt ceiling and the market may rip to 4500.\n",
      "------------------------------------------------------------\n",
      "Title - April Jobs Report: 253k vs 185k exp. Unemployment 3.4% vs 3.6% exp. Wage Growth 0.5% vs 0.3% exp.\n",
      "…yet March’s NFP was revised down from 236,000 to 165,000, and February’s NFP was also revised down from 326,000 to 248,000. What’s the deal with that?\n",
      "june rate hike\n",
      "\n",
      "calling it\n",
      "------------------------------------------------------------\n",
      "Title - SEC Issues Largest-Ever Whistleblower Award 279M usd\n",
      "So this random check came in my mailbox for $279m, not sure if it’s a mistake but anyone want to come party with me?\n",
      "Jesus Christ. I always thought the fastest way to to mega rich money was go to a startup and pray it goes public. \n",
      "\n",
      "Guess I’m applying to only shady ass companies from now on.\n",
      "------------------------------------------------------------\n",
      "Title - Square Earnings top estimates, CashApp grows by 49% YoY\n",
      "I am glad I am not the only who still calls it Square lol. Everyone was like just give it some time and you will get used to the name Block. Still haven’t even come close to getting used to it and I still think it sounds terrible.\n",
      "These earnings are non-GAAP, shareholders are still being shafted and this $40b company makes no money whatsoever. $300m of share based compensation which they expect to rise next quarter.\n",
      "\n",
      "In general: any large cap company that reports non-GAAP should be avoided as they are clearly anxious about their actual results sucking donkey ass.\n",
      "------------------------------------------------------------\n"
     ]
    }
   ],
   "source": [
    "for post in subreddit_stocks.hot(limit=5):\n",
    "    print(f\"Title - {post.title}\")\n",
    "    submission = reddit.submission(post.id)\n",
    "    \n",
    "    # top 2 comments per title\n",
    "    counter=0\n",
    "    for comment in submission.comments:\n",
    "        print(comment.body)\n",
    "        counter+=1\n",
    "        if counter == 2:\n",
    "            break\n",
    "    print(\"-\"*60)"
   ]
  },
  {
   "cell_type": "markdown",
   "id": "0f66f6ea",
   "metadata": {},
   "source": [
    "***"
   ]
  },
  {
   "cell_type": "code",
   "execution_count": 18,
   "id": "905de2c9",
   "metadata": {},
   "outputs": [],
   "source": [
    "def get_title_and_comments(subreddit=\"stocks\", limit=6, no_comments=2, skip_first=2):\n",
    "    subreddit = reddit.subreddit(subreddit)\n",
    "    \n",
    "    title_and_comments = {}\n",
    "    \n",
    "    for counter, post in enumerate(subreddit.hot(limit=limit)):\n",
    "        \n",
    "        if counter < skip_first:\n",
    "            continue\n",
    "        \n",
    "        counter += (1-skip_first)\n",
    "        \n",
    "        title_and_comments[counter] = \"\"\n",
    "        \n",
    "        submission = reddit.submission(post.id)\n",
    "        title = post.title\n",
    "        \n",
    "        title_and_comments[counter] += \"Title: \"+title+\"\\n\\n\"\n",
    "        title_and_comments[counter] += \"Comments: \\n\\n\"\n",
    "        \n",
    "        comment_counter = 0\n",
    "        \n",
    "        for comment in submission.comments:\n",
    "            if not comment.body == '[deleted]':\n",
    "                title_and_comments[counter] += comment.body+\"\\n\"\n",
    "                comment_counter += 1\n",
    "            if comment_counter == no_comments:\n",
    "                break\n",
    "    \n",
    "    return title_and_comments"
   ]
  },
  {
   "cell_type": "code",
   "execution_count": 19,
   "id": "407e5c9e",
   "metadata": {},
   "outputs": [],
   "source": [
    "titles_and_comments = get_title_and_comments()"
   ]
  },
  {
   "cell_type": "code",
   "execution_count": 23,
   "id": "822d5c5f",
   "metadata": {},
   "outputs": [
    {
     "name": "stdout",
     "output_type": "stream",
     "text": [
      "Title: SEC Issues Largest-Ever Whistleblower Award 279M usd\n",
      "\n",
      "Comments: \n",
      "\n",
      "So this random check came in my mailbox for $279m, not sure if it’s a mistake but anyone want to come party with me?\n",
      "Jesus Christ. I always thought the fastest way to to mega rich money was go to a startup and pray it goes public. \n",
      "\n",
      "Guess I’m applying to only shady ass companies from now on.\n",
      "\n"
     ]
    }
   ],
   "source": [
    "print(titles_and_comments[2])"
   ]
  },
  {
   "cell_type": "code",
   "execution_count": 25,
   "id": "2f946a32",
   "metadata": {},
   "outputs": [],
   "source": [
    "def create_prompt(title_and_comments):\n",
    "\n",
    "    task = \"Return the stock ticker or company in the following heading and comments and classify the sentiment. If no ticker or company is mentioned write 'No company mentioned':\\n\\n\"\n",
    "    return task + title_and_comments\n"
   ]
  },
  {
   "cell_type": "code",
   "execution_count": 29,
   "id": "5a2d2302",
   "metadata": {},
   "outputs": [
    {
     "name": "stdout",
     "output_type": "stream",
     "text": [
      "Return the stock ticker or company in the following heading and comments and classify the sentiment. If no ticker or company is mentioned write 'No company mentioned':\n",
      "\n",
      "Title: SEC Issues Largest-Ever Whistleblower Award 279M usd\n",
      "\n",
      "Comments: \n",
      "\n",
      "So this random check came in my mailbox for $279m, not sure if it’s a mistake but anyone want to come party with me?\n",
      "Jesus Christ. I always thought the fastest way to to mega rich money was go to a startup and pray it goes public. \n",
      "\n",
      "Guess I’m applying to only shady ass companies from now on.\n",
      "\n"
     ]
    }
   ],
   "source": [
    "print(create_prompt(titles_and_comments[2]))"
   ]
  },
  {
   "cell_type": "markdown",
   "id": "f8e1b845",
   "metadata": {},
   "source": [
    "***"
   ]
  },
  {
   "cell_type": "code",
   "execution_count": 35,
   "id": "63635753",
   "metadata": {},
   "outputs": [
    {
     "name": "stdout",
     "output_type": "stream",
     "text": [
      "Title: April Jobs Report: 253k vs 185k exp. Unemployment 3.4% vs 3.6% exp. Wage Growth 0.5% vs 0.3% exp.\n",
      "\n",
      "Comments: \n",
      "\n",
      "…yet March’s NFP was revised down from 236,000 to 165,000, and February’s NFP was also revised down from 326,000 to 248,000. What’s the deal with that?\n",
      "june rate hike\n",
      "\n",
      "calling it\n",
      "\n",
      "Sentiment Report from OPENAI\n",
      "\n",
      "No company mentioned\n",
      "----------------------------------------------------------------------------------------------------\n",
      "Title: SEC Issues Largest-Ever Whistleblower Award 279M usd\n",
      "\n",
      "Comments: \n",
      "\n",
      "So this random check came in my mailbox for $279m, not sure if it’s a mistake but anyone want to come party with me?\n",
      "Jesus Christ. I always thought the fastest way to to mega rich money was go to a startup and pray it goes public. \n",
      "\n",
      "Guess I’m applying to only shady ass companies from now on.\n",
      "\n",
      "Sentiment Report from OPENAI\n",
      "\n",
      "No company mentioned\n",
      "----------------------------------------------------------------------------------------------------\n",
      "Title: Square Earnings top estimates, CashApp grows by 49% YoY\n",
      "\n",
      "Comments: \n",
      "\n",
      "I am glad I am not the only who still calls it Square lol. Everyone was like just give it some time and you will get used to the name Block. Still haven’t even come close to getting used to it and I still think it sounds terrible.\n",
      "These earnings are non-GAAP, shareholders are still being shafted and this $40b company makes no money whatsoever. $300m of share based compensation which they expect to rise next quarter.\n",
      "\n",
      "In general: any large cap company that reports non-GAAP should be avoided as they are clearly anxious about their actual results sucking donkey ass.\n",
      "\n",
      "Sentiment Report from OPENAI\n",
      "\n",
      "Company: Square \n",
      "Sentiment: Negative\n",
      "----------------------------------------------------------------------------------------------------\n",
      "Title: Bagholders of DKNG, what's your plan? (2023 version)\n",
      "\n",
      "Comments: \n",
      "\n",
      "I remember those good old days, I feel sorry for the $70 bagholders.\n",
      "You should have averaged down.\n",
      "\n",
      "Sentiment Report from OPENAI\n",
      "\n",
      "Ticker: DKNG\n",
      "Sentiment: Negative\n",
      "----------------------------------------------------------------------------------------------------\n"
     ]
    }
   ],
   "source": [
    "for key, titles_with_comments in titles_and_comments.items():\n",
    "    prompt = create_prompt(titles_with_comments)\n",
    "    \n",
    "    response = openai.Completion.create(engine = 'text-davinci-003',\n",
    "                                        prompt = prompt,\n",
    "                                        max_tokens=256,\n",
    "                                        temperature=0,\n",
    "                                        top_p=1.0)\n",
    "    print(titles_with_comments)\n",
    "    print(\"Sentiment Report from OPENAI\")\n",
    "    print(response['choices'][0]['text'])\n",
    "    print(\"-\"*100)"
   ]
  },
  {
   "cell_type": "code",
   "execution_count": null,
   "id": "672e3b75",
   "metadata": {},
   "outputs": [],
   "source": []
  }
 ],
 "metadata": {
  "kernelspec": {
   "display_name": "Python 3 (ipykernel)",
   "language": "python",
   "name": "python3"
  },
  "language_info": {
   "codemirror_mode": {
    "name": "ipython",
    "version": 3
   },
   "file_extension": ".py",
   "mimetype": "text/x-python",
   "name": "python",
   "nbconvert_exporter": "python",
   "pygments_lexer": "ipython3",
   "version": "3.10.11"
  }
 },
 "nbformat": 4,
 "nbformat_minor": 5
}
