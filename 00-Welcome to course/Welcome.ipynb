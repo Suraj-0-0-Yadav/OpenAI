{
 "cells": [
  {
   "cell_type": "code",
   "execution_count": 2,
   "id": "ba88c3f1",
   "metadata": {},
   "outputs": [],
   "source": [
    "# !pip install openai"
   ]
  },
  {
   "cell_type": "markdown",
   "id": "ab7fc6a9",
   "metadata": {},
   "source": [
    "***"
   ]
  },
  {
   "cell_type": "code",
   "execution_count": 1,
   "id": "e6f5648a",
   "metadata": {},
   "outputs": [],
   "source": [
    "import openai"
   ]
  },
  {
   "cell_type": "code",
   "execution_count": 2,
   "id": "bbedce45",
   "metadata": {},
   "outputs": [],
   "source": [
    "import os"
   ]
  },
  {
   "cell_type": "code",
   "execution_count": 6,
   "id": "efaecda9",
   "metadata": {},
   "outputs": [],
   "source": [
    "# os.environ['OPENAI_API_KEY'] = \"your openai key here ############ \""
   ]
  },
  {
   "cell_type": "code",
   "execution_count": 9,
   "id": "7e8a7277",
   "metadata": {},
   "outputs": [],
   "source": [
    "# os.getenv('OPENAI_API_KEY')"
   ]
  },
  {
   "cell_type": "code",
   "execution_count": 3,
   "id": "8412c393",
   "metadata": {},
   "outputs": [],
   "source": [
    "os.getenv('OPENAI_API_KEY')[-3:]"
   ]
  },
  {
   "cell_type": "markdown",
   "id": "8e3286a4",
   "metadata": {},
   "source": [
    "***"
   ]
  },
  {
   "cell_type": "code",
   "execution_count": 16,
   "id": "ee57206a",
   "metadata": {},
   "outputs": [],
   "source": [
    "openai.api_key = os.getenv('OPENAI_API_KEY')"
   ]
  },
  {
   "cell_type": "code",
   "execution_count": 18,
   "id": "9e52cf4e",
   "metadata": {},
   "outputs": [],
   "source": [
    "response = openai.Completion.create(\n",
    "                        model = 'text-davinci-003',\n",
    "                        prompt = 'Give two reasons why Python is not useful ?',\n",
    "                        max_tokens = 300)"
   ]
  },
  {
   "cell_type": "code",
   "execution_count": 19,
   "id": "216dc283",
   "metadata": {},
   "outputs": [
    {
     "data": {
      "text/plain": [
       "<OpenAIObject text_completion id=cmpl-7AKuIuebpRwSeAzZ4u7kClRanmulJ at 0x22910047330> JSON: {\n",
       "  \"choices\": [\n",
       "    {\n",
       "      \"finish_reason\": \"stop\",\n",
       "      \"index\": 0,\n",
       "      \"logprobs\": null,\n",
       "      \"text\": \"\\n\\n1. Python does not offer the best performance for large, complex computations. It is generally slower than more heavily optimized languages such as C and C++. \\n\\n2. Python does not have some of the advanced features that other languages like Java or C++ have, such as support for object-oriented programming.\"\n",
       "    }\n",
       "  ],\n",
       "  \"created\": 1682698002,\n",
       "  \"id\": \"cmpl-7AKuIuebpRwSeAzZ4u7kClRanmulJ\",\n",
       "  \"model\": \"text-davinci-003\",\n",
       "  \"object\": \"text_completion\",\n",
       "  \"usage\": {\n",
       "    \"completion_tokens\": 67,\n",
       "    \"prompt_tokens\": 9,\n",
       "    \"total_tokens\": 76\n",
       "  }\n",
       "}"
      ]
     },
     "execution_count": 19,
     "metadata": {},
     "output_type": "execute_result"
    }
   ],
   "source": [
    "response"
   ]
  },
  {
   "cell_type": "code",
   "execution_count": 21,
   "id": "7334aec0",
   "metadata": {},
   "outputs": [
    {
     "name": "stdout",
     "output_type": "stream",
     "text": [
      "\n",
      "\n",
      "1. Python does not offer the best performance for large, complex computations. It is generally slower than more heavily optimized languages such as C and C++. \n",
      "\n",
      "2. Python does not have some of the advanced features that other languages like Java or C++ have, such as support for object-oriented programming.\n"
     ]
    }
   ],
   "source": [
    "print(response['choices'][0]['text'])"
   ]
  },
  {
   "cell_type": "code",
   "execution_count": null,
   "id": "11349605",
   "metadata": {},
   "outputs": [],
   "source": []
  }
 ],
 "metadata": {
  "kernelspec": {
   "display_name": "Python 3 (ipykernel)",
   "language": "python",
   "name": "python3"
  },
  "language_info": {
   "codemirror_mode": {
    "name": "ipython",
    "version": 3
   },
   "file_extension": ".py",
   "mimetype": "text/x-python",
   "name": "python",
   "nbconvert_exporter": "python",
   "pygments_lexer": "ipython3",
   "version": "3.10.11"
  }
 },
 "nbformat": 4,
 "nbformat_minor": 5
}
