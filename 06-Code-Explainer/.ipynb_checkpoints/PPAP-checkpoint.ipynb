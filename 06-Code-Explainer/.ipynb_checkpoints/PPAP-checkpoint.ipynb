{
 "cells": [
  {
   "cell_type": "code",
   "execution_count": 1,
   "id": "b5d77482",
   "metadata": {},
   "outputs": [],
   "source": [
    "import openai\n",
    "import os"
   ]
  },
  {
   "cell_type": "code",
   "execution_count": 2,
   "id": "30b02acc",
   "metadata": {},
   "outputs": [],
   "source": [
    "openai.api_key = os.getenv('OPENAI_API_KEY')"
   ]
  },
  {
   "cell_type": "markdown",
   "id": "ea7fc979",
   "metadata": {},
   "source": [
    "***"
   ]
  },
  {
   "cell_type": "code",
   "execution_count": 6,
   "id": "bef561e6",
   "metadata": {},
   "outputs": [],
   "source": [
    "def hello(name):\n",
    "    print(f\"Hello, {name}\")"
   ]
  },
  {
   "cell_type": "code",
   "execution_count": 7,
   "id": "fa2abf14",
   "metadata": {},
   "outputs": [
    {
     "name": "stdout",
     "output_type": "stream",
     "text": [
      "Hello, Suraj\n"
     ]
    }
   ],
   "source": [
    "hello(\"Suraj\")"
   ]
  },
  {
   "cell_type": "code",
   "execution_count": null,
   "id": "85c03709",
   "metadata": {},
   "outputs": [],
   "source": []
  },
  {
   "cell_type": "code",
   "execution_count": 29,
   "id": "49f2bbcd",
   "metadata": {},
   "outputs": [],
   "source": [
    "def docstring_prompt(code):\n",
    "    return f\"{code}\\n # A high quality Python docstring of the above Python function:\\n \\\"\\\"\\\" \""
   ]
  },
  {
   "cell_type": "code",
   "execution_count": null,
   "id": "b2cefdd3",
   "metadata": {},
   "outputs": [],
   "source": []
  },
  {
   "cell_type": "code",
   "execution_count": 31,
   "id": "7a688a65",
   "metadata": {},
   "outputs": [],
   "source": [
    "import inspect"
   ]
  },
  {
   "cell_type": "code",
   "execution_count": 32,
   "id": "4644ab96",
   "metadata": {},
   "outputs": [
    {
     "data": {
      "text/plain": [
       "'def hello(name):\\n    print(f\"Hello, {name}\")\\n'"
      ]
     },
     "execution_count": 32,
     "metadata": {},
     "output_type": "execute_result"
    }
   ],
   "source": [
    "inspect.getsource(hello)"
   ]
  },
  {
   "cell_type": "code",
   "execution_count": 33,
   "id": "94aededd",
   "metadata": {},
   "outputs": [
    {
     "name": "stdout",
     "output_type": "stream",
     "text": [
      "def hello(name):\n",
      "    print(f\"Hello, {name}\")\n",
      "\n"
     ]
    }
   ],
   "source": [
    "print(inspect.getsource(hello))"
   ]
  },
  {
   "cell_type": "code",
   "execution_count": null,
   "id": "5858abd9",
   "metadata": {},
   "outputs": [],
   "source": []
  },
  {
   "cell_type": "code",
   "execution_count": 41,
   "id": "87d926d0",
   "metadata": {},
   "outputs": [
    {
     "name": "stdout",
     "output_type": "stream",
     "text": [
      "def hello(name):\n",
      "    print(f\"Hello, {name}\")\n",
      "\n",
      " # A high quality Python docstring of the above Python function:\n",
      " \"\"\" \n"
     ]
    }
   ],
   "source": [
    "print(docstring_prompt(inspect.getsource(hello)))"
   ]
  },
  {
   "cell_type": "code",
   "execution_count": null,
   "id": "48a49c65",
   "metadata": {},
   "outputs": [],
   "source": []
  },
  {
   "cell_type": "code",
   "execution_count": 23,
   "id": "3679a35c",
   "metadata": {},
   "outputs": [],
   "source": [
    "response = openai.Completion.create(engine = 'text-davinci-003',\n",
    "                                    prompt = docstring_prompt(inspect.getsource(hello)),\n",
    "                                    temperature = 0,\n",
    "                                    max_tokens = 256,\n",
    "                                    top_p = 1.0,\n",
    "                                    stop = [\"\\\"\\\"\\\"\"]\n",
    "                                   )"
   ]
  },
  {
   "cell_type": "code",
   "execution_count": 25,
   "id": "bc2b1d36",
   "metadata": {},
   "outputs": [],
   "source": [
    "text = response['choices'][0]['text']"
   ]
  },
  {
   "cell_type": "code",
   "execution_count": 64,
   "id": "eb86bfff",
   "metadata": {},
   "outputs": [
    {
     "data": {
      "text/plain": [
       "'\\nThis function prints a greeting to the given name.\\n\\nParameters:\\nname (str): The name of the person to greet.\\n\\nReturns:\\nNone\\n '"
      ]
     },
     "execution_count": 64,
     "metadata": {},
     "output_type": "execute_result"
    }
   ],
   "source": [
    "text"
   ]
  },
  {
   "cell_type": "code",
   "execution_count": 59,
   "id": "5430d542",
   "metadata": {},
   "outputs": [
    {
     "name": "stdout",
     "output_type": "stream",
     "text": [
      "\n",
      "This function prints a greeting to the given name.\n",
      "\n",
      "Parameters:\n",
      "name (str): The name of the person to greet.\n",
      "\n",
      "Returns:\n",
      "None\n",
      " \n"
     ]
    }
   ],
   "source": [
    "print(text)"
   ]
  },
  {
   "cell_type": "code",
   "execution_count": 74,
   "id": "3caa99f3",
   "metadata": {},
   "outputs": [
    {
     "name": "stdout",
     "output_type": "stream",
     "text": [
      "\n",
      "    This function prints a greeting to the given name.\n",
      "\n",
      "    Parameters:\n",
      "    name (str): The name of the person to greet.\n",
      "\n",
      "    Returns:\n",
      "    None\n",
      "     \n"
     ]
    }
   ],
   "source": [
    "print(\"\\n\".join([\"    \"+line if line != '' else line for line in text.split(\"\\n\")]))"
   ]
  },
  {
   "cell_type": "code",
   "execution_count": 55,
   "id": "5cbb7e8a",
   "metadata": {},
   "outputs": [
    {
     "name": "stdout",
     "output_type": "stream",
     "text": [
      "def hello(name):\n",
      "    print(f\"Hello, {name}\")\n",
      "\n"
     ]
    }
   ],
   "source": [
    "print(inspect.getsource(hello))"
   ]
  },
  {
   "cell_type": "code",
   "execution_count": 56,
   "id": "c59daa4d",
   "metadata": {},
   "outputs": [
    {
     "data": {
      "text/plain": [
       "['def hello(name):', '    print(f\"Hello, {name}\")', '']"
      ]
     },
     "execution_count": 56,
     "metadata": {},
     "output_type": "execute_result"
    }
   ],
   "source": [
    "inspect.getsource(hello).split('\\n')"
   ]
  },
  {
   "cell_type": "code",
   "execution_count": null,
   "id": "c730f6ba",
   "metadata": {},
   "outputs": [],
   "source": []
  },
  {
   "cell_type": "code",
   "execution_count": 91,
   "id": "eadc7197",
   "metadata": {},
   "outputs": [],
   "source": [
    "def merge_function_and_docstring(original_function, docstring):\n",
    "    original_function = inspect.getsource(original_function)\n",
    "    \n",
    "    docstring = \"\\n\".join([\"    \"+line if line != '' else line for line in docstring.split(\"\\n\")])\n",
    "    \n",
    "    function_split = original_function.split('\\n')\n",
    "    \n",
    "    function_def = function_split[0]+\"\\n    '''\\n\"\n",
    "    function_def_doc = function_def+docstring+\"\\n    '''\"\n",
    "    \n",
    "    final_fun = function_def_doc+\"\\n\"+\"\\n\".join(function_split[1:])\n",
    "    \n",
    "    return final_fun"
   ]
  },
  {
   "cell_type": "code",
   "execution_count": 93,
   "id": "07351d4d",
   "metadata": {},
   "outputs": [
    {
     "name": "stdout",
     "output_type": "stream",
     "text": [
      "def hello(name):\n",
      "    '''\n",
      "\n",
      "    This function prints a greeting to the given name.\n",
      "\n",
      "    Parameters:\n",
      "    name (str): The name of the person to greet.\n",
      "\n",
      "    Returns:\n",
      "    None\n",
      "     \n",
      "    '''\n",
      "    print(f\"Hello, {name}\")\n",
      "\n"
     ]
    }
   ],
   "source": [
    "print(merge_function_and_docstring(hello,text))"
   ]
  },
  {
   "cell_type": "markdown",
   "id": "695134c6",
   "metadata": {},
   "source": [
    "***"
   ]
  },
  {
   "cell_type": "code",
   "execution_count": 94,
   "id": "6cfdeb6f",
   "metadata": {},
   "outputs": [],
   "source": [
    "def test_function(test, num_questions):\n",
    "    student_view = {1 : \"\"}\n",
    "    question_number = 1\n",
    "    for line in test.split(\"\\n\"):\n",
    "        if not line.startswith(\"Correct Answer:\"):\n",
    "            student_view[question_number] += line+\"\\n\"\n",
    "        else:\n",
    "\n",
    "            if question_number < num_questions:\n",
    "                question_number+=1\n",
    "                student_view[question_number] = \"\"\n",
    "    return student_view\n"
   ]
  },
  {
   "cell_type": "code",
   "execution_count": 96,
   "id": "c31c08dc",
   "metadata": {},
   "outputs": [],
   "source": [
    "response = openai.Completion.create(engine = 'text-davinci-003',\n",
    "                                    prompt = docstring_prompt(inspect.getsource(test_function)),\n",
    "                                    temperature = 0,\n",
    "                                    max_tokens = 256,\n",
    "                                    top_p = 1.0,\n",
    "                                    stop = [\"\\\"\\\"\\\"\"]\n",
    "                                   )"
   ]
  },
  {
   "cell_type": "code",
   "execution_count": 97,
   "id": "4d38b55b",
   "metadata": {},
   "outputs": [],
   "source": [
    "text = response['choices'][0]['text']"
   ]
  },
  {
   "cell_type": "code",
   "execution_count": 100,
   "id": "7a702ba3",
   "metadata": {},
   "outputs": [
    {
     "name": "stdout",
     "output_type": "stream",
     "text": [
      "def test_function(test, num_questions):\n",
      "    '''\n",
      "\n",
      "    This function takes in a test string and the number of questions in the test as parameters and returns a dictionary with the questions as keys and the corresponding question text as values.\n",
      "\n",
      "    Parameters:\n",
      "    test (str): The test string.\n",
      "    num_questions (int): The number of questions in the test.\n",
      "\n",
      "    Returns:\n",
      "    student_view (dict): A dictionary with the questions as keys and the corresponding question text as values.\n",
      "\n",
      "\n",
      "    '''\n",
      "    student_view = {1 : \"\"}\n",
      "    question_number = 1\n",
      "    for line in test.split(\"\\n\"):\n",
      "        if not line.startswith(\"Correct Answer:\"):\n",
      "            student_view[question_number] += line+\"\\n\"\n",
      "        else:\n",
      "\n",
      "            if question_number < num_questions:\n",
      "                question_number+=1\n",
      "                student_view[question_number] = \"\"\n",
      "    return student_view\n",
      "\n"
     ]
    }
   ],
   "source": [
    "print(merge_function_and_docstring(test_function, text))"
   ]
  },
  {
   "cell_type": "code",
   "execution_count": null,
   "id": "8a388054",
   "metadata": {},
   "outputs": [],
   "source": []
  }
 ],
 "metadata": {
  "kernelspec": {
   "display_name": "Python 3 (ipykernel)",
   "language": "python",
   "name": "python3"
  },
  "language_info": {
   "codemirror_mode": {
    "name": "ipython",
    "version": 3
   },
   "file_extension": ".py",
   "mimetype": "text/x-python",
   "name": "python",
   "nbconvert_exporter": "python",
   "pygments_lexer": "ipython3",
   "version": "3.10.11"
  }
 },
 "nbformat": 4,
 "nbformat_minor": 5
}
