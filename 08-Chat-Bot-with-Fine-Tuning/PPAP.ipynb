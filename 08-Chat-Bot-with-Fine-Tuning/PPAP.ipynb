{
 "cells": [
  {
   "cell_type": "code",
   "execution_count": 1,
   "id": "8c5ce89a",
   "metadata": {},
   "outputs": [],
   "source": [
    "import os\n",
    "import openai"
   ]
  },
  {
   "cell_type": "code",
   "execution_count": 2,
   "id": "6467fd4d",
   "metadata": {},
   "outputs": [],
   "source": [
    "openai.api_key = os.getenv('OPENAI_API_KEY')"
   ]
  },
  {
   "cell_type": "markdown",
   "id": "e46d1790",
   "metadata": {},
   "source": [
    "***"
   ]
  },
  {
   "cell_type": "code",
   "execution_count": 5,
   "id": "eaead39f",
   "metadata": {},
   "outputs": [],
   "source": [
    "import pandas as pd"
   ]
  },
  {
   "cell_type": "code",
   "execution_count": 6,
   "id": "6c938a36",
   "metadata": {},
   "outputs": [],
   "source": [
    "qa_df = pd.read_csv('./python_qa.csv')"
   ]
  },
  {
   "cell_type": "code",
   "execution_count": 7,
   "id": "ef4ffd30",
   "metadata": {},
   "outputs": [
    {
     "data": {
      "text/html": [
       "<div>\n",
       "<style scoped>\n",
       "    .dataframe tbody tr th:only-of-type {\n",
       "        vertical-align: middle;\n",
       "    }\n",
       "\n",
       "    .dataframe tbody tr th {\n",
       "        vertical-align: top;\n",
       "    }\n",
       "\n",
       "    .dataframe thead th {\n",
       "        text-align: right;\n",
       "    }\n",
       "</style>\n",
       "<table border=\"1\" class=\"dataframe\">\n",
       "  <thead>\n",
       "    <tr style=\"text-align: right;\">\n",
       "      <th></th>\n",
       "      <th>Id</th>\n",
       "      <th>OwnerUserId</th>\n",
       "      <th>CreationDate</th>\n",
       "      <th>ClosedDate</th>\n",
       "      <th>Score</th>\n",
       "      <th>Title</th>\n",
       "      <th>Body</th>\n",
       "      <th>ParentId</th>\n",
       "      <th>Answer</th>\n",
       "    </tr>\n",
       "  </thead>\n",
       "  <tbody>\n",
       "    <tr>\n",
       "      <th>0</th>\n",
       "      <td>11060</td>\n",
       "      <td>912.0</td>\n",
       "      <td>2008-08-14T13:59:21Z</td>\n",
       "      <td>NaN</td>\n",
       "      <td>18</td>\n",
       "      <td>How should I unit test a code-generator?</td>\n",
       "      <td>This is a difficult and open-ended question I ...</td>\n",
       "      <td>11060</td>\n",
       "      <td>I started writing up a summary of my experienc...</td>\n",
       "    </tr>\n",
       "    <tr>\n",
       "      <th>1</th>\n",
       "      <td>17250</td>\n",
       "      <td>394.0</td>\n",
       "      <td>2008-08-20T00:16:40Z</td>\n",
       "      <td>NaN</td>\n",
       "      <td>24</td>\n",
       "      <td>Create an encrypted ZIP file in Python</td>\n",
       "      <td>I'm creating an ZIP file with ZipFile in Pytho...</td>\n",
       "      <td>17250</td>\n",
       "      <td>I created a simple library to create a passwor...</td>\n",
       "    </tr>\n",
       "    <tr>\n",
       "      <th>2</th>\n",
       "      <td>31340</td>\n",
       "      <td>242853.0</td>\n",
       "      <td>2008-08-27T23:44:47Z</td>\n",
       "      <td>NaN</td>\n",
       "      <td>71</td>\n",
       "      <td>How do threads work in Python, and what are co...</td>\n",
       "      <td>I've been trying to wrap my head around how th...</td>\n",
       "      <td>31340</td>\n",
       "      <td>Yes, because of the Global Interpreter Lock (G...</td>\n",
       "    </tr>\n",
       "    <tr>\n",
       "      <th>3</th>\n",
       "      <td>34020</td>\n",
       "      <td>3561.0</td>\n",
       "      <td>2008-08-29T05:43:16Z</td>\n",
       "      <td>NaN</td>\n",
       "      <td>17</td>\n",
       "      <td>Are Python threads buggy?</td>\n",
       "      <td>A reliable coder friend told me that Python's ...</td>\n",
       "      <td>34020</td>\n",
       "      <td>Python threads are good for concurrent I/O pro...</td>\n",
       "    </tr>\n",
       "    <tr>\n",
       "      <th>4</th>\n",
       "      <td>34570</td>\n",
       "      <td>577.0</td>\n",
       "      <td>2008-08-29T16:10:41Z</td>\n",
       "      <td>2011-11-08T16:11:43Z</td>\n",
       "      <td>13</td>\n",
       "      <td>What is the best quick-read Python book out th...</td>\n",
       "      <td>I am taking a class that requires Python. We w...</td>\n",
       "      <td>34570</td>\n",
       "      <td>I loved Dive Into Python, especially if you're...</td>\n",
       "    </tr>\n",
       "  </tbody>\n",
       "</table>\n",
       "</div>"
      ],
      "text/plain": [
       "      Id  OwnerUserId          CreationDate            ClosedDate  Score   \n",
       "0  11060        912.0  2008-08-14T13:59:21Z                   NaN     18  \\\n",
       "1  17250        394.0  2008-08-20T00:16:40Z                   NaN     24   \n",
       "2  31340     242853.0  2008-08-27T23:44:47Z                   NaN     71   \n",
       "3  34020       3561.0  2008-08-29T05:43:16Z                   NaN     17   \n",
       "4  34570        577.0  2008-08-29T16:10:41Z  2011-11-08T16:11:43Z     13   \n",
       "\n",
       "                                               Title   \n",
       "0           How should I unit test a code-generator?  \\\n",
       "1             Create an encrypted ZIP file in Python   \n",
       "2  How do threads work in Python, and what are co...   \n",
       "3                          Are Python threads buggy?   \n",
       "4  What is the best quick-read Python book out th...   \n",
       "\n",
       "                                                Body  ParentId   \n",
       "0  This is a difficult and open-ended question I ...     11060  \\\n",
       "1  I'm creating an ZIP file with ZipFile in Pytho...     17250   \n",
       "2  I've been trying to wrap my head around how th...     31340   \n",
       "3  A reliable coder friend told me that Python's ...     34020   \n",
       "4  I am taking a class that requires Python. We w...     34570   \n",
       "\n",
       "                                              Answer  \n",
       "0  I started writing up a summary of my experienc...  \n",
       "1  I created a simple library to create a passwor...  \n",
       "2  Yes, because of the Global Interpreter Lock (G...  \n",
       "3  Python threads are good for concurrent I/O pro...  \n",
       "4  I loved Dive Into Python, especially if you're...  "
      ]
     },
     "execution_count": 7,
     "metadata": {},
     "output_type": "execute_result"
    }
   ],
   "source": [
    "qa_df.head()"
   ]
  },
  {
   "cell_type": "markdown",
   "id": "c129a0e3",
   "metadata": {},
   "source": [
    "***"
   ]
  },
  {
   "cell_type": "code",
   "execution_count": 8,
   "id": "84e56149",
   "metadata": {},
   "outputs": [],
   "source": [
    "questions, answers = qa_df['Body'], qa_df['Answer']"
   ]
  },
  {
   "cell_type": "code",
   "execution_count": 9,
   "id": "b5f9440e",
   "metadata": {},
   "outputs": [
    {
     "data": {
      "text/plain": [
       "0       This is a difficult and open-ended question I ...\n",
       "1       I'm creating an ZIP file with ZipFile in Pytho...\n",
       "2       I've been trying to wrap my head around how th...\n",
       "3       A reliable coder friend told me that Python's ...\n",
       "4       I am taking a class that requires Python. We w...\n",
       "                              ...                        \n",
       "4424    I am trying to determine what percentage of th...\n",
       "4425    How can we make a class represent itself as a ...\n",
       "4426    I thought I could make my python (2.7.10) code...\n",
       "4427    Say, I have given a DataFrame with most of the...\n",
       "4428    Let's say I have the following code:\\n\\na = [1...\n",
       "Name: Body, Length: 4429, dtype: object"
      ]
     },
     "execution_count": 9,
     "metadata": {},
     "output_type": "execute_result"
    }
   ],
   "source": [
    "questions"
   ]
  },
  {
   "cell_type": "code",
   "execution_count": 10,
   "id": "f2b9fefb",
   "metadata": {},
   "outputs": [
    {
     "data": {
      "text/plain": [
       "0       I started writing up a summary of my experienc...\n",
       "1       I created a simple library to create a passwor...\n",
       "2       Yes, because of the Global Interpreter Lock (G...\n",
       "3       Python threads are good for concurrent I/O pro...\n",
       "4       I loved Dive Into Python, especially if you're...\n",
       "                              ...                        \n",
       "4424    setup\\ncreate 2 time series\\n\\nfrom StringIO i...\n",
       "4425    TLDR: It's impossible to make custom classes r...\n",
       "4426    You are not indexing. You are yielding a list;...\n",
       "4427    You can create a look up data frame from the d...\n",
       "4428    Use itertools.product within a list comprehens...\n",
       "Name: Answer, Length: 4429, dtype: object"
      ]
     },
     "execution_count": 10,
     "metadata": {},
     "output_type": "execute_result"
    }
   ],
   "source": [
    "answers"
   ]
  },
  {
   "cell_type": "code",
   "execution_count": 11,
   "id": "f85a5f72",
   "metadata": {},
   "outputs": [],
   "source": [
    "qa_openai_format = [{'prompt':q, 'completion':a} for q,a in zip(questions,answers)]"
   ]
  },
  {
   "cell_type": "code",
   "execution_count": 12,
   "id": "daa26481",
   "metadata": {},
   "outputs": [
    {
     "data": {
      "text/plain": [
       "{'prompt': 'I am taking a class that requires Python. We will review the language in class next week, and I am a quick study on new languages, but I was wondering if there are any really great Python books I can grab while I am struggling through the basics of setting up my IDE, server environment and all those other \"gotchas\" that come with a new programming language. Suggestions?\\n',\n",
       " 'completion': \"I loved Dive Into Python, especially if you're a quick study.  The beginning basics are all covered (and may move slowly for you), but the latter few chapters are great learning tools.\\n\\nPlus, Pilgrim is a pretty good writer.\\n\"}"
      ]
     },
     "execution_count": 12,
     "metadata": {},
     "output_type": "execute_result"
    }
   ],
   "source": [
    "qa_openai_format[4]"
   ]
  },
  {
   "cell_type": "code",
   "execution_count": 13,
   "id": "e4096ab3",
   "metadata": {},
   "outputs": [
    {
     "data": {
      "text/plain": [
       "4429"
      ]
     },
     "execution_count": 13,
     "metadata": {},
     "output_type": "execute_result"
    }
   ],
   "source": [
    "len(qa_openai_format)"
   ]
  },
  {
   "cell_type": "code",
   "execution_count": 15,
   "id": "5cc96bb2",
   "metadata": {},
   "outputs": [],
   "source": [
    "response = openai.Completion.create(model = 'text-babbage-001',\n",
    "                                    prompt = qa_openai_format[4]['prompt'],\n",
    "                                    temperature = 0,\n",
    "                                    max_tokens = 250)"
   ]
  },
  {
   "cell_type": "code",
   "execution_count": 18,
   "id": "a3f82ea1",
   "metadata": {},
   "outputs": [
    {
     "name": "stdout",
     "output_type": "stream",
     "text": [
      "\n",
      "There are a few great Python books that you could consider while you are learning Python. One book that is particularly helpful is \"Python for Data Science\" by Geoffrey Hinton. This book is packed with information on data science and Python, and it is a great resource for anyone who wants to learn Python for data science purposes. Another great book to consider is \"Python for Data Science Mastery\" by Michael Nielsen. This book is designed to help you learn more about data science and Python, and it is a great resource for anyone who wants to learn more about Python for data science purposes.\n"
     ]
    }
   ],
   "source": [
    "print(response['choices'][0]['text'])"
   ]
  },
  {
   "cell_type": "code",
   "execution_count": 19,
   "id": "fdcdcc1d",
   "metadata": {},
   "outputs": [],
   "source": [
    "response = openai.Completion.create(model = 'text-davinci-003',\n",
    "                                    prompt = qa_openai_format[4]['prompt'],\n",
    "                                    temperature = 0,\n",
    "                                    max_tokens = 250)"
   ]
  },
  {
   "cell_type": "code",
   "execution_count": 20,
   "id": "dc43826d",
   "metadata": {},
   "outputs": [
    {
     "name": "stdout",
     "output_type": "stream",
     "text": [
      "\n",
      "Some great Python books to consider include:\n",
      "\n",
      "1. Automate the Boring Stuff with Python by Al Sweigart\n",
      "2. Python Crash Course by Eric Matthes\n",
      "3. Python for Data Analysis by Wes McKinney\n",
      "4. Python Cookbook by David Beazley and Brian K. Jones\n",
      "5. Learning Python by Mark Lutz\n",
      "6. Fluent Python by Luciano Ramalho\n",
      "7. Python in a Nutshell by Alex Martelli\n",
      "8. Python Pocket Reference by Mark Lutz\n",
      "9. Python for Kids by Jason R. Briggs\n",
      "10. Python Essential Reference by David Beazley\n"
     ]
    }
   ],
   "source": [
    "print(response['choices'][0]['text'])"
   ]
  },
  {
   "cell_type": "markdown",
   "id": "cbcb8914",
   "metadata": {},
   "source": [
    "***"
   ]
  },
  {
   "cell_type": "code",
   "execution_count": 22,
   "id": "f31be980",
   "metadata": {},
   "outputs": [],
   "source": [
    "# !pip install tiktoken"
   ]
  },
  {
   "cell_type": "markdown",
   "id": "82007426",
   "metadata": {},
   "source": [
    "***"
   ]
  },
  {
   "cell_type": "code",
   "execution_count": 23,
   "id": "7b4feba6",
   "metadata": {},
   "outputs": [],
   "source": [
    "import tiktoken"
   ]
  },
  {
   "cell_type": "code",
   "execution_count": 24,
   "id": "5e3a7791",
   "metadata": {},
   "outputs": [],
   "source": [
    "def no_tokens_from_string(string, encoding_name):\n",
    "    encoding = tiktoken.get_encoding(encoding_name)\n",
    "    num_tokens = len(encoding.encode(string))\n",
    "    return num_tokens"
   ]
  },
  {
   "cell_type": "code",
   "execution_count": 25,
   "id": "8600ddb7",
   "metadata": {},
   "outputs": [],
   "source": [
    "import json"
   ]
  },
  {
   "cell_type": "code",
   "execution_count": 26,
   "id": "33ba76a6",
   "metadata": {},
   "outputs": [],
   "source": [
    "dataset_size = 500\n",
    "with open('my_example_training_data.json','w') as f:\n",
    "    for entry in qa_openai_format[:500]:\n",
    "        f.write(json.dumps(entry))\n",
    "        f.write(\"\\n\")"
   ]
  },
  {
   "cell_type": "code",
   "execution_count": 35,
   "id": "79b83a46",
   "metadata": {},
   "outputs": [
    {
     "data": {
      "text/plain": [
       "186352"
      ]
     },
     "execution_count": 35,
     "metadata": {},
     "output_type": "execute_result"
    }
   ],
   "source": [
    "token_counter = 0\n",
    "\n",
    "for prompt_completion in qa_openai_format[:500]:\n",
    "    for question,answer in prompt_completion.items():\n",
    "        token_counter += no_tokens_from_string(question, 'p50k_base')\n",
    "        token_counter += no_tokens_from_string(answer, 'p50k_base')\n",
    "\n",
    "token_counter"
   ]
  },
  {
   "cell_type": "code",
   "execution_count": 36,
   "id": "2b4084c6",
   "metadata": {},
   "outputs": [
    {
     "data": {
      "text/plain": [
       "0.44724479999999994"
      ]
     },
     "execution_count": 36,
     "metadata": {},
     "output_type": "execute_result"
    }
   ],
   "source": [
    "(token_counter/1000)*0.0006*4  # for babbaeg model ($0.0006 per 1000 tokens * 4(epochs) )"
   ]
  },
  {
   "cell_type": "code",
   "execution_count": 37,
   "id": "f93b2374",
   "metadata": {},
   "outputs": [
    {
     "data": {
      "text/plain": [
       "36.67407359999999"
      ]
     },
     "execution_count": 37,
     "metadata": {},
     "output_type": "execute_result"
    }
   ],
   "source": [
    "(token_counter/1000)*0.0006*4*82  # In Rs"
   ]
  },
  {
   "cell_type": "code",
   "execution_count": 39,
   "id": "a8293e21",
   "metadata": {},
   "outputs": [
    {
     "name": "stdout",
     "output_type": "stream",
     "text": [
      "There are 186352 tokens\n",
      "Fine tuning using babbage costs $0.0006 per 1000 tokens\n",
      "Estimated price: $0.44724479999999994\n",
      "Estimated price: Rs36.67407359999999\n"
     ]
    }
   ],
   "source": [
    "print(f\"There are {token_counter} tokens\")\n",
    "print(f\"Fine tuning using babbage costs $0.0006 per 1000 tokens\")\n",
    "print(f\"Estimated price: ${(4*token_counter / 1000) * 0.0006}\")\n",
    "print(f\"Estimated price: Rs{(4*token_counter / 1000) * 0.0006*82}\")"
   ]
  },
  {
   "cell_type": "markdown",
   "id": "f819f476",
   "metadata": {},
   "source": [
    "***"
   ]
  },
  {
   "cell_type": "markdown",
   "id": "5129e6b1",
   "metadata": {},
   "source": [
    "### Fine Tunning the model"
   ]
  },
  {
   "cell_type": "code",
   "execution_count": 40,
   "id": "cde77c59",
   "metadata": {},
   "outputs": [
    {
     "name": "stdout",
     "output_type": "stream",
     "text": [
      "Uploaded file from my_example_training_data.json: file-Lrgp1dDEBdMjhj4MjEgXcjUe\n",
      "Created fine-tune: ft-wSQtSNGKNpJZ4SzlHa7B2AJU\n",
      "Streaming events until fine-tuning is complete...\n",
      "\n",
      "(Ctrl-C will interrupt the stream, but not cancel the fine-tune)\n",
      "[2023-05-07 18:50:53] Created fine-tune: ft-wSQtSNGKNpJZ4SzlHa7B2AJU\n",
      "[2023-05-07 18:51:27] Fine-tune costs $0.47\n",
      "[2023-05-07 18:51:27] Fine-tune enqueued. Queue number: 0\n",
      "\n"
     ]
    },
    {
     "name": "stderr",
     "output_type": "stream",
     "text": [
      "\n",
      "Upload progress:   0%|          | 0.00/707k [00:00<?, ?it/s]\n",
      "Upload progress: 100%|##########| 707k/707k [00:00<00:00, 465Mit/s]\n"
     ]
    }
   ],
   "source": [
    "!openai api fine_tunes.create -t my_example_training_data.json -m babbage"
   ]
  },
  {
   "cell_type": "code",
   "execution_count": 41,
   "id": "eac816b5",
   "metadata": {},
   "outputs": [
    {
     "name": "stdout",
     "output_type": "stream",
     "text": [
      "{\n",
      "  \"data\": [\n",
      "    {\n",
      "      \"created_at\": 1683465653,\n",
      "      \"fine_tuned_model\": null,\n",
      "      \"hyperparams\": {\n",
      "        \"batch_size\": 1,\n",
      "        \"learning_rate_multiplier\": 0.1,\n",
      "        \"n_epochs\": 4,\n",
      "        \"prompt_loss_weight\": 0.01\n",
      "      },\n",
      "      \"id\": \"ft-wSQtSNGKNpJZ4SzlHa7B2AJU\",\n",
      "      \"model\": \"babbage\",\n",
      "      \"object\": \"fine-tune\",\n",
      "      \"organization_id\": \"org-rvv0qZo6yHiAv5ITLnbEBTOY\",\n",
      "      \"result_files\": [],\n",
      "      \"status\": \"pending\",\n",
      "      \"training_files\": [\n",
      "        {\n",
      "          \"bytes\": 706683,\n",
      "          \"created_at\": 1683465653,\n",
      "          \"filename\": \"my_example_training_data.json\",\n",
      "          \"id\": \"file-Lrgp1dDEBdMjhj4MjEgXcjUe\",\n",
      "          \"object\": \"file\",\n",
      "          \"purpose\": \"fine-tune\",\n",
      "          \"status\": \"processed\",\n",
      "          \"status_details\": null\n",
      "        }\n",
      "      ],\n",
      "      \"updated_at\": 1683465687,\n",
      "      \"validation_files\": []\n",
      "    }\n",
      "  ],\n",
      "  \"object\": \"list\"\n",
      "}\n"
     ]
    }
   ],
   "source": [
    "!openai api fine_tunes.list"
   ]
  },
  {
   "cell_type": "code",
   "execution_count": 46,
   "id": "510d3fcf",
   "metadata": {
    "scrolled": false
   },
   "outputs": [
    {
     "name": "stdout",
     "output_type": "stream",
     "text": [
      "{\n",
      "  \"created_at\": 1683465653,\n",
      "  \"events\": [\n",
      "    {\n",
      "      \"created_at\": 1683465653,\n",
      "      \"level\": \"info\",\n",
      "      \"message\": \"Created fine-tune: ft-wSQtSNGKNpJZ4SzlHa7B2AJU\",\n",
      "      \"object\": \"fine-tune-event\"\n",
      "    },\n",
      "    {\n",
      "      \"created_at\": 1683465687,\n",
      "      \"level\": \"info\",\n",
      "      \"message\": \"Fine-tune costs $0.47\",\n",
      "      \"object\": \"fine-tune-event\"\n",
      "    },\n",
      "    {\n",
      "      \"created_at\": 1683465687,\n",
      "      \"level\": \"info\",\n",
      "      \"message\": \"Fine-tune enqueued. Queue number: 0\",\n",
      "      \"object\": \"fine-tune-event\"\n",
      "    },\n",
      "    {\n",
      "      \"created_at\": 1683466289,\n",
      "      \"level\": \"info\",\n",
      "      \"message\": \"Fine-tune started\",\n",
      "      \"object\": \"fine-tune-event\"\n",
      "    },\n",
      "    {\n",
      "      \"created_at\": 1683466401,\n",
      "      \"level\": \"info\",\n",
      "      \"message\": \"Completed epoch 1/4\",\n",
      "      \"object\": \"fine-tune-event\"\n",
      "    },\n",
      "    {\n",
      "      \"created_at\": 1683466493,\n",
      "      \"level\": \"info\",\n",
      "      \"message\": \"Completed epoch 2/4\",\n",
      "      \"object\": \"fine-tune-event\"\n",
      "    },\n",
      "    {\n",
      "      \"created_at\": 1683466585,\n",
      "      \"level\": \"info\",\n",
      "      \"message\": \"Completed epoch 3/4\",\n",
      "      \"object\": \"fine-tune-event\"\n",
      "    },\n",
      "    {\n",
      "      \"created_at\": 1683466677,\n",
      "      \"level\": \"info\",\n",
      "      \"message\": \"Completed epoch 4/4\",\n",
      "      \"object\": \"fine-tune-event\"\n",
      "    },\n",
      "    {\n",
      "      \"created_at\": 1683466705,\n",
      "      \"level\": \"info\",\n",
      "      \"message\": \"Uploaded model: babbage:ft-personal-2023-05-07-13-38-24\",\n",
      "      \"object\": \"fine-tune-event\"\n",
      "    },\n",
      "    {\n",
      "      \"created_at\": 1683466706,\n",
      "      \"level\": \"info\",\n",
      "      \"message\": \"Uploaded result file: file-MDRtv8MhOmpHXJltuWLIsNiC\",\n",
      "      \"object\": \"fine-tune-event\"\n",
      "    },\n",
      "    {\n",
      "      \"created_at\": 1683466706,\n",
      "      \"level\": \"info\",\n",
      "      \"message\": \"Fine-tune succeeded\",\n",
      "      \"object\": \"fine-tune-event\"\n",
      "    }\n",
      "  ],\n",
      "  \"fine_tuned_model\": \"babbage:ft-personal-2023-05-07-13-38-24\",\n",
      "  \"hyperparams\": {\n",
      "    \"batch_size\": 1,\n",
      "    \"learning_rate_multiplier\": 0.1,\n",
      "    \"n_epochs\": 4,\n",
      "    \"prompt_loss_weight\": 0.01\n",
      "  },\n",
      "  \"id\": \"ft-wSQtSNGKNpJZ4SzlHa7B2AJU\",\n",
      "  \"model\": \"babbage\",\n",
      "  \"object\": \"fine-tune\",\n",
      "  \"organization_id\": \"org-rvv0qZo6yHiAv5ITLnbEBTOY\",\n",
      "  \"result_files\": [\n",
      "    {\n",
      "      \"bytes\": 112591,\n",
      "      \"created_at\": 1683466705,\n",
      "      \"filename\": \"compiled_results.csv\",\n",
      "      \"id\": \"file-MDRtv8MhOmpHXJltuWLIsNiC\",\n",
      "      \"object\": \"file\",\n",
      "      \"purpose\": \"fine-tune-results\",\n",
      "      \"status\": \"processed\",\n",
      "      \"status_details\": null\n",
      "    }\n",
      "  ],\n",
      "  \"status\": \"succeeded\",\n",
      "  \"training_files\": [\n",
      "    {\n",
      "      \"bytes\": 706683,\n",
      "      \"created_at\": 1683465653,\n",
      "      \"filename\": \"my_example_training_data.json\",\n",
      "      \"id\": \"file-Lrgp1dDEBdMjhj4MjEgXcjUe\",\n",
      "      \"object\": \"file\",\n",
      "      \"purpose\": \"fine-tune\",\n",
      "      \"status\": \"processed\",\n",
      "      \"status_details\": null\n",
      "    }\n",
      "  ],\n",
      "  \"updated_at\": 1683466706,\n",
      "  \"validation_files\": []\n",
      "}\n"
     ]
    }
   ],
   "source": [
    "!openai api fine_tunes.get -i ft-wSQtSNGKNpJZ4SzlHa7B2AJU  # Check the status"
   ]
  },
  {
   "cell_type": "code",
   "execution_count": 47,
   "id": "eb317b1f",
   "metadata": {},
   "outputs": [],
   "source": [
    "fine_tunned_model = \"babbage:ft-personal-2023-05-07-13-38-24\""
   ]
  },
  {
   "cell_type": "code",
   "execution_count": 49,
   "id": "b9e1d67e",
   "metadata": {},
   "outputs": [],
   "source": [
    "response = openai.Completion.create(model = 'text-babbage-001',\n",
    "                                    prompt = \"What are good Python Books ?\",\n",
    "                                    max_tokens=128,\n",
    "                                    temperature=0)"
   ]
  },
  {
   "cell_type": "code",
   "execution_count": 51,
   "id": "67b3116d",
   "metadata": {},
   "outputs": [
    {
     "name": "stdout",
     "output_type": "stream",
     "text": [
      "\n",
      "\n",
      "There are many good Python books out there, but some of the most popular choices include \"Python for Data Science\" by Geoffrey Hinton, \"Python for Data Science Mastery\" by Michael Nielsen, and \"Python for Data Science Mastery 2nd Edition\" by Michael Nielsen.\n"
     ]
    }
   ],
   "source": [
    "print(response['choices'][0]['text'])"
   ]
  },
  {
   "cell_type": "code",
   "execution_count": 52,
   "id": "e6cbccdf",
   "metadata": {},
   "outputs": [],
   "source": [
    "response = openai.Completion.create(model = fine_tunned_model,\n",
    "                                    prompt = \"What are good Python Books ?\",\n",
    "                                    max_tokens=128,\n",
    "                                    temperature=0)"
   ]
  },
  {
   "cell_type": "code",
   "execution_count": 53,
   "id": "0b8ebf42",
   "metadata": {},
   "outputs": [
    {
     "name": "stdout",
     "output_type": "stream",
     "text": [
      "\n",
      "You can't go wrong with the first one on the list, but there are others.\n",
      "\n",
      "The Python Cookbook is a good general reference.\n",
      "\n",
      "The Python Design and Implementation Guide is a good reference for design.\n",
      "\n",
      "The Python UDFs Cookbook is a good reference for Python UDFs.\n",
      "\n",
      "The Python in Practice is a good reference for Python in general.\n",
      "\n",
      "The Python in Depth is a good reference for advanced topics.\n",
      "\n",
      "The Python in Depth 2 is a good reference for advanced topics.\n",
      "\n",
      "The Python in Depth 3 is a good reference for advanced topics.\n",
      "\n",
      "The Python\n"
     ]
    }
   ],
   "source": [
    "print(response['choices'][0]['text'])"
   ]
  },
  {
   "cell_type": "code",
   "execution_count": null,
   "id": "1f5bf3e2",
   "metadata": {},
   "outputs": [],
   "source": []
  }
 ],
 "metadata": {
  "kernelspec": {
   "display_name": "Python 3 (ipykernel)",
   "language": "python",
   "name": "python3"
  },
  "language_info": {
   "codemirror_mode": {
    "name": "ipython",
    "version": 3
   },
   "file_extension": ".py",
   "mimetype": "text/x-python",
   "name": "python",
   "nbconvert_exporter": "python",
   "pygments_lexer": "ipython3",
   "version": "3.10.11"
  }
 },
 "nbformat": 4,
 "nbformat_minor": 5
}
