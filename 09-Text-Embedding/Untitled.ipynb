{
 "cells": [
  {
   "cell_type": "code",
   "execution_count": 57,
   "id": "cc951956",
   "metadata": {},
   "outputs": [],
   "source": [
    "import os\n",
    "import openai\n",
    "import numpy as np"
   ]
  },
  {
   "cell_type": "code",
   "execution_count": 2,
   "id": "0f1ca9d2",
   "metadata": {},
   "outputs": [],
   "source": [
    "openai.api_key = os.getenv(\"OPENAI_API_KEY\")"
   ]
  },
  {
   "cell_type": "markdown",
   "id": "614b07be",
   "metadata": {},
   "source": [
    "***"
   ]
  },
  {
   "cell_type": "code",
   "execution_count": 4,
   "id": "75467906",
   "metadata": {},
   "outputs": [],
   "source": [
    "prompt = \"\"\"Only answer the question below if you have 100% certainity of the facts.\n",
    "\n",
    "Q: What does that start-up company SnoozyBnoozy do and who invested in it ?\n",
    "A: \n",
    "\"\"\""
   ]
  },
  {
   "cell_type": "code",
   "execution_count": 5,
   "id": "2e1664d3",
   "metadata": {},
   "outputs": [
    {
     "name": "stdout",
     "output_type": "stream",
     "text": [
      "Only answer the question below if you have 100% certainity of the facts.\n",
      "\n",
      "Q: What does that start-up company SnoozyBnoozy do and who invested in it ?\n",
      "A: \n",
      "\n"
     ]
    }
   ],
   "source": [
    "print(prompt)"
   ]
  },
  {
   "cell_type": "code",
   "execution_count": 6,
   "id": "2f55de5c",
   "metadata": {},
   "outputs": [],
   "source": [
    "response = openai.Completion.create(model = 'text-davinci-003',\n",
    "                                   prompt = prompt,\n",
    "                                   max_tokens = 512,\n",
    "                                   temperature = 0)"
   ]
  },
  {
   "cell_type": "code",
   "execution_count": 7,
   "id": "f046b01c",
   "metadata": {},
   "outputs": [
    {
     "name": "stdout",
     "output_type": "stream",
     "text": [
      "I cannot answer this question with 100% certainty.\n"
     ]
    }
   ],
   "source": [
    "print(response['choices'][0]['text'])"
   ]
  },
  {
   "cell_type": "markdown",
   "id": "4107b2a7",
   "metadata": {},
   "source": [
    "***"
   ]
  },
  {
   "cell_type": "code",
   "execution_count": 8,
   "id": "58e81f5e",
   "metadata": {},
   "outputs": [],
   "source": [
    "import pandas as pd"
   ]
  },
  {
   "cell_type": "code",
   "execution_count": 9,
   "id": "7ac681ed",
   "metadata": {},
   "outputs": [],
   "source": [
    "df = pd.read_csv(\"./unicorns.csv\")"
   ]
  },
  {
   "cell_type": "code",
   "execution_count": 10,
   "id": "b81f648e",
   "metadata": {},
   "outputs": [
    {
     "data": {
      "text/html": [
       "<div>\n",
       "<style scoped>\n",
       "    .dataframe tbody tr th:only-of-type {\n",
       "        vertical-align: middle;\n",
       "    }\n",
       "\n",
       "    .dataframe tbody tr th {\n",
       "        vertical-align: top;\n",
       "    }\n",
       "\n",
       "    .dataframe thead th {\n",
       "        text-align: right;\n",
       "    }\n",
       "</style>\n",
       "<table border=\"1\" class=\"dataframe\">\n",
       "  <thead>\n",
       "    <tr style=\"text-align: right;\">\n",
       "      <th></th>\n",
       "      <th>Updated at</th>\n",
       "      <th>Company</th>\n",
       "      <th>Crunchbase Url</th>\n",
       "      <th>Last Valuation (Billion $)</th>\n",
       "      <th>Date Joined</th>\n",
       "      <th>Year Joined</th>\n",
       "      <th>City</th>\n",
       "      <th>Country</th>\n",
       "      <th>Industry</th>\n",
       "      <th>Investors</th>\n",
       "      <th>Company Website</th>\n",
       "    </tr>\n",
       "  </thead>\n",
       "  <tbody>\n",
       "    <tr>\n",
       "      <th>0</th>\n",
       "      <td>10/31/2022, 2:37:05 AM</td>\n",
       "      <td>Esusu</td>\n",
       "      <td>https://www.cbinsights.com/company/esusu</td>\n",
       "      <td>1.0</td>\n",
       "      <td>1/27/2022</td>\n",
       "      <td>2022</td>\n",
       "      <td>New York</td>\n",
       "      <td>United States</td>\n",
       "      <td>Fintech</td>\n",
       "      <td>[\"Next Play Ventures\",\"Zeal Capital Partners\",...</td>\n",
       "      <td>NaN</td>\n",
       "    </tr>\n",
       "    <tr>\n",
       "      <th>1</th>\n",
       "      <td>10/31/2022, 2:37:05 AM</td>\n",
       "      <td>Fever Labs</td>\n",
       "      <td>https://www.cbinsights.com/company/fever-labs</td>\n",
       "      <td>1.0</td>\n",
       "      <td>1/26/2022</td>\n",
       "      <td>2022</td>\n",
       "      <td>New York</td>\n",
       "      <td>United States</td>\n",
       "      <td>Internet software &amp; services</td>\n",
       "      <td>[\"Accel\",\"14W\",\"GS Growth\"]</td>\n",
       "      <td>NaN</td>\n",
       "    </tr>\n",
       "    <tr>\n",
       "      <th>2</th>\n",
       "      <td>10/31/2022, 2:37:04 AM</td>\n",
       "      <td>Minio</td>\n",
       "      <td>https://www.cbinsights.com/company/minio</td>\n",
       "      <td>1.0</td>\n",
       "      <td>1/26/2022</td>\n",
       "      <td>2022</td>\n",
       "      <td>Palo Alto</td>\n",
       "      <td>United States</td>\n",
       "      <td>Data management &amp; analytics</td>\n",
       "      <td>[\"General Catalyst\",\"Nexus Venture Partners\",\"...</td>\n",
       "      <td>NaN</td>\n",
       "    </tr>\n",
       "    <tr>\n",
       "      <th>3</th>\n",
       "      <td>10/31/2022, 2:37:04 AM</td>\n",
       "      <td>Darwinbox</td>\n",
       "      <td>https://www.cbinsights.com/company/darwinbox</td>\n",
       "      <td>1.0</td>\n",
       "      <td>1/25/2022</td>\n",
       "      <td>2022</td>\n",
       "      <td>Hyderabad</td>\n",
       "      <td>India</td>\n",
       "      <td>Internet software &amp; services</td>\n",
       "      <td>[\"Lightspeed India Partners\",\"Sequoia Capital ...</td>\n",
       "      <td>NaN</td>\n",
       "    </tr>\n",
       "    <tr>\n",
       "      <th>4</th>\n",
       "      <td>10/31/2022, 2:37:04 AM</td>\n",
       "      <td>Pentera</td>\n",
       "      <td>https://www.cbinsights.com/company/pcysys</td>\n",
       "      <td>1.0</td>\n",
       "      <td>1/11/2022</td>\n",
       "      <td>2022</td>\n",
       "      <td>Petah Tikva</td>\n",
       "      <td>Israel</td>\n",
       "      <td>Cybersecurity</td>\n",
       "      <td>[\"AWZ Ventures\",\"Blackstone\",\"Insight Partners\"]</td>\n",
       "      <td>NaN</td>\n",
       "    </tr>\n",
       "  </tbody>\n",
       "</table>\n",
       "</div>"
      ],
      "text/plain": [
       "               Updated at     Company   \n",
       "0  10/31/2022, 2:37:05 AM       Esusu  \\\n",
       "1  10/31/2022, 2:37:05 AM  Fever Labs   \n",
       "2  10/31/2022, 2:37:04 AM       Minio   \n",
       "3  10/31/2022, 2:37:04 AM   Darwinbox   \n",
       "4  10/31/2022, 2:37:04 AM     Pentera   \n",
       "\n",
       "                                  Crunchbase Url  Last Valuation (Billion $)   \n",
       "0       https://www.cbinsights.com/company/esusu                         1.0  \\\n",
       "1  https://www.cbinsights.com/company/fever-labs                         1.0   \n",
       "2       https://www.cbinsights.com/company/minio                         1.0   \n",
       "3   https://www.cbinsights.com/company/darwinbox                         1.0   \n",
       "4      https://www.cbinsights.com/company/pcysys                         1.0   \n",
       "\n",
       "  Date Joined  Year Joined         City        Country   \n",
       "0   1/27/2022         2022     New York  United States  \\\n",
       "1   1/26/2022         2022     New York  United States   \n",
       "2   1/26/2022         2022    Palo Alto  United States   \n",
       "3   1/25/2022         2022    Hyderabad          India   \n",
       "4   1/11/2022         2022  Petah Tikva         Israel   \n",
       "\n",
       "                       Industry   \n",
       "0                       Fintech  \\\n",
       "1  Internet software & services   \n",
       "2   Data management & analytics   \n",
       "3  Internet software & services   \n",
       "4                Cybersecurity    \n",
       "\n",
       "                                           Investors  Company Website  \n",
       "0  [\"Next Play Ventures\",\"Zeal Capital Partners\",...              NaN  \n",
       "1                        [\"Accel\",\"14W\",\"GS Growth\"]              NaN  \n",
       "2  [\"General Catalyst\",\"Nexus Venture Partners\",\"...              NaN  \n",
       "3  [\"Lightspeed India Partners\",\"Sequoia Capital ...              NaN  \n",
       "4   [\"AWZ Ventures\",\"Blackstone\",\"Insight Partners\"]              NaN  "
      ]
     },
     "execution_count": 10,
     "metadata": {},
     "output_type": "execute_result"
    }
   ],
   "source": [
    "df.head()"
   ]
  },
  {
   "cell_type": "code",
   "execution_count": null,
   "id": "240c90bc",
   "metadata": {},
   "outputs": [],
   "source": []
  },
  {
   "cell_type": "code",
   "execution_count": 11,
   "id": "94a10c33",
   "metadata": {},
   "outputs": [],
   "source": [
    "import ast"
   ]
  },
  {
   "cell_type": "code",
   "execution_count": 12,
   "id": "b57ffa35",
   "metadata": {},
   "outputs": [],
   "source": [
    "def summary(company, crunchbase_url, city, country, industry, investers_list):\n",
    "    investers = \"The investers in the company are\"\n",
    "    \n",
    "    for invester in ast.literal_eval(investers_list):\n",
    "        investers += f\" {invester}\"\n",
    "    \n",
    "    text = f\"{company} has headquarters in {country} in {city} and is in the field of {industry}. {investers}. More info at {crunchbase_url}.\"\n",
    "    \n",
    "    return text"
   ]
  },
  {
   "cell_type": "code",
   "execution_count": 13,
   "id": "a336cf35",
   "metadata": {},
   "outputs": [
    {
     "data": {
      "text/plain": [
       "Index(['Updated at', 'Company', 'Crunchbase Url', 'Last Valuation (Billion $)',\n",
       "       'Date Joined', 'Year Joined', 'City', 'Country', 'Industry',\n",
       "       'Investors', 'Company Website'],\n",
       "      dtype='object')"
      ]
     },
     "execution_count": 13,
     "metadata": {},
     "output_type": "execute_result"
    }
   ],
   "source": [
    "df.columns"
   ]
  },
  {
   "cell_type": "code",
   "execution_count": 14,
   "id": "40e1544d",
   "metadata": {},
   "outputs": [],
   "source": [
    " df['summary'] = df.apply(lambda row: summary(row['Company'],row['Crunchbase Url'],row['City'],row['Country'],row['Industry'],row['Investors']),axis=1)"
   ]
  },
  {
   "cell_type": "code",
   "execution_count": 15,
   "id": "77453c81",
   "metadata": {},
   "outputs": [
    {
     "data": {
      "text/plain": [
       "'Placer.ai has headquarters in United States in Los Altos and is in the field of Artificial intelligence. The investers in the company are Fifth Wall Ventures JBV Capital Array Ventures. More info at https://www.cbinsights.com/company/placerai.'"
      ]
     },
     "execution_count": 15,
     "metadata": {},
     "output_type": "execute_result"
    }
   ],
   "source": [
    "df['summary'].iloc[5]"
   ]
  },
  {
   "cell_type": "markdown",
   "id": "fea67bf4",
   "metadata": {},
   "source": [
    "***"
   ]
  },
  {
   "cell_type": "code",
   "execution_count": 17,
   "id": "1f97ab2d",
   "metadata": {},
   "outputs": [],
   "source": [
    "import tiktoken"
   ]
  },
  {
   "cell_type": "code",
   "execution_count": 18,
   "id": "a2ea5552",
   "metadata": {},
   "outputs": [],
   "source": [
    "def num_tokens_from_string(string, encoding_name):\n",
    "    encoding = tiktoken.get_encoding(encoding_name)\n",
    "    num_tokens = len(encoding.encode(string))\n",
    "    return num_tokens"
   ]
  },
  {
   "cell_type": "code",
   "execution_count": 20,
   "id": "cf8e6cb8",
   "metadata": {},
   "outputs": [
    {
     "data": {
      "text/plain": [
       "52"
      ]
     },
     "execution_count": 20,
     "metadata": {},
     "output_type": "execute_result"
    }
   ],
   "source": [
    "num_tokens_from_string(df['summary'].iloc[5],'cl100k_base')"
   ]
  },
  {
   "cell_type": "code",
   "execution_count": 23,
   "id": "f32a9098",
   "metadata": {},
   "outputs": [
    {
     "data": {
      "text/plain": [
       "34"
      ]
     },
     "execution_count": 23,
     "metadata": {},
     "output_type": "execute_result"
    }
   ],
   "source": [
    "len(df['summary'].iloc[5].split())"
   ]
  },
  {
   "cell_type": "markdown",
   "id": "fd2c6905",
   "metadata": {},
   "source": [
    "***"
   ]
  },
  {
   "cell_type": "markdown",
   "id": "9f63024f",
   "metadata": {},
   "source": [
    "##### [Pricing](https://openai.com/pricing)"
   ]
  },
  {
   "cell_type": "code",
   "execution_count": 24,
   "id": "44c2fafe",
   "metadata": {},
   "outputs": [],
   "source": [
    "df['token_count'] = df['summary'].apply(lambda text : num_tokens_from_string(text,'cl100k_base'))"
   ]
  },
  {
   "cell_type": "code",
   "execution_count": 29,
   "id": "c2b65465",
   "metadata": {},
   "outputs": [
    {
     "data": {
      "text/plain": [
       "63650"
      ]
     },
     "execution_count": 29,
     "metadata": {},
     "output_type": "execute_result"
    }
   ],
   "source": [
    "df['token_count'].sum()"
   ]
  },
  {
   "cell_type": "code",
   "execution_count": 30,
   "id": "11c7151b",
   "metadata": {},
   "outputs": [],
   "source": [
    "# $0.0004 for 1000 tokens"
   ]
  },
  {
   "cell_type": "code",
   "execution_count": 31,
   "id": "be76a568",
   "metadata": {},
   "outputs": [
    {
     "data": {
      "text/plain": [
       "0.02546"
      ]
     },
     "execution_count": 31,
     "metadata": {},
     "output_type": "execute_result"
    }
   ],
   "source": [
    "(df['token_count'].sum() * 0.0004)/1000"
   ]
  },
  {
   "cell_type": "code",
   "execution_count": 35,
   "id": "4e0861e6",
   "metadata": {},
   "outputs": [],
   "source": [
    "def get_embedding(text):\n",
    "    result = openai.Embedding.create(model='text-embedding-ada-002',\n",
    "                                     input = text)\n",
    "    return result['data'][0]['embedding']"
   ]
  },
  {
   "cell_type": "code",
   "execution_count": 43,
   "id": "4084ac15",
   "metadata": {},
   "outputs": [],
   "source": [
    "vector = get_embedding(df['summary'].iloc[5])"
   ]
  },
  {
   "cell_type": "code",
   "execution_count": 44,
   "id": "7db21e92",
   "metadata": {},
   "outputs": [
    {
     "data": {
      "text/plain": [
       "1536"
      ]
     },
     "execution_count": 44,
     "metadata": {},
     "output_type": "execute_result"
    }
   ],
   "source": [
    "len(vector)"
   ]
  },
  {
   "cell_type": "code",
   "execution_count": 46,
   "id": "fb9bd574",
   "metadata": {},
   "outputs": [],
   "source": [
    "embedding_df = df['summary'][:60].apply(get_embedding)"
   ]
  },
  {
   "cell_type": "code",
   "execution_count": 47,
   "id": "28ee3a65",
   "metadata": {},
   "outputs": [
    {
     "data": {
      "text/plain": [
       "0     [0.012449049390852451, -0.021479658782482147, ...\n",
       "1     [0.004733939189463854, 0.009448057971894741, -...\n",
       "2     [0.0028683003038167953, -0.04153108969330788, ...\n",
       "3     [-0.002926540793851018, -0.026245232671499252,...\n",
       "4     [0.010559664107859135, -0.017897970974445343, ...\n",
       "5     [-0.011890890076756477, -0.029584208503365517,...\n",
       "6     [-0.003688603173941374, -0.024664482101798058,...\n",
       "7     [0.010915903374552727, -0.019295059144496918, ...\n",
       "8     [0.017703715711832047, -0.02509993501007557, 0...\n",
       "9     [0.001291604246944189, -0.03855830430984497, -...\n",
       "10    [-0.01644624024629593, -0.01729302853345871, 0...\n",
       "11    [0.006785436999052763, -0.03315390646457672, -...\n",
       "12    [0.010714556090533733, -0.018076704815030098, ...\n",
       "13    [0.025735292583703995, -0.019518187269568443, ...\n",
       "14    [0.004607022739946842, -0.02109689451754093, -...\n",
       "15    [0.014665253460407257, -0.01640952005982399, 0...\n",
       "16    [-0.005135769955813885, -0.030420569702982903,...\n",
       "17    [0.009963802061975002, -0.008983216248452663, ...\n",
       "18    [0.0033232090063393116, -0.012688005343079567,...\n",
       "19    [-0.003774646669626236, -0.016163742169737816,...\n",
       "20    [-0.014295979402959347, -0.02222386747598648, ...\n",
       "21    [0.01683955080807209, -0.03351757302880287, -0...\n",
       "22    [0.010386952199041843, -0.029594983905553818, ...\n",
       "23    [0.024415595456957817, -0.02356601692736149, 0...\n",
       "24    [0.007826749235391617, -0.026031872257590294, ...\n",
       "25    [-0.006204767152667046, -0.017546815797686577,...\n",
       "26    [0.018426988273859024, -0.012435882352292538, ...\n",
       "27    [0.0028508403338491917, -0.017412317916750908,...\n",
       "28    [0.002202310599386692, -0.04086622595787048, 0...\n",
       "29    [0.027946414425969124, -0.01844889670610428, 0...\n",
       "30    [0.012175437062978745, -0.037597641348838806, ...\n",
       "31    [-0.011774033308029175, -0.034119848161935806,...\n",
       "32    [-0.010630465112626553, -0.036859337240457535,...\n",
       "33    [-0.02325761877000332, -0.012034998275339603, ...\n",
       "34    [0.015696214511990547, -0.005474088713526726, ...\n",
       "35    [0.009828337468206882, -0.0265416968613863, -0...\n",
       "36    [-0.0002350477734580636, -0.010050716809928417...\n",
       "37    [0.011330097913742065, -0.026692166924476624, ...\n",
       "38    [0.008354098536074162, -0.028601501137018204, ...\n",
       "39    [0.013839789666235447, -0.026860032230615616, ...\n",
       "40    [-0.006154978647828102, -0.009638742543756962,...\n",
       "41    [0.004388189874589443, -0.029447684064507484, ...\n",
       "42    [0.010533121414482594, -0.022922655567526817, ...\n",
       "43    [-0.007856316864490509, -0.022151367738842964,...\n",
       "44    [2.124042839568574e-05, -0.028604086488485336,...\n",
       "45    [0.005969506222754717, -0.02736051008105278, -...\n",
       "46    [-0.007123819086700678, -0.030104730278253555,...\n",
       "47    [0.021063368767499924, -0.02555723674595356, -...\n",
       "48    [0.0025185018312186003, -0.025819990783929825,...\n",
       "49    [0.009299756959080696, -0.024149587377905846, ...\n",
       "50    [0.015579193830490112, -0.01584826409816742, -...\n",
       "51    [0.012537820264697075, -0.008958360180258751, ...\n",
       "52    [0.0205189511179924, -0.02324945665895939, -0....\n",
       "53    [0.021315686404705048, -0.021947361528873444, ...\n",
       "54    [0.011945756152272224, -0.015962623059749603, ...\n",
       "55    [-0.005165203474462032, -0.015591568313539028,...\n",
       "56    [-0.01724947616457939, -0.01705286279320717, -...\n",
       "57    [-0.015488729812204838, -0.02278156764805317, ...\n",
       "58    [0.007332814857363701, -0.013697778806090355, ...\n",
       "59    [0.010148708708584309, -0.006934396456927061, ...\n",
       "Name: summary, dtype: object"
      ]
     },
     "execution_count": 47,
     "metadata": {},
     "output_type": "execute_result"
    }
   ],
   "source": [
    "embedding_df"
   ]
  },
  {
   "cell_type": "code",
   "execution_count": 48,
   "id": "976ac2aa",
   "metadata": {},
   "outputs": [],
   "source": [
    "df = pd.read_csv(\"./unicorns_with_embeddings.csv\")"
   ]
  },
  {
   "cell_type": "code",
   "execution_count": 62,
   "id": "1834fc6c",
   "metadata": {},
   "outputs": [],
   "source": [
    "df['embedding'] = df['embedding'].apply(lambda vector: ast.literal_eval(vector))"
   ]
  },
  {
   "cell_type": "code",
   "execution_count": 75,
   "id": "524821b0",
   "metadata": {},
   "outputs": [
    {
     "data": {
      "text/html": [
       "<div>\n",
       "<style scoped>\n",
       "    .dataframe tbody tr th:only-of-type {\n",
       "        vertical-align: middle;\n",
       "    }\n",
       "\n",
       "    .dataframe tbody tr th {\n",
       "        vertical-align: top;\n",
       "    }\n",
       "\n",
       "    .dataframe thead th {\n",
       "        text-align: right;\n",
       "    }\n",
       "</style>\n",
       "<table border=\"1\" class=\"dataframe\">\n",
       "  <thead>\n",
       "    <tr style=\"text-align: right;\">\n",
       "      <th></th>\n",
       "      <th>Updated at</th>\n",
       "      <th>Company</th>\n",
       "      <th>Crunchbase Url</th>\n",
       "      <th>Last Valuation (Billion $)</th>\n",
       "      <th>Date Joined</th>\n",
       "      <th>Year Joined</th>\n",
       "      <th>City</th>\n",
       "      <th>Country</th>\n",
       "      <th>Industry</th>\n",
       "      <th>Investors</th>\n",
       "      <th>Company Website</th>\n",
       "      <th>summary</th>\n",
       "      <th>token_count</th>\n",
       "      <th>embedding</th>\n",
       "    </tr>\n",
       "  </thead>\n",
       "  <tbody>\n",
       "    <tr>\n",
       "      <th>102</th>\n",
       "      <td>10/31/2022, 2:35:51 AM</td>\n",
       "      <td>Nova Labs</td>\n",
       "      <td>https://www.cbinsights.com/company/helium-systems</td>\n",
       "      <td>1.20</td>\n",
       "      <td>2/22/2022</td>\n",
       "      <td>2022</td>\n",
       "      <td>San Francisco</td>\n",
       "      <td>United States</td>\n",
       "      <td>Internet software &amp; services</td>\n",
       "      <td>[\"FirstMark Capital\",\"Tiger Global Management\"...</td>\n",
       "      <td>NaN</td>\n",
       "      <td>Nova Labs has headquarters in San Francisco in...</td>\n",
       "      <td>61</td>\n",
       "      <td>[0.023513568565249443, -0.014787724241614342, ...</td>\n",
       "    </tr>\n",
       "    <tr>\n",
       "      <th>664</th>\n",
       "      <td>10/31/2022, 2:33:54 AM</td>\n",
       "      <td>Groww</td>\n",
       "      <td>https://www.cbinsights.com/company/groww</td>\n",
       "      <td>3.00</td>\n",
       "      <td>4/7/2021</td>\n",
       "      <td>2021</td>\n",
       "      <td>Bengaluru</td>\n",
       "      <td>India</td>\n",
       "      <td>Fintech</td>\n",
       "      <td>[\"Tiger Global Management\",\"Sequoia Capital In...</td>\n",
       "      <td>NaN</td>\n",
       "      <td>Groww has headquarters in Bengaluru in India a...</td>\n",
       "      <td>59</td>\n",
       "      <td>[0.027214663103222847, -0.021105248481035233, ...</td>\n",
       "    </tr>\n",
       "    <tr>\n",
       "      <th>318</th>\n",
       "      <td>10/31/2022, 2:36:47 AM</td>\n",
       "      <td>Dunamu</td>\n",
       "      <td>https://www.cbinsights.com/company/dunamu</td>\n",
       "      <td>1.00</td>\n",
       "      <td>7/22/2021</td>\n",
       "      <td>2021</td>\n",
       "      <td>Seoul</td>\n",
       "      <td>South Korea</td>\n",
       "      <td>Fintech</td>\n",
       "      <td>[\"Qualcomm Ventures\",\"Woori Investment\",\"Hanwh...</td>\n",
       "      <td>NaN</td>\n",
       "      <td>Dunamu has headquarters in Seoul in South Kore...</td>\n",
       "      <td>61</td>\n",
       "      <td>[0.01118377409875393, -0.02560979314148426, 0....</td>\n",
       "    </tr>\n",
       "    <tr>\n",
       "      <th>460</th>\n",
       "      <td>10/31/2022, 2:35:39 AM</td>\n",
       "      <td>Honor Technology</td>\n",
       "      <td>https://www.cbinsights.com/company/honor-techn...</td>\n",
       "      <td>1.25</td>\n",
       "      <td>10/5/2021</td>\n",
       "      <td>2021</td>\n",
       "      <td>San Francisco</td>\n",
       "      <td>United States</td>\n",
       "      <td>Internet software &amp; services</td>\n",
       "      <td>[\"Andreessen Horowitz\",\"Prosus Ventures\",\"Thri...</td>\n",
       "      <td>NaN</td>\n",
       "      <td>Honor Technology has headquarters in San Franc...</td>\n",
       "      <td>62</td>\n",
       "      <td>[0.022465692833065987, -0.03788593038916588, -...</td>\n",
       "    </tr>\n",
       "    <tr>\n",
       "      <th>546</th>\n",
       "      <td>10/31/2022, 2:34:51 AM</td>\n",
       "      <td>H2O.ai</td>\n",
       "      <td>https://www.cbinsights.com/company/h2oai</td>\n",
       "      <td>1.70</td>\n",
       "      <td>11/7/2021</td>\n",
       "      <td>2021</td>\n",
       "      <td>Mountain View</td>\n",
       "      <td>United States</td>\n",
       "      <td>Artificial intelligence</td>\n",
       "      <td>[\"Nexus Venture Partners\",\"Transamerica Ventur...</td>\n",
       "      <td>NaN</td>\n",
       "      <td>H2O.ai has headquarters in Mountain View in Un...</td>\n",
       "      <td>61</td>\n",
       "      <td>[0.013594849035143852, -0.032675810158252716, ...</td>\n",
       "    </tr>\n",
       "  </tbody>\n",
       "</table>\n",
       "</div>"
      ],
      "text/plain": [
       "                 Updated at           Company   \n",
       "102  10/31/2022, 2:35:51 AM         Nova Labs  \\\n",
       "664  10/31/2022, 2:33:54 AM             Groww   \n",
       "318  10/31/2022, 2:36:47 AM            Dunamu   \n",
       "460  10/31/2022, 2:35:39 AM  Honor Technology   \n",
       "546  10/31/2022, 2:34:51 AM            H2O.ai   \n",
       "\n",
       "                                        Crunchbase Url   \n",
       "102  https://www.cbinsights.com/company/helium-systems  \\\n",
       "664           https://www.cbinsights.com/company/groww   \n",
       "318          https://www.cbinsights.com/company/dunamu   \n",
       "460  https://www.cbinsights.com/company/honor-techn...   \n",
       "546           https://www.cbinsights.com/company/h2oai   \n",
       "\n",
       "     Last Valuation (Billion $) Date Joined  Year Joined           City   \n",
       "102                        1.20   2/22/2022         2022  San Francisco  \\\n",
       "664                        3.00    4/7/2021         2021      Bengaluru   \n",
       "318                        1.00   7/22/2021         2021          Seoul   \n",
       "460                        1.25   10/5/2021         2021  San Francisco   \n",
       "546                        1.70   11/7/2021         2021  Mountain View   \n",
       "\n",
       "           Country                      Industry   \n",
       "102  United States  Internet software & services  \\\n",
       "664          India                       Fintech   \n",
       "318    South Korea                       Fintech   \n",
       "460  United States  Internet software & services   \n",
       "546  United States       Artificial intelligence   \n",
       "\n",
       "                                             Investors  Company Website   \n",
       "102  [\"FirstMark Capital\",\"Tiger Global Management\"...              NaN  \\\n",
       "664  [\"Tiger Global Management\",\"Sequoia Capital In...              NaN   \n",
       "318  [\"Qualcomm Ventures\",\"Woori Investment\",\"Hanwh...              NaN   \n",
       "460  [\"Andreessen Horowitz\",\"Prosus Ventures\",\"Thri...              NaN   \n",
       "546  [\"Nexus Venture Partners\",\"Transamerica Ventur...              NaN   \n",
       "\n",
       "                                               summary  token_count   \n",
       "102  Nova Labs has headquarters in San Francisco in...           61  \\\n",
       "664  Groww has headquarters in Bengaluru in India a...           59   \n",
       "318  Dunamu has headquarters in Seoul in South Kore...           61   \n",
       "460  Honor Technology has headquarters in San Franc...           62   \n",
       "546  H2O.ai has headquarters in Mountain View in Un...           61   \n",
       "\n",
       "                                             embedding  \n",
       "102  [0.023513568565249443, -0.014787724241614342, ...  \n",
       "664  [0.027214663103222847, -0.021105248481035233, ...  \n",
       "318  [0.01118377409875393, -0.02560979314148426, 0....  \n",
       "460  [0.022465692833065987, -0.03788593038916588, -...  \n",
       "546  [0.013594849035143852, -0.032675810158252716, ...  "
      ]
     },
     "execution_count": 75,
     "metadata": {},
     "output_type": "execute_result"
    }
   ],
   "source": [
    "df.sample(5)"
   ]
  },
  {
   "cell_type": "code",
   "execution_count": 76,
   "id": "2f999f7a",
   "metadata": {},
   "outputs": [],
   "source": [
    "prompt = \"What does the company Dunamu do and who invested in it ?\""
   ]
  },
  {
   "cell_type": "code",
   "execution_count": 78,
   "id": "2a227e77",
   "metadata": {},
   "outputs": [],
   "source": [
    "prompt_embedding = get_embedding(prompt)"
   ]
  },
  {
   "cell_type": "code",
   "execution_count": 54,
   "id": "e886d238",
   "metadata": {},
   "outputs": [],
   "source": [
    "# prompt_embedding"
   ]
  },
  {
   "cell_type": "code",
   "execution_count": 58,
   "id": "d7c4770f",
   "metadata": {},
   "outputs": [],
   "source": [
    "def cosine_similarity(vector_1, vector_2):\n",
    "    return np.dot(np.array(vector_1),np.array(vector_2))"
   ]
  },
  {
   "cell_type": "code",
   "execution_count": 79,
   "id": "62db5d0e",
   "metadata": {},
   "outputs": [],
   "source": [
    "result = df['embedding'].apply(lambda vector : cosine_similarity(vector,prompt_embedding))"
   ]
  },
  {
   "cell_type": "code",
   "execution_count": 80,
   "id": "380b0d6f",
   "metadata": {},
   "outputs": [
    {
     "data": {
      "text/plain": [
       "0       0.765431\n",
       "1       0.721769\n",
       "2       0.757628\n",
       "3       0.757774\n",
       "4       0.752761\n",
       "          ...   \n",
       "1194    0.749022\n",
       "1195    0.734406\n",
       "1196    0.724390\n",
       "1197    0.735736\n",
       "1198    0.740285\n",
       "Name: embedding, Length: 1199, dtype: float64"
      ]
     },
     "execution_count": 80,
     "metadata": {},
     "output_type": "execute_result"
    }
   ],
   "source": [
    "result"
   ]
  },
  {
   "cell_type": "code",
   "execution_count": 81,
   "id": "e470ddc9",
   "metadata": {},
   "outputs": [
    {
     "data": {
      "text/plain": [
       "318"
      ]
     },
     "execution_count": 81,
     "metadata": {},
     "output_type": "execute_result"
    }
   ],
   "source": [
    "result.argmax()"
   ]
  },
  {
   "cell_type": "code",
   "execution_count": 83,
   "id": "b60c45c9",
   "metadata": {},
   "outputs": [
    {
     "name": "stdout",
     "output_type": "stream",
     "text": [
      "Dunamu has headquarters in Seoul in South Korea and is in the field of Fintech. The investors in the company are Qualcomm Ventures,  Woori Investment,  Hanwha Investment & Securities, . You can find more information at https://www.cbinsights.com/company/dunamu\n"
     ]
    }
   ],
   "source": [
    "print(df.loc[result.argmax(),['summary']].values[0])"
   ]
  },
  {
   "cell_type": "markdown",
   "id": "747cc24c",
   "metadata": {},
   "source": [
    "***"
   ]
  },
  {
   "cell_type": "code",
   "execution_count": 84,
   "id": "5f4f6cce",
   "metadata": {},
   "outputs": [],
   "source": [
    "context = df.loc[result.argmax(),['summary']].values[0]"
   ]
  },
  {
   "cell_type": "code",
   "execution_count": 88,
   "id": "f620079d",
   "metadata": {},
   "outputs": [],
   "source": [
    "prompt = f\"\"\"Only answer the question below if you have 100% certainity of the facts.\n",
    "Context : {context}\n",
    "Q: What does that start-up company Dunamu do and who invested in it ?\n",
    "A: \n",
    "\"\"\""
   ]
  },
  {
   "cell_type": "code",
   "execution_count": 89,
   "id": "30ac9b7f",
   "metadata": {},
   "outputs": [
    {
     "name": "stdout",
     "output_type": "stream",
     "text": [
      "Only answer the question below if you have 100% certainity of the facts.\n",
      "Context : Dunamu has headquarters in Seoul in South Korea and is in the field of Fintech. The investors in the company are Qualcomm Ventures,  Woori Investment,  Hanwha Investment & Securities, . You can find more information at https://www.cbinsights.com/company/dunamu\n",
      "Q: What does that start-up company Dunamu do and who invested in it ?\n",
      "A: \n",
      "\n"
     ]
    }
   ],
   "source": [
    "print(prompt)"
   ]
  },
  {
   "cell_type": "code",
   "execution_count": 94,
   "id": "42fffbeb",
   "metadata": {},
   "outputs": [],
   "source": [
    "def embed_prompt_lookup():\n",
    "    # initial question\n",
    "    question = input(\"What question do you have about a Unicorn company? \")\n",
    "    # Get embedding\n",
    "    prompt_embedding = get_embedding(question)\n",
    "    # Get prompt similarity with embeddings\n",
    "    # Note how this will overwrite the prompt similarity column each time!\n",
    "    result = df['embedding'].apply(lambda vector: cosine_similarity(vector, prompt_embedding))\n",
    "\n",
    "    # get most similar summary\n",
    "    summary = df.loc[result.argmax(),['summary']].values[0]\n",
    "\n",
    "    prompt = f\"\"\"Only answer the question below if you have 100% certainty of the facts, use the context below to answer.\n",
    "            Here is some context:\n",
    "            {summary}\n",
    "            Q: {question}\n",
    "            A:\"\"\"\n",
    "\n",
    "\n",
    "    response = openai.Completion.create(\n",
    "        prompt=prompt,\n",
    "        temperature=0,\n",
    "        max_tokens=500,\n",
    "        model=\"text-davinci-003\"\n",
    "    )\n",
    "    print(response[\"choices\"][0][\"text\"].strip(\" \\n\"))"
   ]
  },
  {
   "cell_type": "code",
   "execution_count": 95,
   "id": "706a3237",
   "metadata": {},
   "outputs": [
    {
     "name": "stdout",
     "output_type": "stream",
     "text": [
      "What question do you have about a Unicorn company? What does that start-up company Nova Labs do and who invested in it ?\n",
      "Nova Labs is a start-up company in the field of Internet software & services with headquarters in San Francisco, United States. The investors in the company are FirstMark Capital, Tiger Global Management, and FTX Venture.\n"
     ]
    }
   ],
   "source": [
    "embed_prompt_lookup()"
   ]
  },
  {
   "cell_type": "code",
   "execution_count": null,
   "id": "50e36866",
   "metadata": {},
   "outputs": [],
   "source": []
  }
 ],
 "metadata": {
  "kernelspec": {
   "display_name": "Python 3 (ipykernel)",
   "language": "python",
   "name": "python3"
  },
  "language_info": {
   "codemirror_mode": {
    "name": "ipython",
    "version": 3
   },
   "file_extension": ".py",
   "mimetype": "text/x-python",
   "name": "python",
   "nbconvert_exporter": "python",
   "pygments_lexer": "ipython3",
   "version": "3.10.11"
  }
 },
 "nbformat": 4,
 "nbformat_minor": 5
}
