{
 "cells": [
  {
   "cell_type": "markdown",
   "id": "56f1f7e8",
   "metadata": {},
   "source": [
    "## [Function Calling Ussing OpenAI API Tutorial #2 - Krish Naik](https://www.youtube.com/watch?v=zRdzLfoTwvQ)"
   ]
  },
  {
   "cell_type": "markdown",
   "id": "e9f65020",
   "metadata": {},
   "source": [
    "## [AI Weather by Meteosource](https://rapidapi.com/MeteosourceWeather/api/ai-weather-by-meteosource/)"
   ]
  },
  {
   "cell_type": "markdown",
   "id": "cdeda85c",
   "metadata": {},
   "source": [
    "***"
   ]
  },
  {
   "cell_type": "code",
   "execution_count": 1,
   "id": "0cab8d4c",
   "metadata": {},
   "outputs": [],
   "source": [
    "import openai\n",
    "from dotenv import load_dotenv\n",
    "import os"
   ]
  },
  {
   "cell_type": "code",
   "execution_count": 5,
   "id": "f8688bdf",
   "metadata": {},
   "outputs": [],
   "source": [
    "openai.api_key = os.getenv('OPENAI_API_KEY')"
   ]
  },
  {
   "cell_type": "markdown",
   "id": "ca81dfda",
   "metadata": {},
   "source": [
    "***"
   ]
  },
  {
   "cell_type": "code",
   "execution_count": 6,
   "id": "c89b35f1",
   "metadata": {},
   "outputs": [],
   "source": [
    "response = openai.ChatCompletion.create(model = \"gpt-3.5-turbo\",\n",
    "                                        messages = [\n",
    "                                            {'role':'system', 'content':'You are helpful assistant that provide the weather forcast in temperature.'},\n",
    "                                            {'role':'user', 'content':'Hey there !'}\n",
    "                                        ])"
   ]
  },
  {
   "cell_type": "code",
   "execution_count": 8,
   "id": "5dbc286a",
   "metadata": {},
   "outputs": [
    {
     "name": "stdout",
     "output_type": "stream",
     "text": [
      "Hello! How can I assist you today?\n"
     ]
    }
   ],
   "source": [
    "print(response['choices'][0]['message']['content'])"
   ]
  },
  {
   "cell_type": "code",
   "execution_count": 14,
   "id": "a3bfbee7",
   "metadata": {},
   "outputs": [],
   "source": [
    "import requests\n",
    "import json\n",
    "import pprint"
   ]
  },
  {
   "cell_type": "code",
   "execution_count": 10,
   "id": "114bf080",
   "metadata": {},
   "outputs": [],
   "source": [
    "def get_current_weather(location:str):\n",
    "    \n",
    "    url = \"https://ai-weather-by-meteosource.p.rapidapi.com/find_places\"\n",
    "\n",
    "    querystring = {\"text\":location,\"language\":\"en\"}\n",
    "\n",
    "    headers = {\n",
    "        \"X-RapidAPI-Key\": \"Your key\",\n",
    "        \"X-RapidAPI-Host\": \"Your host\"\n",
    "    }\n",
    "\n",
    "    response = requests.get(url, headers=headers, params=querystring)\n",
    "\n",
    "    return response.json()"
   ]
  },
  {
   "cell_type": "code",
   "execution_count": 11,
   "id": "27caf950",
   "metadata": {},
   "outputs": [
    {
     "data": {
      "text/plain": [
       "[{'name': 'Lucknow',\n",
       "  'place_id': 'lucknow',\n",
       "  'adm_area1': 'State of Uttar Pradesh',\n",
       "  'adm_area2': 'Lucknow',\n",
       "  'country': 'India',\n",
       "  'lat': '26.83928N',\n",
       "  'lon': '80.92313E',\n",
       "  'timezone': 'Asia/Kolkata',\n",
       "  'type': 'settlement'},\n",
       " {'name': 'Dunn',\n",
       "  'place_id': 'dunn',\n",
       "  'adm_area1': 'North Carolina',\n",
       "  'adm_area2': 'Harnett',\n",
       "  'country': 'United States of America',\n",
       "  'lat': '35.30627N',\n",
       "  'lon': '78.6089W',\n",
       "  'timezone': 'America/New_York',\n",
       "  'type': 'settlement'},\n",
       " {'name': 'Lucknow',\n",
       "  'place_id': 'lucknow-2159389',\n",
       "  'adm_area1': 'Victoria',\n",
       "  'adm_area2': 'East Gippsland',\n",
       "  'country': 'Australia',\n",
       "  'lat': '37.81667S',\n",
       "  'lon': '147.65E',\n",
       "  'timezone': 'Australia/Melbourne',\n",
       "  'type': 'settlement'},\n",
       " {'name': 'Lucknow',\n",
       "  'place_id': 'lucknow-2159390',\n",
       "  'adm_area1': 'New South Wales',\n",
       "  'adm_area2': 'Orange Municipality',\n",
       "  'country': 'Australia',\n",
       "  'lat': '33.34602S',\n",
       "  'lon': '149.16206E',\n",
       "  'timezone': 'Australia/Sydney',\n",
       "  'type': 'settlement'},\n",
       " {'name': 'Lucknow',\n",
       "  'place_id': 'lucknow-6269318',\n",
       "  'adm_area1': 'Scotland',\n",
       "  'adm_area2': 'Angus',\n",
       "  'country': 'United Kingdom',\n",
       "  'lat': '56.49103N',\n",
       "  'lon': '2.7804W',\n",
       "  'timezone': 'Europe/London',\n",
       "  'type': 'settlement'},\n",
       " {'name': 'Lucknow',\n",
       "  'place_id': 'lucknow-5035973',\n",
       "  'adm_area1': 'Minnesota',\n",
       "  'adm_area2': 'Saint Louis',\n",
       "  'country': 'United States of America',\n",
       "  'lat': '47.50104N',\n",
       "  'lon': '92.73629W',\n",
       "  'timezone': 'America/Chicago',\n",
       "  'type': 'settlement'},\n",
       " {'name': 'Lucknow',\n",
       "  'place_id': 'lucknow-5199249',\n",
       "  'adm_area1': 'Pennsylvania',\n",
       "  'adm_area2': 'Dauphin County',\n",
       "  'country': 'United States of America',\n",
       "  'lat': '40.32759N',\n",
       "  'lon': '76.88581W',\n",
       "  'timezone': 'America/New_York',\n",
       "  'type': 'settlement'},\n",
       " {'name': 'Luckney',\n",
       "  'place_id': 'luckney-4434402',\n",
       "  'adm_area1': 'Mississippi',\n",
       "  'adm_area2': 'Rankin',\n",
       "  'country': 'United States of America',\n",
       "  'lat': '32.34153N',\n",
       "  'lon': '90.07564W',\n",
       "  'timezone': 'America/Chicago',\n",
       "  'type': 'settlement'},\n",
       " {'name': 'Lucknow',\n",
       "  'place_id': 'lucknow-4585940',\n",
       "  'adm_area1': 'South Carolina',\n",
       "  'adm_area2': 'Lee',\n",
       "  'country': 'United States of America',\n",
       "  'lat': '34.29265N',\n",
       "  'lon': '80.33757W',\n",
       "  'timezone': 'America/New_York',\n",
       "  'type': 'settlement'},\n",
       " {'name': 'Lucknow',\n",
       "  'place_id': 'lucknow-district',\n",
       "  'adm_area1': 'State of Uttar Pradesh',\n",
       "  'adm_area2': 'Lucknow',\n",
       "  'country': 'India',\n",
       "  'lat': '26.75N',\n",
       "  'lon': '81.0E',\n",
       "  'timezone': 'Asia/Kolkata',\n",
       "  'type': 'administrative_area'}]"
      ]
     },
     "execution_count": 11,
     "metadata": {},
     "output_type": "execute_result"
    }
   ],
   "source": [
    "get_current_weather(\"Lucknow\")"
   ]
  },
  {
   "cell_type": "code",
   "execution_count": 12,
   "id": "0506b3ee",
   "metadata": {},
   "outputs": [],
   "source": [
    "functions = [\n",
    "    {\n",
    "        \"name\":\"get_current_weather\",\n",
    "        \"description\":\"Get the current weather in a given location\",\n",
    "        \"parameters\":{\n",
    "            \"type\":\"object\",\n",
    "            \"properties\": {\n",
    "                \"location\": {\n",
    "                    \"type\": \"string\",\n",
    "                    \"description\": \"The city and the state, e.g. Lucknow, Delhi\"\n",
    "                },\n",
    "            },\n",
    "            \"required\": ['location'], \n",
    "        },\n",
    "    }\n",
    "]"
   ]
  },
  {
   "cell_type": "code",
   "execution_count": 15,
   "id": "a38fb5d7",
   "metadata": {},
   "outputs": [
    {
     "name": "stdout",
     "output_type": "stream",
     "text": [
      "[{'description': 'Get the current weather in a given location',\n",
      "  'name': 'get_current_weather',\n",
      "  'parameters': {'properties': {'location': {'description': 'The city and the '\n",
      "                                                            'state, e.g. '\n",
      "                                                            'Lucknow, Delhi',\n",
      "                                             'type': 'string'}},\n",
      "                 'required': ['location'],\n",
      "                 'type': 'object'}}]\n"
     ]
    }
   ],
   "source": [
    "pprint.pprint(functions)"
   ]
  },
  {
   "cell_type": "code",
   "execution_count": 20,
   "id": "6384206c",
   "metadata": {},
   "outputs": [],
   "source": [
    "def add_message(role='user',content=\"\"):\n",
    "    return {\n",
    "        \"role\": role,\n",
    "        \"content\": content\n",
    "    }"
   ]
  },
  {
   "cell_type": "code",
   "execution_count": 18,
   "id": "0a190b3c",
   "metadata": {},
   "outputs": [
    {
     "name": "stdout",
     "output_type": "stream",
     "text": [
      "{\n",
      "  \"role\": \"assistant\",\n",
      "  \"content\": \"Hello! How can I assist you today?\"\n",
      "}\n"
     ]
    }
   ],
   "source": [
    "user_message = \"Hi, there\"\n",
    "messages = []\n",
    "\n",
    "messages.append(add_message(\"user\",user_message))\n",
    "\n",
    "response = openai.ChatCompletion.create(\n",
    "            model = \"gpt-3.5-turbo\",\n",
    "            messages = messages\n",
    ")\n",
    "\n",
    "print(response['choices'][0]['message'])"
   ]
  },
  {
   "cell_type": "code",
   "execution_count": 24,
   "id": "bd7c416c",
   "metadata": {},
   "outputs": [],
   "source": [
    "messages.append(add_message(\"assistant\", response['choices'][0]['message']['content']))"
   ]
  },
  {
   "cell_type": "code",
   "execution_count": 25,
   "id": "f300d2ac",
   "metadata": {},
   "outputs": [
    {
     "data": {
      "text/plain": [
       "[{'role': 'user', 'content': 'Hi, there'},\n",
       " {'role': 'assistant', 'content': 'Hello! How can I assist you today?'}]"
      ]
     },
     "execution_count": 25,
     "metadata": {},
     "output_type": "execute_result"
    }
   ],
   "source": [
    "messages"
   ]
  },
  {
   "cell_type": "code",
   "execution_count": 26,
   "id": "d472aac4",
   "metadata": {},
   "outputs": [],
   "source": [
    "user_message = \"What is the temperature of Lucknow ?\"\n",
    "\n",
    "messages.append(add_message(content=user_message))\n",
    "\n",
    "response = openai.ChatCompletion.create(\n",
    "            model = \"gpt-3.5-turbo\",\n",
    "            messages = messages,\n",
    "            functions = functions\n",
    ")"
   ]
  },
  {
   "cell_type": "code",
   "execution_count": 27,
   "id": "7bdfc85f",
   "metadata": {},
   "outputs": [
    {
     "name": "stdout",
     "output_type": "stream",
     "text": [
      "{\n",
      "  \"role\": \"assistant\",\n",
      "  \"content\": null,\n",
      "  \"function_call\": {\n",
      "    \"name\": \"get_current_weather\",\n",
      "    \"arguments\": \"{\\n  \\\"location\\\": \\\"Lucknow\\\"\\n}\"\n",
      "  }\n",
      "}\n"
     ]
    }
   ],
   "source": [
    "print(response['choices'][0]['message'])"
   ]
  },
  {
   "cell_type": "code",
   "execution_count": 29,
   "id": "0e2a0ca5",
   "metadata": {},
   "outputs": [
    {
     "name": "stdout",
     "output_type": "stream",
     "text": [
      "get_current_weather\n"
     ]
    }
   ],
   "source": [
    "function_name = response['choices'][0]['message']['function_call']['name']\n",
    "print(function_name)"
   ]
  },
  {
   "cell_type": "code",
   "execution_count": 32,
   "id": "fa104658",
   "metadata": {},
   "outputs": [
    {
     "data": {
      "text/plain": [
       "'{\\n  \"location\": \"Lucknow\"\\n}'"
      ]
     },
     "execution_count": 32,
     "metadata": {},
     "output_type": "execute_result"
    }
   ],
   "source": [
    "response['choices'][0]['message']['function_call']['arguments']"
   ]
  },
  {
   "cell_type": "code",
   "execution_count": 38,
   "id": "b3c27350",
   "metadata": {},
   "outputs": [
    {
     "data": {
      "text/plain": [
       "{'location': 'Lucknow'}"
      ]
     },
     "execution_count": 38,
     "metadata": {},
     "output_type": "execute_result"
    }
   ],
   "source": [
    "eval(response['choices'][0]['message']['function_call']['arguments'])"
   ]
  },
  {
   "cell_type": "code",
   "execution_count": 39,
   "id": "216fc502",
   "metadata": {},
   "outputs": [
    {
     "name": "stdout",
     "output_type": "stream",
     "text": [
      "Lucknow\n"
     ]
    }
   ],
   "source": [
    "location = eval(response['choices'][0]['message']['function_call']['arguments'])['location']\n",
    "print(location)"
   ]
  },
  {
   "cell_type": "code",
   "execution_count": null,
   "id": "cc20b3e8",
   "metadata": {},
   "outputs": [],
   "source": []
  },
  {
   "cell_type": "code",
   "execution_count": 40,
   "id": "7610758a",
   "metadata": {},
   "outputs": [],
   "source": [
    "messages.append(response['choices'][0]['message'])"
   ]
  },
  {
   "cell_type": "code",
   "execution_count": 42,
   "id": "226837f2",
   "metadata": {},
   "outputs": [
    {
     "name": "stdout",
     "output_type": "stream",
     "text": [
      "[{'content': 'Hi, there', 'role': 'user'},\n",
      " {'content': 'Hello! How can I assist you today?', 'role': 'assistant'},\n",
      " {'content': 'What is the temperature of Lucknow ?', 'role': 'user'},\n",
      " <OpenAIObject at 0x1a6068b8db0> JSON: {\n",
      "  \"role\": \"assistant\",\n",
      "  \"content\": null,\n",
      "  \"function_call\": {\n",
      "    \"name\": \"get_current_weather\",\n",
      "    \"arguments\": \"{\\n  \\\"location\\\": \\\"Lucknow\\\"\\n}\"\n",
      "  }\n",
      "}]\n"
     ]
    }
   ],
   "source": [
    "pprint.pprint(messages)"
   ]
  },
  {
   "cell_type": "code",
   "execution_count": 46,
   "id": "c0dd3eb3",
   "metadata": {},
   "outputs": [],
   "source": [
    "messages.append({\n",
    "    'role':'function',\n",
    "    'name': function_name,\n",
    "    'content': location\n",
    "})"
   ]
  },
  {
   "cell_type": "code",
   "execution_count": 47,
   "id": "6666ccbf",
   "metadata": {},
   "outputs": [
    {
     "name": "stdout",
     "output_type": "stream",
     "text": [
      "[{'content': 'Hi, there', 'role': 'user'},\n",
      " {'content': 'Hello! How can I assist you today?', 'role': 'assistant'},\n",
      " {'content': 'What is the temperature of Lucknow ?', 'role': 'user'},\n",
      " <OpenAIObject at 0x1a6068b8db0> JSON: {\n",
      "  \"role\": \"assistant\",\n",
      "  \"content\": null,\n",
      "  \"function_call\": {\n",
      "    \"name\": \"get_current_weather\",\n",
      "    \"arguments\": \"{\\n  \\\"location\\\": \\\"Lucknow\\\"\\n}\"\n",
      "  }\n",
      "},\n",
      " {'content': 'Lucknow', 'name': 'get_current_weather', 'role': 'function'}]\n"
     ]
    }
   ],
   "source": [
    "pprint.pprint(messages)"
   ]
  },
  {
   "cell_type": "code",
   "execution_count": null,
   "id": "0e2788d1",
   "metadata": {},
   "outputs": [],
   "source": []
  },
  {
   "cell_type": "code",
   "execution_count": 57,
   "id": "6915bbaa",
   "metadata": {},
   "outputs": [],
   "source": [
    "response = openai.ChatCompletion.create(\n",
    "            model = \"gpt-3.5-turbo\",\n",
    "            messages = messages,\n",
    "            functions = functions\n",
    ")"
   ]
  },
  {
   "cell_type": "code",
   "execution_count": 58,
   "id": "bd80b452",
   "metadata": {},
   "outputs": [
    {
     "data": {
      "text/plain": [
       "<OpenAIObject chat.completion id=chatcmpl-7YH6UJfG7fiZEKBaJB754Wll0ieC9 at 0x1a606f24a40> JSON: {\n",
       "  \"id\": \"chatcmpl-7YH6UJfG7fiZEKBaJB754Wll0ieC9\",\n",
       "  \"object\": \"chat.completion\",\n",
       "  \"created\": 1688403254,\n",
       "  \"model\": \"gpt-3.5-turbo-0613\",\n",
       "  \"choices\": [\n",
       "    {\n",
       "      \"index\": 0,\n",
       "      \"message\": {\n",
       "        \"role\": \"assistant\",\n",
       "        \"content\": \"The current temperature in Lucknow is 30 degrees Celsius.\"\n",
       "      },\n",
       "      \"finish_reason\": \"stop\"\n",
       "    }\n",
       "  ],\n",
       "  \"usage\": {\n",
       "    \"prompt_tokens\": 120,\n",
       "    \"completion_tokens\": 13,\n",
       "    \"total_tokens\": 133\n",
       "  }\n",
       "}"
      ]
     },
     "execution_count": 58,
     "metadata": {},
     "output_type": "execute_result"
    }
   ],
   "source": [
    "response"
   ]
  },
  {
   "cell_type": "code",
   "execution_count": 59,
   "id": "8a8ecfab",
   "metadata": {},
   "outputs": [
    {
     "name": "stdout",
     "output_type": "stream",
     "text": [
      "The current temperature in Lucknow is 30 degrees Celsius.\n"
     ]
    }
   ],
   "source": [
    "print(response['choices'][0]['message']['content'])"
   ]
  },
  {
   "cell_type": "code",
   "execution_count": null,
   "id": "0133dc0e",
   "metadata": {},
   "outputs": [],
   "source": []
  }
 ],
 "metadata": {
  "kernelspec": {
   "display_name": "Python 3 (ipykernel)",
   "language": "python",
   "name": "python3"
  },
  "language_info": {
   "codemirror_mode": {
    "name": "ipython",
    "version": 3
   },
   "file_extension": ".py",
   "mimetype": "text/x-python",
   "name": "python",
   "nbconvert_exporter": "python",
   "pygments_lexer": "ipython3",
   "version": "3.9.12"
  }
 },
 "nbformat": 4,
 "nbformat_minor": 5
}
