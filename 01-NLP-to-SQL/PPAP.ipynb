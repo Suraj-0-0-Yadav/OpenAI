{
 "cells": [
  {
   "cell_type": "code",
   "execution_count": 75,
   "id": "d500547b",
   "metadata": {},
   "outputs": [],
   "source": [
    "import openai\n",
    "import os"
   ]
  },
  {
   "cell_type": "code",
   "execution_count": 99,
   "id": "3efbe211",
   "metadata": {},
   "outputs": [],
   "source": [
    "openai.api_key = os.getenv('OPENAI_API_KEY')"
   ]
  },
  {
   "cell_type": "code",
   "execution_count": 77,
   "id": "c8389b80",
   "metadata": {},
   "outputs": [],
   "source": [
    "# !pip install pandas"
   ]
  },
  {
   "cell_type": "code",
   "execution_count": 78,
   "id": "f7cb2077",
   "metadata": {},
   "outputs": [],
   "source": [
    "import pandas as pd"
   ]
  },
  {
   "cell_type": "code",
   "execution_count": 79,
   "id": "e6b01574",
   "metadata": {},
   "outputs": [],
   "source": [
    "df = pd.read_csv('./data/sales_data_sample.csv')"
   ]
  },
  {
   "cell_type": "code",
   "execution_count": 80,
   "id": "0bceb6b2",
   "metadata": {},
   "outputs": [
    {
     "data": {
      "text/html": [
       "<div>\n",
       "<style scoped>\n",
       "    .dataframe tbody tr th:only-of-type {\n",
       "        vertical-align: middle;\n",
       "    }\n",
       "\n",
       "    .dataframe tbody tr th {\n",
       "        vertical-align: top;\n",
       "    }\n",
       "\n",
       "    .dataframe thead th {\n",
       "        text-align: right;\n",
       "    }\n",
       "</style>\n",
       "<table border=\"1\" class=\"dataframe\">\n",
       "  <thead>\n",
       "    <tr style=\"text-align: right;\">\n",
       "      <th></th>\n",
       "      <th>ORDERNUMBER</th>\n",
       "      <th>QUANTITYORDERED</th>\n",
       "      <th>PRICEEACH</th>\n",
       "      <th>SALES</th>\n",
       "      <th>ORDERDATE</th>\n",
       "      <th>QTR_ID</th>\n",
       "      <th>MONTH_ID</th>\n",
       "      <th>YEAR_ID</th>\n",
       "      <th>PRODUCTLINE</th>\n",
       "      <th>PHONE</th>\n",
       "      <th>ADDRESSLINE1</th>\n",
       "      <th>CITY</th>\n",
       "      <th>STATE</th>\n",
       "      <th>POSTALCODE</th>\n",
       "      <th>COUNTRY</th>\n",
       "      <th>CONTACTLASTNAME</th>\n",
       "      <th>CONTACTFIRSTNAME</th>\n",
       "    </tr>\n",
       "  </thead>\n",
       "  <tbody>\n",
       "    <tr>\n",
       "      <th>0</th>\n",
       "      <td>10107</td>\n",
       "      <td>30</td>\n",
       "      <td>95.70</td>\n",
       "      <td>2871.00</td>\n",
       "      <td>2/24/2003 0:00</td>\n",
       "      <td>1</td>\n",
       "      <td>2</td>\n",
       "      <td>2003</td>\n",
       "      <td>Motorcycles</td>\n",
       "      <td>2125557818</td>\n",
       "      <td>897 Long Airport Avenue</td>\n",
       "      <td>NYC</td>\n",
       "      <td>NY</td>\n",
       "      <td>10022</td>\n",
       "      <td>USA</td>\n",
       "      <td>Yu</td>\n",
       "      <td>Kwai</td>\n",
       "    </tr>\n",
       "    <tr>\n",
       "      <th>1</th>\n",
       "      <td>10121</td>\n",
       "      <td>34</td>\n",
       "      <td>81.35</td>\n",
       "      <td>2765.90</td>\n",
       "      <td>5/7/2003 0:00</td>\n",
       "      <td>2</td>\n",
       "      <td>5</td>\n",
       "      <td>2003</td>\n",
       "      <td>Motorcycles</td>\n",
       "      <td>26.47.1555</td>\n",
       "      <td>59 rue de l'Abbaye</td>\n",
       "      <td>Reims</td>\n",
       "      <td>NaN</td>\n",
       "      <td>51100</td>\n",
       "      <td>France</td>\n",
       "      <td>Henriot</td>\n",
       "      <td>Paul</td>\n",
       "    </tr>\n",
       "    <tr>\n",
       "      <th>2</th>\n",
       "      <td>10134</td>\n",
       "      <td>41</td>\n",
       "      <td>94.74</td>\n",
       "      <td>3884.34</td>\n",
       "      <td>7/1/2003 0:00</td>\n",
       "      <td>3</td>\n",
       "      <td>7</td>\n",
       "      <td>2003</td>\n",
       "      <td>Motorcycles</td>\n",
       "      <td>+33 1 46 62 7555</td>\n",
       "      <td>27 rue du Colonel Pierre Avia</td>\n",
       "      <td>Paris</td>\n",
       "      <td>NaN</td>\n",
       "      <td>75508</td>\n",
       "      <td>France</td>\n",
       "      <td>Da Cunha</td>\n",
       "      <td>Daniel</td>\n",
       "    </tr>\n",
       "    <tr>\n",
       "      <th>3</th>\n",
       "      <td>10145</td>\n",
       "      <td>45</td>\n",
       "      <td>83.26</td>\n",
       "      <td>3746.70</td>\n",
       "      <td>8/25/2003 0:00</td>\n",
       "      <td>3</td>\n",
       "      <td>8</td>\n",
       "      <td>2003</td>\n",
       "      <td>Motorcycles</td>\n",
       "      <td>6265557265</td>\n",
       "      <td>78934 Hillside Dr.</td>\n",
       "      <td>Pasadena</td>\n",
       "      <td>CA</td>\n",
       "      <td>90003</td>\n",
       "      <td>USA</td>\n",
       "      <td>Young</td>\n",
       "      <td>Julie</td>\n",
       "    </tr>\n",
       "    <tr>\n",
       "      <th>4</th>\n",
       "      <td>10159</td>\n",
       "      <td>49</td>\n",
       "      <td>100.00</td>\n",
       "      <td>5205.27</td>\n",
       "      <td>10/10/2003 0:00</td>\n",
       "      <td>4</td>\n",
       "      <td>10</td>\n",
       "      <td>2003</td>\n",
       "      <td>Motorcycles</td>\n",
       "      <td>6505551386</td>\n",
       "      <td>7734 Strong St.</td>\n",
       "      <td>San Francisco</td>\n",
       "      <td>CA</td>\n",
       "      <td>NaN</td>\n",
       "      <td>USA</td>\n",
       "      <td>Brown</td>\n",
       "      <td>Julie</td>\n",
       "    </tr>\n",
       "  </tbody>\n",
       "</table>\n",
       "</div>"
      ],
      "text/plain": [
       "   ORDERNUMBER  QUANTITYORDERED  PRICEEACH    SALES        ORDERDATE  QTR_ID   \n",
       "0        10107               30      95.70  2871.00   2/24/2003 0:00       1  \\\n",
       "1        10121               34      81.35  2765.90    5/7/2003 0:00       2   \n",
       "2        10134               41      94.74  3884.34    7/1/2003 0:00       3   \n",
       "3        10145               45      83.26  3746.70   8/25/2003 0:00       3   \n",
       "4        10159               49     100.00  5205.27  10/10/2003 0:00       4   \n",
       "\n",
       "   MONTH_ID  YEAR_ID  PRODUCTLINE             PHONE   \n",
       "0         2     2003  Motorcycles        2125557818  \\\n",
       "1         5     2003  Motorcycles        26.47.1555   \n",
       "2         7     2003  Motorcycles  +33 1 46 62 7555   \n",
       "3         8     2003  Motorcycles        6265557265   \n",
       "4        10     2003  Motorcycles        6505551386   \n",
       "\n",
       "                    ADDRESSLINE1           CITY STATE POSTALCODE COUNTRY   \n",
       "0        897 Long Airport Avenue            NYC    NY      10022     USA  \\\n",
       "1             59 rue de l'Abbaye          Reims   NaN      51100  France   \n",
       "2  27 rue du Colonel Pierre Avia          Paris   NaN      75508  France   \n",
       "3             78934 Hillside Dr.       Pasadena    CA      90003     USA   \n",
       "4                7734 Strong St.  San Francisco    CA        NaN     USA   \n",
       "\n",
       "  CONTACTLASTNAME CONTACTFIRSTNAME  \n",
       "0              Yu             Kwai  \n",
       "1         Henriot             Paul  \n",
       "2        Da Cunha           Daniel  \n",
       "3           Young            Julie  \n",
       "4           Brown            Julie  "
      ]
     },
     "execution_count": 80,
     "metadata": {},
     "output_type": "execute_result"
    }
   ],
   "source": [
    "df.head()"
   ]
  },
  {
   "cell_type": "code",
   "execution_count": 81,
   "id": "133f8e63",
   "metadata": {},
   "outputs": [
    {
     "data": {
      "text/html": [
       "<div>\n",
       "<style scoped>\n",
       "    .dataframe tbody tr th:only-of-type {\n",
       "        vertical-align: middle;\n",
       "    }\n",
       "\n",
       "    .dataframe tbody tr th {\n",
       "        vertical-align: top;\n",
       "    }\n",
       "\n",
       "    .dataframe thead th {\n",
       "        text-align: right;\n",
       "    }\n",
       "</style>\n",
       "<table border=\"1\" class=\"dataframe\">\n",
       "  <thead>\n",
       "    <tr style=\"text-align: right;\">\n",
       "      <th></th>\n",
       "      <th>ORDERNUMBER</th>\n",
       "      <th>QUANTITYORDERED</th>\n",
       "      <th>PRICEEACH</th>\n",
       "      <th>SALES</th>\n",
       "      <th>ORDERDATE</th>\n",
       "      <th>MONTH_ID</th>\n",
       "      <th>YEAR_ID</th>\n",
       "      <th>PRODUCTLINE</th>\n",
       "      <th>PHONE</th>\n",
       "      <th>ADDRESSLINE1</th>\n",
       "      <th>CITY</th>\n",
       "      <th>STATE</th>\n",
       "      <th>POSTALCODE</th>\n",
       "      <th>COUNTRY</th>\n",
       "      <th>CONTACTLASTNAME</th>\n",
       "      <th>CONTACTFIRSTNAME</th>\n",
       "    </tr>\n",
       "    <tr>\n",
       "      <th>QTR_ID</th>\n",
       "      <th></th>\n",
       "      <th></th>\n",
       "      <th></th>\n",
       "      <th></th>\n",
       "      <th></th>\n",
       "      <th></th>\n",
       "      <th></th>\n",
       "      <th></th>\n",
       "      <th></th>\n",
       "      <th></th>\n",
       "      <th></th>\n",
       "      <th></th>\n",
       "      <th></th>\n",
       "      <th></th>\n",
       "      <th></th>\n",
       "      <th></th>\n",
       "    </tr>\n",
       "  </thead>\n",
       "  <tbody>\n",
       "    <tr>\n",
       "      <th>1</th>\n",
       "      <td>6829804</td>\n",
       "      <td>23485</td>\n",
       "      <td>55446.88</td>\n",
       "      <td>2350817.73</td>\n",
       "      <td>2/24/2003 0:001/15/2004 0:002/20/2004 0:002/3/...</td>\n",
       "      <td>1313</td>\n",
       "      <td>1332832</td>\n",
       "      <td>MotorcyclesMotorcyclesMotorcyclesMotorcyclesMo...</td>\n",
       "      <td>2125557818(1) 47.55.655503 9520 455540.67.8555...</td>\n",
       "      <td>897 Long Airport Avenue25, rue Lauriston636 St...</td>\n",
       "      <td>NYCParisMelbourneNantesNew BedfordStavernLuleB...</td>\n",
       "      <td>NYVictoriaMACAMAMACANSWNYOsakaVictoriaQueensla...</td>\n",
       "      <td>1002275016300444000505534110S-958 229401951247...</td>\n",
       "      <td>USAFranceAustraliaFranceUSANorwaySwedenUSAUSAU...</td>\n",
       "      <td>YuPerrierFergusonLabruneBenitezBergulfsenBergl...</td>\n",
       "      <td>KwaiDominiquePeterJanineVioletaJonasChristinaS...</td>\n",
       "    </tr>\n",
       "    <tr>\n",
       "      <th>2</th>\n",
       "      <td>5758370</td>\n",
       "      <td>20316</td>\n",
       "      <td>46774.20</td>\n",
       "      <td>2048120.30</td>\n",
       "      <td>5/7/2003 0:004/5/2004 0:005/18/2004 0:006/28/2...</td>\n",
       "      <td>2758</td>\n",
       "      <td>1124258</td>\n",
       "      <td>MotorcyclesMotorcyclesMotorcyclesMotorcyclesMo...</td>\n",
       "      <td>26.47.1555212555150020155593502035552570(171) ...</td>\n",
       "      <td>59 rue de l'Abbaye2678 Kingston Rd.7476 Moss R...</td>\n",
       "      <td>ReimsNYCNewarkBridgewaterLiverpoolMadridMadrid...</td>\n",
       "      <td>NYNJCTCTTokyoQuebecVictoriaPANJCTVictoriaNYNJC...</td>\n",
       "      <td>51100100229401997562WX1 6LT280342802397823106-...</td>\n",
       "      <td>FranceUSAUSAUSAUKSpainSpainUSAJapanCanadaSpain...</td>\n",
       "      <td>HenriotFrickBrownKingDevonFreyreSommerMurphySh...</td>\n",
       "      <td>PaulMichaelWilliamJulieElizabethDiegoMart¡nLes...</td>\n",
       "    </tr>\n",
       "    <tr>\n",
       "      <th>3</th>\n",
       "      <td>5146508</td>\n",
       "      <td>17118</td>\n",
       "      <td>42357.76</td>\n",
       "      <td>1758910.81</td>\n",
       "      <td>7/1/2003 0:008/25/2003 0:007/23/2004 0:008/27/...</td>\n",
       "      <td>4054</td>\n",
       "      <td>1007828</td>\n",
       "      <td>MotorcyclesMotorcyclesMotorcyclesMotorcyclesMo...</td>\n",
       "      <td>+33 1 46 62 7555626555726540.67.85556175558555...</td>\n",
       "      <td>27 rue du Colonel Pierre Avia78934 Hillside Dr...</td>\n",
       "      <td>ParisPasadenaNantesCambridgeHelsinkiBurlingame...</td>\n",
       "      <td>CAMACANSWCAMACAMAMABCMACANSWPACAMAMACAPACACANS...</td>\n",
       "      <td>75508900034400051247212409421779903206710100S-...</td>\n",
       "      <td>FranceUSAFranceUSAFinlandUSASingaporeAustralia...</td>\n",
       "      <td>Da CunhaYoungLabruneHernandezKarttunenHiranoNa...</td>\n",
       "      <td>DanielJulieJanineMartaMattiJuriEricAdrianPaolo...</td>\n",
       "    </tr>\n",
       "    <tr>\n",
       "      <th>4</th>\n",
       "      <td>11225699</td>\n",
       "      <td>38148</td>\n",
       "      <td>91589.23</td>\n",
       "      <td>3874780.01</td>\n",
       "      <td>10/10/2003 0:0010/28/2003 0:0011/11/2003 0:001...</td>\n",
       "      <td>11897</td>\n",
       "      <td>2191852</td>\n",
       "      <td>MotorcyclesMotorcyclesMotorcyclesMotorcyclesMo...</td>\n",
       "      <td>6505551386650555680920.16.1555+47 2267 3215650...</td>\n",
       "      <td>7734 Strong St.9408 Furth Circle184, chausse d...</td>\n",
       "      <td>San FranciscoBurlingameLilleBergenSan Francisc...</td>\n",
       "      <td>CACACAPANYNSWNYQueenslandPABCCANHCAVictoriaCAC...</td>\n",
       "      <td>9421759000N 5804411070267100225020206710022410...</td>\n",
       "      <td>USAUSAFranceNorwayUSANorwayUSAUSAAustriaAustra...</td>\n",
       "      <td>BrownHiranoRanceOeztanMurphyBergulfsenYuYuPipp...</td>\n",
       "      <td>JulieJuriMartineVeyselJulieJonasKyungKwaiGeorg...</td>\n",
       "    </tr>\n",
       "  </tbody>\n",
       "</table>\n",
       "</div>"
      ],
      "text/plain": [
       "        ORDERNUMBER  QUANTITYORDERED  PRICEEACH       SALES   \n",
       "QTR_ID                                                        \n",
       "1           6829804            23485   55446.88  2350817.73  \\\n",
       "2           5758370            20316   46774.20  2048120.30   \n",
       "3           5146508            17118   42357.76  1758910.81   \n",
       "4          11225699            38148   91589.23  3874780.01   \n",
       "\n",
       "                                                ORDERDATE  MONTH_ID  YEAR_ID   \n",
       "QTR_ID                                                                         \n",
       "1       2/24/2003 0:001/15/2004 0:002/20/2004 0:002/3/...      1313  1332832  \\\n",
       "2       5/7/2003 0:004/5/2004 0:005/18/2004 0:006/28/2...      2758  1124258   \n",
       "3       7/1/2003 0:008/25/2003 0:007/23/2004 0:008/27/...      4054  1007828   \n",
       "4       10/10/2003 0:0010/28/2003 0:0011/11/2003 0:001...     11897  2191852   \n",
       "\n",
       "                                              PRODUCTLINE   \n",
       "QTR_ID                                                      \n",
       "1       MotorcyclesMotorcyclesMotorcyclesMotorcyclesMo...  \\\n",
       "2       MotorcyclesMotorcyclesMotorcyclesMotorcyclesMo...   \n",
       "3       MotorcyclesMotorcyclesMotorcyclesMotorcyclesMo...   \n",
       "4       MotorcyclesMotorcyclesMotorcyclesMotorcyclesMo...   \n",
       "\n",
       "                                                    PHONE   \n",
       "QTR_ID                                                      \n",
       "1       2125557818(1) 47.55.655503 9520 455540.67.8555...  \\\n",
       "2       26.47.1555212555150020155593502035552570(171) ...   \n",
       "3       +33 1 46 62 7555626555726540.67.85556175558555...   \n",
       "4       6505551386650555680920.16.1555+47 2267 3215650...   \n",
       "\n",
       "                                             ADDRESSLINE1   \n",
       "QTR_ID                                                      \n",
       "1       897 Long Airport Avenue25, rue Lauriston636 St...  \\\n",
       "2       59 rue de l'Abbaye2678 Kingston Rd.7476 Moss R...   \n",
       "3       27 rue du Colonel Pierre Avia78934 Hillside Dr...   \n",
       "4       7734 Strong St.9408 Furth Circle184, chausse d...   \n",
       "\n",
       "                                                     CITY   \n",
       "QTR_ID                                                      \n",
       "1       NYCParisMelbourneNantesNew BedfordStavernLuleB...  \\\n",
       "2       ReimsNYCNewarkBridgewaterLiverpoolMadridMadrid...   \n",
       "3       ParisPasadenaNantesCambridgeHelsinkiBurlingame...   \n",
       "4       San FranciscoBurlingameLilleBergenSan Francisc...   \n",
       "\n",
       "                                                    STATE   \n",
       "QTR_ID                                                      \n",
       "1       NYVictoriaMACAMAMACANSWNYOsakaVictoriaQueensla...  \\\n",
       "2       NYNJCTCTTokyoQuebecVictoriaPANJCTVictoriaNYNJC...   \n",
       "3       CAMACANSWCAMACAMAMABCMACANSWPACAMAMACAPACACANS...   \n",
       "4       CACACAPANYNSWNYQueenslandPABCCANHCAVictoriaCAC...   \n",
       "\n",
       "                                               POSTALCODE   \n",
       "QTR_ID                                                      \n",
       "1       1002275016300444000505534110S-958 229401951247...  \\\n",
       "2       51100100229401997562WX1 6LT280342802397823106-...   \n",
       "3       75508900034400051247212409421779903206710100S-...   \n",
       "4       9421759000N 5804411070267100225020206710022410...   \n",
       "\n",
       "                                                  COUNTRY   \n",
       "QTR_ID                                                      \n",
       "1       USAFranceAustraliaFranceUSANorwaySwedenUSAUSAU...  \\\n",
       "2       FranceUSAUSAUSAUKSpainSpainUSAJapanCanadaSpain...   \n",
       "3       FranceUSAFranceUSAFinlandUSASingaporeAustralia...   \n",
       "4       USAUSAFranceNorwayUSANorwayUSAUSAAustriaAustra...   \n",
       "\n",
       "                                          CONTACTLASTNAME   \n",
       "QTR_ID                                                      \n",
       "1       YuPerrierFergusonLabruneBenitezBergulfsenBergl...  \\\n",
       "2       HenriotFrickBrownKingDevonFreyreSommerMurphySh...   \n",
       "3       Da CunhaYoungLabruneHernandezKarttunenHiranoNa...   \n",
       "4       BrownHiranoRanceOeztanMurphyBergulfsenYuYuPipp...   \n",
       "\n",
       "                                         CONTACTFIRSTNAME  \n",
       "QTR_ID                                                     \n",
       "1       KwaiDominiquePeterJanineVioletaJonasChristinaS...  \n",
       "2       PaulMichaelWilliamJulieElizabethDiegoMart¡nLes...  \n",
       "3       DanielJulieJanineMartaMattiJuriEricAdrianPaolo...  \n",
       "4       JulieJuriMartineVeyselJulieJonasKyungKwaiGeorg...  "
      ]
     },
     "execution_count": 81,
     "metadata": {},
     "output_type": "execute_result"
    }
   ],
   "source": [
    "df.groupby('QTR_ID').sum()"
   ]
  },
  {
   "cell_type": "code",
   "execution_count": 113,
   "id": "d05f84d3",
   "metadata": {},
   "outputs": [
    {
     "data": {
      "text/plain": [
       "POSTALCODE\n",
       "10022       560787.77\n",
       "10100        94117.26\n",
       "106-0032    120562.74\n",
       "1203        117713.56\n",
       "1227 MM      94015.73\n",
       "              ...    \n",
       "T2F 8M4      74634.85\n",
       "V3F 2K1      75238.92\n",
       "WA1 1DP      36019.04\n",
       "WX1 6LT     118008.27\n",
       "WX3 6FW      88804.50\n",
       "Name: SALES, Length: 73, dtype: float64"
      ]
     },
     "execution_count": 113,
     "metadata": {},
     "output_type": "execute_result"
    }
   ],
   "source": [
    "df.groupby('POSTALCODE').sum()['SALES']"
   ]
  },
  {
   "cell_type": "code",
   "execution_count": 83,
   "id": "fb961824",
   "metadata": {},
   "outputs": [],
   "source": [
    "# Sum of Sales by Quarter ?"
   ]
  },
  {
   "cell_type": "markdown",
   "id": "46e6815d",
   "metadata": {},
   "source": [
    "***"
   ]
  },
  {
   "cell_type": "code",
   "execution_count": 84,
   "id": "1e67aa4d",
   "metadata": {},
   "outputs": [],
   "source": [
    "# !pip install sqlalchemy"
   ]
  },
  {
   "cell_type": "code",
   "execution_count": 85,
   "id": "09a2396b",
   "metadata": {},
   "outputs": [],
   "source": [
    "import sqlalchemy"
   ]
  },
  {
   "cell_type": "code",
   "execution_count": 86,
   "id": "840ab02e",
   "metadata": {},
   "outputs": [],
   "source": [
    "from sqlalchemy import create_engine\n",
    "from sqlalchemy import text"
   ]
  },
  {
   "cell_type": "code",
   "execution_count": 87,
   "id": "927f1788",
   "metadata": {
    "scrolled": true
   },
   "outputs": [],
   "source": [
    "# TEMP DB in RAM\n",
    "\n",
    "# PUSH Pandas df --> TEMP DB\n",
    "\n",
    "# SQL query on TEMP DB"
   ]
  },
  {
   "cell_type": "code",
   "execution_count": 88,
   "id": "9a6e2099",
   "metadata": {},
   "outputs": [],
   "source": [
    "temp_db = create_engine('sqlite:///:memory:', echo=True)"
   ]
  },
  {
   "cell_type": "code",
   "execution_count": 89,
   "id": "662f4b81",
   "metadata": {},
   "outputs": [
    {
     "name": "stdout",
     "output_type": "stream",
     "text": [
      "2023-04-29 20:23:53,565 INFO sqlalchemy.engine.Engine BEGIN (implicit)\n",
      "2023-04-29 20:23:53,602 INFO sqlalchemy.engine.Engine PRAGMA main.table_info(\"Sales\")\n",
      "2023-04-29 20:23:53,605 INFO sqlalchemy.engine.Engine [raw sql] ()\n",
      "2023-04-29 20:23:53,613 INFO sqlalchemy.engine.Engine PRAGMA temp.table_info(\"Sales\")\n",
      "2023-04-29 20:23:53,614 INFO sqlalchemy.engine.Engine [raw sql] ()\n",
      "2023-04-29 20:23:53,623 INFO sqlalchemy.engine.Engine \n",
      "CREATE TABLE \"Sales\" (\n",
      "\t\"index\" BIGINT, \n",
      "\t\"ORDERNUMBER\" BIGINT, \n",
      "\t\"QUANTITYORDERED\" BIGINT, \n",
      "\t\"PRICEEACH\" FLOAT, \n",
      "\t\"SALES\" FLOAT, \n",
      "\t\"ORDERDATE\" TEXT, \n",
      "\t\"QTR_ID\" BIGINT, \n",
      "\t\"MONTH_ID\" BIGINT, \n",
      "\t\"YEAR_ID\" BIGINT, \n",
      "\t\"PRODUCTLINE\" TEXT, \n",
      "\t\"PHONE\" TEXT, \n",
      "\t\"ADDRESSLINE1\" TEXT, \n",
      "\t\"CITY\" TEXT, \n",
      "\t\"STATE\" TEXT, \n",
      "\t\"POSTALCODE\" TEXT, \n",
      "\t\"COUNTRY\" TEXT, \n",
      "\t\"CONTACTLASTNAME\" TEXT, \n",
      "\t\"CONTACTFIRSTNAME\" TEXT\n",
      ")\n",
      "\n",
      "\n",
      "2023-04-29 20:23:53,624 INFO sqlalchemy.engine.Engine [no key 0.00147s] ()\n",
      "2023-04-29 20:23:53,630 INFO sqlalchemy.engine.Engine CREATE INDEX \"ix_Sales_index\" ON \"Sales\" (\"index\")\n",
      "2023-04-29 20:23:53,632 INFO sqlalchemy.engine.Engine [no key 0.00190s] ()\n",
      "2023-04-29 20:23:53,758 INFO sqlalchemy.engine.Engine INSERT INTO \"Sales\" (\"index\", \"ORDERNUMBER\", \"QUANTITYORDERED\", \"PRICEEACH\", \"SALES\", \"ORDERDATE\", \"QTR_ID\", \"MONTH_ID\", \"YEAR_ID\", \"PRODUCTLINE\", \"PHONE\", \"ADDRESSLINE1\", \"CITY\", \"STATE\", \"POSTALCODE\", \"COUNTRY\", \"CONTACTLASTNAME\", \"CONTACTFIRSTNAME\") VALUES (?, ?, ?, ?, ?, ?, ?, ?, ?, ?, ?, ?, ?, ?, ?, ?, ?, ?)\n",
      "2023-04-29 20:23:53,760 INFO sqlalchemy.engine.Engine [generated in 0.08222s] [(0, 10107, 30, 95.7, 2871.0, '2/24/2003 0:00', 1, 2, 2003, 'Motorcycles', '2125557818', '897 Long Airport Avenue', 'NYC', 'NY', '10022', 'USA', 'Yu', 'Kwai'), (1, 10121, 34, 81.35, 2765.9, '5/7/2003 0:00', 2, 5, 2003, 'Motorcycles', '26.47.1555', \"59 rue de l'Abbaye\", 'Reims', None, '51100', 'France', 'Henriot', 'Paul'), (2, 10134, 41, 94.74, 3884.34, '7/1/2003 0:00', 3, 7, 2003, 'Motorcycles', '+33 1 46 62 7555', '27 rue du Colonel Pierre Avia', 'Paris', None, '75508', 'France', 'Da Cunha', 'Daniel'), (3, 10145, 45, 83.26, 3746.7, '8/25/2003 0:00', 3, 8, 2003, 'Motorcycles', '6265557265', '78934 Hillside Dr.', 'Pasadena', 'CA', '90003', 'USA', 'Young', 'Julie'), (4, 10159, 49, 100.0, 5205.27, '10/10/2003 0:00', 4, 10, 2003, 'Motorcycles', '6505551386', '7734 Strong St.', 'San Francisco', 'CA', None, 'USA', 'Brown', 'Julie'), (5, 10168, 36, 96.66, 3479.76, '10/28/2003 0:00', 4, 10, 2003, 'Motorcycles', '6505556809', '9408 Furth Circle', 'Burlingame', 'CA', '94217', 'USA', 'Hirano', 'Juri'), (6, 10180, 29, 86.13, 2497.77, '11/11/2003 0:00', 4, 11, 2003, 'Motorcycles', '20.16.1555', '184, chausse de Tournai', 'Lille', None, '59000', 'France', 'Rance', 'Martine'), (7, 10188, 48, 100.0, 5512.32, '11/18/2003 0:00', 4, 11, 2003, 'Motorcycles', '+47 2267 3215', 'Drammen 121, PR 744 Sentrum', 'Bergen', None, 'N 5804', 'Norway', 'Oeztan', 'Veysel')  ... displaying 10 of 2823 total bound parameter sets ...  (2821, 10397, 34, 62.24, 2116.16, '3/28/2005 0:00', 1, 3, 2005, 'Ships', '61.77.6555', '1 rue Alsace-Lorraine', 'Toulouse', None, '31000', 'France', 'Roulet', 'Annette'), (2822, 10414, 47, 65.52, 3079.44, '5/6/2005 0:00', 2, 5, 2005, 'Ships', '6175559555', '8616 Spinnaker Dr.', 'Boston', 'MA', '51003', 'USA', 'Yoshido', 'Juri')]\n",
      "2023-04-29 20:23:53,801 INFO sqlalchemy.engine.Engine SELECT name FROM sqlite_master WHERE type='table' AND name NOT LIKE 'sqlite~_%' ESCAPE '~' ORDER BY name\n",
      "2023-04-29 20:23:53,802 INFO sqlalchemy.engine.Engine [raw sql] ()\n",
      "2023-04-29 20:23:53,808 INFO sqlalchemy.engine.Engine COMMIT\n"
     ]
    }
   ],
   "source": [
    "data = df.to_sql(name='Sales', con = temp_db)"
   ]
  },
  {
   "cell_type": "code",
   "execution_count": 90,
   "id": "cfe73397",
   "metadata": {},
   "outputs": [
    {
     "name": "stdout",
     "output_type": "stream",
     "text": [
      "2023-04-29 20:24:04,400 INFO sqlalchemy.engine.Engine BEGIN (implicit)\n",
      "2023-04-29 20:24:04,402 INFO sqlalchemy.engine.Engine SELECT SUM(SALES) FROM Sales\n",
      "2023-04-29 20:24:04,403 INFO sqlalchemy.engine.Engine [generated in 0.00315s] ()\n",
      "2023-04-29 20:24:04,408 INFO sqlalchemy.engine.Engine ROLLBACK\n"
     ]
    }
   ],
   "source": [
    "with temp_db.connect() as conn:\n",
    "    \n",
    "    result = conn.execute(text('SELECT SUM(SALES) FROM Sales'))"
   ]
  },
  {
   "cell_type": "code",
   "execution_count": 91,
   "id": "dcd95484",
   "metadata": {},
   "outputs": [
    {
     "data": {
      "text/plain": [
       "[(10032628.85000001,)]"
      ]
     },
     "execution_count": 91,
     "metadata": {},
     "output_type": "execute_result"
    }
   ],
   "source": [
    "result.fetchall()"
   ]
  },
  {
   "cell_type": "markdown",
   "id": "3f97febf",
   "metadata": {},
   "source": [
    "***"
   ]
  },
  {
   "cell_type": "code",
   "execution_count": 92,
   "id": "211ca3a3",
   "metadata": {},
   "outputs": [],
   "source": [
    "def create_table_definition(df):\n",
    "    \n",
    "    prompt = f\"\"\"### sqlite SQL table, with it properties\n",
    "    #\n",
    "    #Sales({','.join(str(col) for col in df.columns)})\n",
    "    #\n",
    "    \"\"\"\n",
    "    return prompt"
   ]
  },
  {
   "cell_type": "code",
   "execution_count": 93,
   "id": "7c7741c2",
   "metadata": {},
   "outputs": [
    {
     "name": "stdout",
     "output_type": "stream",
     "text": [
      "### sqlite SQL table, with it properties\n",
      "    #\n",
      "    #Sales(ORDERNUMBER,QUANTITYORDERED,PRICEEACH,SALES,ORDERDATE,QTR_ID,MONTH_ID,YEAR_ID,PRODUCTLINE,PHONE,ADDRESSLINE1,CITY,STATE,POSTALCODE,COUNTRY,CONTACTLASTNAME,CONTACTFIRSTNAME)\n",
      "    #\n",
      "    \n"
     ]
    }
   ],
   "source": [
    "print(create_table_definition(df))"
   ]
  },
  {
   "cell_type": "code",
   "execution_count": 94,
   "id": "9eeb1542",
   "metadata": {},
   "outputs": [],
   "source": [
    "def prompt_input():\n",
    "    nlp_text = input(\"Enter the info you want ? : \")\n",
    "    return nlp_text"
   ]
  },
  {
   "cell_type": "code",
   "execution_count": 95,
   "id": "f8e71f0e",
   "metadata": {},
   "outputs": [],
   "source": [
    "def combine_promt(df,query_promt):\n",
    "    definition = create_table_definition(df)\n",
    "    query_init_string = f\"### A query to answer : {query_promt}\\nSELECT\"\n",
    "    \n",
    "    return definition + query_init_string"
   ]
  },
  {
   "cell_type": "code",
   "execution_count": 96,
   "id": "c14332e5",
   "metadata": {},
   "outputs": [
    {
     "name": "stdout",
     "output_type": "stream",
     "text": [
      "Enter the info you want ? : Get the sum of all the quaters\n"
     ]
    }
   ],
   "source": [
    "prompt = combine_promt(df,prompt_input())"
   ]
  },
  {
   "cell_type": "code",
   "execution_count": 97,
   "id": "36af5bd3",
   "metadata": {},
   "outputs": [
    {
     "name": "stdout",
     "output_type": "stream",
     "text": [
      "### sqlite SQL table, with it properties\n",
      "    #\n",
      "    #Sales(ORDERNUMBER,QUANTITYORDERED,PRICEEACH,SALES,ORDERDATE,QTR_ID,MONTH_ID,YEAR_ID,PRODUCTLINE,PHONE,ADDRESSLINE1,CITY,STATE,POSTALCODE,COUNTRY,CONTACTLASTNAME,CONTACTFIRSTNAME)\n",
      "    #\n",
      "    ### A query to answer : Get the sum of all the quaters\n",
      "SELECT\n"
     ]
    }
   ],
   "source": [
    "print(prompt)"
   ]
  },
  {
   "cell_type": "code",
   "execution_count": 102,
   "id": "4da4ef86",
   "metadata": {},
   "outputs": [
    {
     "name": "stdout",
     "output_type": "stream",
     "text": [
      "Enter the info you want ? : Sum of SALES per POSTALCODE\n"
     ]
    }
   ],
   "source": [
    "reponse = openai.Completion.create(model = 'text-davinci-003',\n",
    "                                   prompt = combine_promt(df,prompt_input()),\n",
    "                                   temperature = 0,\n",
    "                                   max_tokens = 150,\n",
    "                                   frequency_penalty = 0,\n",
    "                                   presence_penalty = 0,\n",
    "                                   stop = ['#',';'])  "
   ]
  },
  {
   "cell_type": "code",
   "execution_count": 104,
   "id": "75664cb3",
   "metadata": {},
   "outputs": [
    {
     "data": {
      "text/plain": [
       "' POSTALCODE, SUM(SALES)\\nFROM Sales\\nGROUP BY POSTALCODE'"
      ]
     },
     "execution_count": 104,
     "metadata": {},
     "output_type": "execute_result"
    }
   ],
   "source": [
    "reponse['choices'][0]['text']"
   ]
  },
  {
   "cell_type": "code",
   "execution_count": 105,
   "id": "e77f9ed4",
   "metadata": {},
   "outputs": [
    {
     "name": "stdout",
     "output_type": "stream",
     "text": [
      " POSTALCODE, SUM(SALES)\n",
      "FROM Sales\n",
      "GROUP BY POSTALCODE\n"
     ]
    }
   ],
   "source": [
    "print(reponse['choices'][0]['text'])"
   ]
  },
  {
   "cell_type": "code",
   "execution_count": 106,
   "id": "c439cc33",
   "metadata": {},
   "outputs": [],
   "source": [
    "def handle_reponse(response):\n",
    "    query = reponse['choices'][0]['text']\n",
    "    if query.startswith(\" \"):\n",
    "        query = \"SELECT\"+query\n",
    "    return query"
   ]
  },
  {
   "cell_type": "code",
   "execution_count": 112,
   "id": "996eb446",
   "metadata": {},
   "outputs": [
    {
     "name": "stdout",
     "output_type": "stream",
     "text": [
      "SELECT POSTALCODE, SUM(SALES)\n",
      "FROM Sales\n",
      "GROUP BY POSTALCODE\n"
     ]
    }
   ],
   "source": [
    "print(handle_reponse(reponse))"
   ]
  },
  {
   "cell_type": "code",
   "execution_count": 110,
   "id": "a7945641",
   "metadata": {},
   "outputs": [
    {
     "name": "stdout",
     "output_type": "stream",
     "text": [
      "2023-04-29 20:34:51,944 INFO sqlalchemy.engine.Engine BEGIN (implicit)\n",
      "2023-04-29 20:34:51,945 INFO sqlalchemy.engine.Engine SELECT POSTALCODE, SUM(SALES)\n",
      "FROM Sales\n",
      "GROUP BY POSTALCODE\n",
      "2023-04-29 20:34:51,946 INFO sqlalchemy.engine.Engine [generated in 0.00387s] ()\n",
      "2023-04-29 20:34:51,956 INFO sqlalchemy.engine.Engine ROLLBACK\n"
     ]
    }
   ],
   "source": [
    "with temp_db.connect() as conn:\n",
    "    result = conn.execute(text(handle_reponse(reponse)))"
   ]
  },
  {
   "cell_type": "code",
   "execution_count": 111,
   "id": "0df874c5",
   "metadata": {},
   "outputs": [
    {
     "data": {
      "text/plain": [
       "[(None, 272407.14),\n",
       " ('10022', 560787.7699999998),\n",
       " ('10100', 94117.26000000002),\n",
       " ('106-0032', 120562.73999999996),\n",
       " ('1203', 117713.55999999998),\n",
       " ('1227 MM', 94015.73),\n",
       " ('13008', 74936.14),\n",
       " ('1734', 145041.6),\n",
       " ('2', 57756.43),\n",
       " ('2060', 153996.13000000003),\n",
       " ('2067', 151570.98000000004),\n",
       " ('21240', 111250.37999999996),\n",
       " ('24067', 85555.98999999998),\n",
       " ('24100', 137955.72000000003),\n",
       " ('28023', 170257.33000000005),\n",
       " ('28034', 912294.1100000002),\n",
       " ('3004', 200995.40999999997),\n",
       " ('31000', 70488.44),\n",
       " ('3150', 64591.46000000001),\n",
       " ('4101', 59469.11999999999),\n",
       " ('4110', 116599.19),\n",
       " ('41101', 54723.62),\n",
       " ('42100', 142601.33000000002),\n",
       " ('44000', 204304.86),\n",
       " ('5020', 149798.63),\n",
       " ('50553', 207874.86),\n",
       " ('50739', 100306.58),\n",
       " ('51003', 154069.65999999997),\n",
       " ('51100', 135042.94),\n",
       " ('51247', 139243.99999999994),\n",
       " ('530-0003', 67605.07),\n",
       " ('58339', 165255.20000000004),\n",
       " ('59000', 69052.41),\n",
       " ('60528', 85171.58999999998),\n",
       " ('62005', 131685.30000000002),\n",
       " ('67000', 80438.48),\n",
       " ('69004', 142874.25000000003),\n",
       " ('69045', 115498.73000000001),\n",
       " ('70267', 122138.14000000001),\n",
       " ('71270', 151189.12999999998),\n",
       " ('75012', 97203.68000000001),\n",
       " ('75016', 93170.65999999999),\n",
       " ('75508', 78570.34000000001),\n",
       " ('78000', 64834.32000000001),\n",
       " ('79903', 172989.68000000008),\n",
       " ('8010', 52263.899999999994),\n",
       " ('8022', 78411.86000000002),\n",
       " ('80686', 34993.92),\n",
       " ('8200', 100595.54999999999),\n",
       " ('83030', 82751.08000000002),\n",
       " ('90003', 104561.95999999998),\n",
       " ('90110', 104370.38),\n",
       " ('91217', 87489.22999999998),\n",
       " ('92561', 9129.349999999999),\n",
       " ('94019', 129312.82999999999),\n",
       " ('94217', 331011.8500000001),\n",
       " ('97561', 57294.420000000006),\n",
       " ('97562', 756752.8500000003),\n",
       " ('97823', 79472.07),\n",
       " ('B-1180', 74972.52),\n",
       " ('B-6000', 33440.1),\n",
       " ('EC2 5NT', 157807.80999999997),\n",
       " ('FIN-02271', 113961.14999999997),\n",
       " ('H1J 1C3', 74204.79),\n",
       " ('N 0106', 79224.23),\n",
       " ('N 5804', 111640.28),\n",
       " ('PO31 7PJ', 78240.83999999998),\n",
       " ('S-844 67', 134259.33000000002),\n",
       " ('S-958 22', 75754.88),\n",
       " ('T2F 8M4', 74634.84999999999),\n",
       " ('V3F 2K1', 75238.92),\n",
       " ('WA1 1DP', 36019.04),\n",
       " ('WX1 6LT', 118008.26999999999),\n",
       " ('WX3 6FW', 88804.5)]"
      ]
     },
     "execution_count": 111,
     "metadata": {},
     "output_type": "execute_result"
    }
   ],
   "source": [
    "result.fetchall()"
   ]
  },
  {
   "cell_type": "code",
   "execution_count": null,
   "id": "7f6f2af7",
   "metadata": {},
   "outputs": [],
   "source": []
  }
 ],
 "metadata": {
  "kernelspec": {
   "display_name": "Python 3 (ipykernel)",
   "language": "python",
   "name": "python3"
  },
  "language_info": {
   "codemirror_mode": {
    "name": "ipython",
    "version": 3
   },
   "file_extension": ".py",
   "mimetype": "text/x-python",
   "name": "python",
   "nbconvert_exporter": "python",
   "pygments_lexer": "ipython3",
   "version": "3.10.11"
  }
 },
 "nbformat": 4,
 "nbformat_minor": 5
}
