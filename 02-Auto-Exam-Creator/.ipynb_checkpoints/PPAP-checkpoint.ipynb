{
 "cells": [
  {
   "cell_type": "code",
   "execution_count": 41,
   "id": "605721aa",
   "metadata": {},
   "outputs": [],
   "source": [
    "import os\n",
    "import openai"
   ]
  },
  {
   "cell_type": "code",
   "execution_count": 47,
   "id": "50171993",
   "metadata": {},
   "outputs": [],
   "source": [
    "openai.api_key = os.getenv('OPENAI_API_KEY')"
   ]
  },
  {
   "cell_type": "markdown",
   "id": "85de186b",
   "metadata": {},
   "source": [
    "***"
   ]
  },
  {
   "cell_type": "code",
   "execution_count": 9,
   "id": "62e21fc7",
   "metadata": {},
   "outputs": [],
   "source": [
    "prompt = \"Give me details about the technology startup called VihaCXD\"  # VihaCXD is total random I choose"
   ]
  },
  {
   "cell_type": "code",
   "execution_count": 10,
   "id": "7542e3dc",
   "metadata": {},
   "outputs": [],
   "source": [
    "response = openai.Completion.create(model = \"text-davinci-003\",\n",
    "                                    prompt = prompt,\n",
    "                                    max_tokens = 256,\n",
    "                                    temperature = 0.8)"
   ]
  },
  {
   "cell_type": "code",
   "execution_count": 11,
   "id": "f8a7cbad",
   "metadata": {},
   "outputs": [
    {
     "name": "stdout",
     "output_type": "stream",
     "text": [
      "\n",
      "\n",
      "VihaCXD is a technology startup based in India, founded by Anil Pardhi and Rahul Pandey in 2017. The startup provides software solutions to businesses to help them improve customer experience. VihaCXD’s products are designed to help businesses improve customer service and engagement, while reducing operational costs. The company offers a suite of customer engagement products including customer journey management, customer experience management, customer segmentation, analytics, and customer feedback management. The company also provides services to help businesses scale up their customer experience initiatives. VihaCXD works with companies of all sizes, from startups to Fortune 500 companies, across various industries such as Retail, BFSI, FMCG, Healthcare, and Transportation. The company has offices in Pune, Delhi, and San Francisco.\n"
     ]
    }
   ],
   "source": [
    "print(response['choices'][0]['text'])"
   ]
  },
  {
   "cell_type": "code",
   "execution_count": null,
   "id": "a2ca8945",
   "metadata": {},
   "outputs": [],
   "source": []
  },
  {
   "cell_type": "markdown",
   "id": "f811c19a",
   "metadata": {},
   "source": [
    "### And you can see the model hallucinating"
   ]
  },
  {
   "cell_type": "markdown",
   "id": "d434ec93",
   "metadata": {},
   "source": [
    "***"
   ]
  },
  {
   "cell_type": "code",
   "execution_count": 16,
   "id": "68912612",
   "metadata": {},
   "outputs": [],
   "source": [
    "prompt = \"Give me details about the technology startup called VihaCXD. Only answer if you are 100% sure that this company exits,\\\n",
    "          otherwise specify 'I dont know'\" "
   ]
  },
  {
   "cell_type": "code",
   "execution_count": 17,
   "id": "f005608b",
   "metadata": {},
   "outputs": [],
   "source": [
    "response = openai.Completion.create(model = \"text-davinci-003\",\n",
    "                                    prompt = prompt,\n",
    "                                    max_tokens = 256,\n",
    "                                    temperature = 0.8)"
   ]
  },
  {
   "cell_type": "code",
   "execution_count": 18,
   "id": "8822e399",
   "metadata": {},
   "outputs": [
    {
     "name": "stdout",
     "output_type": "stream",
     "text": [
      "\n",
      "\n",
      "I dont know\n"
     ]
    }
   ],
   "source": [
    "print(response['choices'][0]['text'])"
   ]
  },
  {
   "cell_type": "markdown",
   "id": "be44d59d",
   "metadata": {},
   "source": [
    "***"
   ]
  },
  {
   "cell_type": "markdown",
   "id": "36ab272e",
   "metadata": {},
   "source": [
    "### Quiz generation"
   ]
  },
  {
   "cell_type": "code",
   "execution_count": 48,
   "id": "38666418",
   "metadata": {},
   "outputs": [],
   "source": [
    "def create_test_prompt(topic, num_questions, num_possible_answers):\n",
    "    prompt = f\"Create a multiple choice quiz on the topic of {topic} consist of {num_questions} questions. \"\\\n",
    "             + f\"Each question should have {num_possible_answers} options. \"\\\n",
    "             + f\"Also include the correct answer for each question using starting string 'Correct Answer:' \"\n",
    "    \n",
    "    return prompt"
   ]
  },
  {
   "cell_type": "code",
   "execution_count": 49,
   "id": "ef743364",
   "metadata": {},
   "outputs": [
    {
     "data": {
      "text/plain": [
       "\"Create a multiple choice quiz on the topic of Python consist of 5 questions. Each question should have 4 options. Also include the correct answer for each question using starting string 'Correct Answer:' \""
      ]
     },
     "execution_count": 49,
     "metadata": {},
     "output_type": "execute_result"
    }
   ],
   "source": [
    "create_test_prompt(\"Python\",5,4)"
   ]
  },
  {
   "cell_type": "code",
   "execution_count": 50,
   "id": "35e16439",
   "metadata": {},
   "outputs": [],
   "source": [
    "response = openai.Completion.create(model = \"text-davinci-003\",\n",
    "                                    prompt = create_test_prompt('Python data types',5,4),\n",
    "                                    max_tokens = 256,\n",
    "                                    temperature = 0.7)"
   ]
  },
  {
   "cell_type": "code",
   "execution_count": 51,
   "id": "dbbef386",
   "metadata": {},
   "outputs": [
    {
     "name": "stdout",
     "output_type": "stream",
     "text": [
      "\n",
      "\n",
      "Q1. Which of the following is not a Python data type?\n",
      "A. List \n",
      "B. Integer\n",
      "C. Float\n",
      "D. Character\n",
      "Correct Answer: D. Character\n",
      "\n",
      "Q2. Which of the following is used to store floating point numbers?\n",
      "A. Strings\n",
      "B. Tuples\n",
      "C. Lists\n",
      "D. Floats\n",
      "Correct Answer: D. Floats\n",
      "\n",
      "Q3. Which of the following data types is immutable?\n",
      "A. Set\n",
      "B. List\n",
      "C. Dictionary\n",
      "D. Tuple\n",
      "Correct Answer: D. Tuple\n",
      "\n",
      "Q4. What is the data type of the result of 5 + 3?\n",
      "A. Float\n",
      "B. Integer\n",
      "C. List\n",
      "D. String\n",
      "Correct Answer: B. Integer\n",
      "\n",
      "Q5. Which of the following is a data type used to represent a collection of characters?\n",
      "A. List\n",
      "B. Float\n",
      "C. String\n",
      "D. Tuple\n",
      "Correct Answer: C. String\n"
     ]
    }
   ],
   "source": [
    "print(response['choices'][0]['text'])"
   ]
  },
  {
   "cell_type": "code",
   "execution_count": 53,
   "id": "4cea9c92",
   "metadata": {},
   "outputs": [],
   "source": [
    "text = response['choices'][0]['text']"
   ]
  },
  {
   "cell_type": "code",
   "execution_count": 54,
   "id": "9dd894c7",
   "metadata": {},
   "outputs": [
    {
     "data": {
      "text/plain": [
       "'\\n\\nQ1. Which of the following is not a Python data type?\\nA. List \\nB. Integer\\nC. Float\\nD. Character\\nCorrect Answer: D. Character\\n\\nQ2. Which of the following is used to store floating point numbers?\\nA. Strings\\nB. Tuples\\nC. Lists\\nD. Floats\\nCorrect Answer: D. Floats\\n\\nQ3. Which of the following data types is immutable?\\nA. Set\\nB. List\\nC. Dictionary\\nD. Tuple\\nCorrect Answer: D. Tuple\\n\\nQ4. What is the data type of the result of 5 + 3?\\nA. Float\\nB. Integer\\nC. List\\nD. String\\nCorrect Answer: B. Integer\\n\\nQ5. Which of the following is a data type used to represent a collection of characters?\\nA. List\\nB. Float\\nC. String\\nD. Tuple\\nCorrect Answer: C. String'"
      ]
     },
     "execution_count": 54,
     "metadata": {},
     "output_type": "execute_result"
    }
   ],
   "source": [
    "text"
   ]
  },
  {
   "cell_type": "markdown",
   "id": "3896f02a",
   "metadata": {},
   "source": [
    "### Q/A Extraction\n",
    "\n",
    "We now need to extract the questions and answers to present them to the students later"
   ]
  },
  {
   "cell_type": "code",
   "execution_count": 55,
   "id": "503ebead",
   "metadata": {},
   "outputs": [
    {
     "data": {
      "text/plain": [
       "['',\n",
       " '',\n",
       " 'Q1. Which of the following is not a Python data type?',\n",
       " 'A. List ',\n",
       " 'B. Integer',\n",
       " 'C. Float',\n",
       " 'D. Character',\n",
       " 'Correct Answer: D. Character',\n",
       " '',\n",
       " 'Q2. Which of the following is used to store floating point numbers?',\n",
       " 'A. Strings',\n",
       " 'B. Tuples',\n",
       " 'C. Lists',\n",
       " 'D. Floats',\n",
       " 'Correct Answer: D. Floats',\n",
       " '',\n",
       " 'Q3. Which of the following data types is immutable?',\n",
       " 'A. Set',\n",
       " 'B. List',\n",
       " 'C. Dictionary',\n",
       " 'D. Tuple',\n",
       " 'Correct Answer: D. Tuple',\n",
       " '',\n",
       " 'Q4. What is the data type of the result of 5 + 3?',\n",
       " 'A. Float',\n",
       " 'B. Integer',\n",
       " 'C. List',\n",
       " 'D. String',\n",
       " 'Correct Answer: B. Integer',\n",
       " '',\n",
       " 'Q5. Which of the following is a data type used to represent a collection of characters?',\n",
       " 'A. List',\n",
       " 'B. Float',\n",
       " 'C. String',\n",
       " 'D. Tuple',\n",
       " 'Correct Answer: C. String']"
      ]
     },
     "execution_count": 55,
     "metadata": {},
     "output_type": "execute_result"
    }
   ],
   "source": [
    "text.split(\"\\n\")"
   ]
  },
  {
   "cell_type": "code",
   "execution_count": 11,
   "id": "9be80532",
   "metadata": {},
   "outputs": [],
   "source": [
    "def create_student_view(text,num_questions):\n",
    "    student_view = {1:\"\"}\n",
    "    question_number = 1\n",
    "    \n",
    "    for line in text.split(\"\\n\"):\n",
    "        if not line.startswith(\"Correct Answer\"):\n",
    "            student_view[question_number] += line+\"\\n\"\n",
    "        else:\n",
    "            if question_number < num_questions:\n",
    "                question_number += 1\n",
    "                student_view[question_number]  = \"\"\n",
    "    \n",
    "    return student_view"
   ]
  },
  {
   "cell_type": "code",
   "execution_count": 56,
   "id": "c982ef61",
   "metadata": {},
   "outputs": [
    {
     "data": {
      "text/plain": [
       "{1: '\\n\\nQ1. Which of the following is not a Python data type?\\nA. List \\nB. Integer\\nC. Float\\nD. Character\\n',\n",
       " 2: '\\nQ2. Which of the following is used to store floating point numbers?\\nA. Strings\\nB. Tuples\\nC. Lists\\nD. Floats\\n',\n",
       " 3: '\\nQ3. Which of the following data types is immutable?\\nA. Set\\nB. List\\nC. Dictionary\\nD. Tuple\\n',\n",
       " 4: '\\nQ4. What is the data type of the result of 5 + 3?\\nA. Float\\nB. Integer\\nC. List\\nD. String\\n',\n",
       " 5: '\\nQ5. Which of the following is a data type used to represent a collection of characters?\\nA. List\\nB. Float\\nC. String\\nD. Tuple\\n'}"
      ]
     },
     "execution_count": 56,
     "metadata": {},
     "output_type": "execute_result"
    }
   ],
   "source": [
    "create_student_view(text,5)"
   ]
  },
  {
   "cell_type": "code",
   "execution_count": 57,
   "id": "6fb3348a",
   "metadata": {},
   "outputs": [
    {
     "data": {
      "text/plain": [
       "['',\n",
       " '',\n",
       " 'Q1. Which of the following is not a Python data type?',\n",
       " 'A. List ',\n",
       " 'B. Integer',\n",
       " 'C. Float',\n",
       " 'D. Character',\n",
       " 'Correct Answer: D. Character',\n",
       " '',\n",
       " 'Q2. Which of the following is used to store floating point numbers?',\n",
       " 'A. Strings',\n",
       " 'B. Tuples',\n",
       " 'C. Lists',\n",
       " 'D. Floats',\n",
       " 'Correct Answer: D. Floats',\n",
       " '',\n",
       " 'Q3. Which of the following data types is immutable?',\n",
       " 'A. Set',\n",
       " 'B. List',\n",
       " 'C. Dictionary',\n",
       " 'D. Tuple',\n",
       " 'Correct Answer: D. Tuple',\n",
       " '',\n",
       " 'Q4. What is the data type of the result of 5 + 3?',\n",
       " 'A. Float',\n",
       " 'B. Integer',\n",
       " 'C. List',\n",
       " 'D. String',\n",
       " 'Correct Answer: B. Integer',\n",
       " '',\n",
       " 'Q5. Which of the following is a data type used to represent a collection of characters?',\n",
       " 'A. List',\n",
       " 'B. Float',\n",
       " 'C. String',\n",
       " 'D. Tuple',\n",
       " 'Correct Answer: C. String']"
      ]
     },
     "execution_count": 57,
     "metadata": {},
     "output_type": "execute_result"
    }
   ],
   "source": [
    "text.split(\"\\n\")"
   ]
  },
  {
   "cell_type": "code",
   "execution_count": 58,
   "id": "b7ea0e8b",
   "metadata": {},
   "outputs": [],
   "source": [
    "def extract_answer(text, num_questions):\n",
    "    answer_view = {1:\"\"}\n",
    "    question_number = 1\n",
    "    \n",
    "    for line in text.split(\"\\n\"):\n",
    "        if line.startswith(\"Correct Answer\"):\n",
    "            answer_view[question_number] += line+\"\\n\"\n",
    "        \n",
    "            if question_number < num_questions:\n",
    "                question_number += 1\n",
    "                answer_view[question_number] = \"\"\n",
    "    \n",
    "    return answer_view"
   ]
  },
  {
   "cell_type": "code",
   "execution_count": 59,
   "id": "cc9ddc5c",
   "metadata": {},
   "outputs": [
    {
     "data": {
      "text/plain": [
       "{1: 'Correct Answer: D. Character\\n',\n",
       " 2: 'Correct Answer: D. Floats\\n',\n",
       " 3: 'Correct Answer: D. Tuple\\n',\n",
       " 4: 'Correct Answer: B. Integer\\n',\n",
       " 5: 'Correct Answer: C. String\\n'}"
      ]
     },
     "execution_count": 59,
     "metadata": {},
     "output_type": "execute_result"
    }
   ],
   "source": [
    "extract_answer(text,5)"
   ]
  },
  {
   "cell_type": "markdown",
   "id": "0a4f7dc9",
   "metadata": {},
   "source": [
    "### Exam simulation\n",
    "Based on the extracted questions, we can now simulate the exam"
   ]
  },
  {
   "cell_type": "code",
   "execution_count": 60,
   "id": "a6ef435a",
   "metadata": {},
   "outputs": [],
   "source": [
    "def take(student_view):\n",
    "    student_answer = {}\n",
    "    for question, question_view in student_view.items():\n",
    "        print(question_view)\n",
    "        option_selected = input(\"Enter your answer : \")\n",
    "        student_answer[question] = option_selected\n",
    "    \n",
    "    return student_answer"
   ]
  },
  {
   "cell_type": "code",
   "execution_count": 61,
   "id": "76cc8906",
   "metadata": {},
   "outputs": [
    {
     "name": "stdout",
     "output_type": "stream",
     "text": [
      "\n",
      "\n",
      "Q1. Which of the following is not a Python data type?\n",
      "A. List \n",
      "B. Integer\n",
      "C. Float\n",
      "D. Character\n",
      "\n",
      "Enter your answer : d\n",
      "\n",
      "Q2. Which of the following is used to store floating point numbers?\n",
      "A. Strings\n",
      "B. Tuples\n",
      "C. Lists\n",
      "D. Floats\n",
      "\n",
      "Enter your answer : d\n",
      "\n",
      "Q3. Which of the following data types is immutable?\n",
      "A. Set\n",
      "B. List\n",
      "C. Dictionary\n",
      "D. Tuple\n",
      "\n",
      "Enter your answer : d\n",
      "\n",
      "Q4. What is the data type of the result of 5 + 3?\n",
      "A. Float\n",
      "B. Integer\n",
      "C. List\n",
      "D. String\n",
      "\n",
      "Enter your answer : b\n",
      "\n",
      "Q5. Which of the following is a data type used to represent a collection of characters?\n",
      "A. List\n",
      "B. Float\n",
      "C. String\n",
      "D. Tuple\n",
      "\n",
      "Enter your answer : c\n"
     ]
    }
   ],
   "source": [
    "student_answer = take(create_student_view(text,5))"
   ]
  },
  {
   "cell_type": "code",
   "execution_count": null,
   "id": "cfaa542e",
   "metadata": {},
   "outputs": [],
   "source": []
  },
  {
   "cell_type": "code",
   "execution_count": 25,
   "id": "dac13029",
   "metadata": {},
   "outputs": [
    {
     "data": {
      "text/plain": [
       "'A'"
      ]
     },
     "execution_count": 25,
     "metadata": {},
     "output_type": "execute_result"
    }
   ],
   "source": [
    "\"Correct Answer: A. To reduce black money\"[16]"
   ]
  },
  {
   "cell_type": "code",
   "execution_count": null,
   "id": "aa339311",
   "metadata": {},
   "outputs": [],
   "source": []
  },
  {
   "cell_type": "markdown",
   "id": "0fe2065d",
   "metadata": {},
   "source": [
    "### Automatic Grading\n",
    "Based on the student's answers and correct answers, we can now grade the test!"
   ]
  },
  {
   "cell_type": "code",
   "execution_count": 62,
   "id": "794cb07a",
   "metadata": {},
   "outputs": [],
   "source": [
    "def automatic_grading(correct_ans_dic, student_answer_dict):\n",
    "    correct_answer = 0\n",
    "    \n",
    "    for question, selected_option in student_answer_dict.items():\n",
    "        if selected_option.upper() == correct_ans_dic[question].upper()[16]:\n",
    "            correct_answer += 1\n",
    "    \n",
    "    grade = 100*(correct_answer)/(len(student_answer_dict))\n",
    "    \n",
    "    if grade < 60:\n",
    "        passed = \"Not Passed !!!\"\n",
    "    else:\n",
    "        passed = \"Passed !!!\"\n",
    "    \n",
    "    print(\"\\n\\n--------------------------------------\")\n",
    "    print(\"\\nYOUR TEST RESULT\")\n",
    "    \n",
    "    return f\"\\n\\n{correct_answer} out of {len(student_answer_dict)} correct!. \\nYou achieved : {grade} % \\nSTATUS : {passed}\""
   ]
  },
  {
   "cell_type": "code",
   "execution_count": 64,
   "id": "73405d96",
   "metadata": {},
   "outputs": [],
   "source": [
    "def automatic_grading_beta(correct_ans_dic, student_answer_dict):\n",
    "    correct_answer = 0\n",
    "    incorrect_answer = {}\n",
    "    \n",
    "    for question, selected_option in student_answer_dict.items():\n",
    "        if selected_option.upper() == correct_ans_dic[question].upper()[16]:\n",
    "            correct_answer += 1\n",
    "        else:\n",
    "            incorrect_answer[question] = correct_ans_dic[question].upper()[16]\n",
    "    \n",
    "    grade = 100*(correct_answer)/(len(student_answer_dict))\n",
    "    \n",
    "    if grade < 60:\n",
    "        passed = \"Not Passed !!!\"\n",
    "    else:\n",
    "        passed = \"Passed !!!\"\n",
    "    \n",
    "    print(\"\\n\\n--------------------------------------\")\n",
    "    print(\"\\nYOUR TEST RESULT\")\n",
    "    \n",
    "    print(f\"\\n\\n{correct_answer} out of {len(student_answer_dict)} correct!. \\nYou achieved : {grade} % \\nSTATUS : {passed}\")\n",
    "    \n",
    "    print(\"\\n\\n------------------------------------------\")\n",
    "    print(\"INCORRECT ANSWERS\")\n",
    "    print(incorrect_answer)"
   ]
  },
  {
   "cell_type": "code",
   "execution_count": 68,
   "id": "19abe258",
   "metadata": {},
   "outputs": [
    {
     "name": "stdout",
     "output_type": "stream",
     "text": [
      "\n",
      "\n",
      "Q1. Which of the following is not a Python data type?\n",
      "A. List \n",
      "B. Integer\n",
      "C. Float\n",
      "D. Character\n",
      "\n",
      "Enter your answer : d\n",
      "\n",
      "Q2. Which of the following is used to store floating point numbers?\n",
      "A. Strings\n",
      "B. Tuples\n",
      "C. Lists\n",
      "D. Floats\n",
      "\n",
      "Enter your answer : d\n",
      "\n",
      "Q3. Which of the following data types is immutable?\n",
      "A. Set\n",
      "B. List\n",
      "C. Dictionary\n",
      "D. Tuple\n",
      "\n",
      "Enter your answer : d\n",
      "\n",
      "Q4. What is the data type of the result of 5 + 3?\n",
      "A. Float\n",
      "B. Integer\n",
      "C. List\n",
      "D. String\n",
      "\n",
      "Enter your answer : b\n",
      "\n",
      "Q5. Which of the following is a data type used to represent a collection of characters?\n",
      "A. List\n",
      "B. Float\n",
      "C. String\n",
      "D. Tuple\n",
      "\n",
      "Enter your answer : d\n",
      "\n",
      "\n",
      "--------------------------------------\n",
      "\n",
      "YOUR TEST RESULT\n",
      "\n",
      "\n",
      "4 out of 5 correct!. \n",
      "You achieved : 80.0 % \n",
      "STATUS : Passed !!!\n",
      "\n",
      "\n",
      "------------------------------------------\n",
      "INCORRECT ANSWERS\n",
      "{5: 'C'}\n"
     ]
    }
   ],
   "source": [
    "automatic_grading_beta(extract_answer(text,5), take(create_student_view(text,5)))"
   ]
  },
  {
   "cell_type": "code",
   "execution_count": null,
   "id": "493e2eb5",
   "metadata": {},
   "outputs": [],
   "source": []
  }
 ],
 "metadata": {
  "kernelspec": {
   "display_name": "Python 3 (ipykernel)",
   "language": "python",
   "name": "python3"
  },
  "language_info": {
   "codemirror_mode": {
    "name": "ipython",
    "version": 3
   },
   "file_extension": ".py",
   "mimetype": "text/x-python",
   "name": "python",
   "nbconvert_exporter": "python",
   "pygments_lexer": "ipython3",
   "version": "3.10.11"
  }
 },
 "nbformat": 4,
 "nbformat_minor": 5
}
