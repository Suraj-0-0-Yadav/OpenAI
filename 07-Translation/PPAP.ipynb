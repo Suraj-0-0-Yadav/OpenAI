{
 "cells": [
  {
   "cell_type": "code",
   "execution_count": 5,
   "id": "b2efda5b",
   "metadata": {},
   "outputs": [],
   "source": [
    "import os\n",
    "import openai"
   ]
  },
  {
   "cell_type": "code",
   "execution_count": 6,
   "id": "5eff4f83",
   "metadata": {},
   "outputs": [],
   "source": [
    "openai.api_key = os.getenv('OPENAI_API_KEY')"
   ]
  },
  {
   "cell_type": "markdown",
   "id": "a26cbfdc",
   "metadata": {},
   "source": [
    "***"
   ]
  },
  {
   "cell_type": "code",
   "execution_count": 7,
   "id": "022955d6",
   "metadata": {},
   "outputs": [],
   "source": [
    "country_newspapers = {\"Spain\":'https://elpais.com/', \n",
    "                       \"France\":\"https://www.lemonde.fr/\"\n",
    "                     }"
   ]
  },
  {
   "cell_type": "code",
   "execution_count": 10,
   "id": "8c5b407c",
   "metadata": {},
   "outputs": [
    {
     "name": "stdout",
     "output_type": "stream",
     "text": [
      "What country you are intrested in for news ? : france\n"
     ]
    }
   ],
   "source": [
    "country = input(\"What country you are intrested in for news ? : \").title()"
   ]
  },
  {
   "cell_type": "code",
   "execution_count": 11,
   "id": "0749a75b",
   "metadata": {},
   "outputs": [
    {
     "data": {
      "text/plain": [
       "'https://www.lemonde.fr/'"
      ]
     },
     "execution_count": 11,
     "metadata": {},
     "output_type": "execute_result"
    }
   ],
   "source": [
    "country_newspapers[country]"
   ]
  },
  {
   "cell_type": "markdown",
   "id": "d431d18b",
   "metadata": {},
   "source": [
    "***"
   ]
  },
  {
   "cell_type": "code",
   "execution_count": 12,
   "id": "e8956b8c",
   "metadata": {},
   "outputs": [],
   "source": [
    "import requests\n",
    "from bs4 import BeautifulSoup"
   ]
  },
  {
   "cell_type": "code",
   "execution_count": 13,
   "id": "13a844ac",
   "metadata": {},
   "outputs": [],
   "source": [
    "url = country_newspapers[country]"
   ]
  },
  {
   "cell_type": "code",
   "execution_count": 14,
   "id": "d41a8d1a",
   "metadata": {},
   "outputs": [],
   "source": [
    "result = requests.get(url)"
   ]
  },
  {
   "cell_type": "code",
   "execution_count": 18,
   "id": "47fee8df",
   "metadata": {},
   "outputs": [],
   "source": [
    "# result.text"
   ]
  },
  {
   "cell_type": "code",
   "execution_count": 19,
   "id": "f7f16148",
   "metadata": {},
   "outputs": [],
   "source": [
    "soup = BeautifulSoup(result.text, 'html.parser')"
   ]
  },
  {
   "cell_type": "code",
   "execution_count": 21,
   "id": "06815a0e",
   "metadata": {},
   "outputs": [
    {
     "data": {
      "text/plain": [
       "[<p class=\"article__title\">L’irrésistible ascension de CMA CGM dans le transport et la logistique</p>,\n",
       " <p class=\"article__title\">Intelligence artificielle : Joe Biden rappelle aux patrons du secteur leur « devoir » d’affronter les dangers de leurs logiciels</p>,\n",
       " <p class=\"article__title\">Matières premières : « La fraise ramène sa framboise »</p>,\n",
       " <p class=\"article__title\">Jeux vidéo : « Le contexte de croissance rapide des activités de piratage et de fraude en ligne doit inciter à réagir »</p>,\n",
       " <p class=\"article__title\">Couronnement de Charles III : retour en images sur la cérémonie historique</p>,\n",
       " <p class=\"article__title\">Chine-Taïwan : la guerre est-elle inévitable ?</p>,\n",
       " <p class=\"article__title\">Les images du Kremlin visé par une attaque de drones</p>,\n",
       " <p class=\"article__title\">Comment la France réchauffe le climat ?</p>,\n",
       " <p class=\"article__title\">Covid-19 : un immense chantier de santé publique</p>,\n",
       " <p class=\"article__title\">La nostalgie de l’Empire britannique, une querelle anglaise</p>,\n",
       " <p class=\"article__title\">Retraite des artistes : « Il faut en finir avec les fantasmes de richesse qui collent à ce milieu »</p>,\n",
       " <p class=\"article__title\">« La communication de Kylian Mbappé, fondée sur des valeurs, ressemble à s’y méprendre à celle de la Silicon Valley »</p>,\n",
       " <p class=\"article__title\">Des « Misérables » au « Jeune Imam », le duo de producteurs qui dope le cinéma français</p>,\n",
       " <p class=\"article__title\">« La Langue de là-bas » : l’ailleurs de Silvia Baron Supervielle</p>,\n",
       " <p class=\"article__title\">« Des cailloux dans la chaussure », sur Public Sénat : le combat exemplaire d’un village de la Drôme</p>,\n",
       " <p class=\"article__title\">« State of the Union », sur Arte.tv : Nick Hornby et  Stephen Frears explorent une thérapie de couple transatlantique</p>,\n",
       " <p class=\"article__title\">A eau ou à vent, cinq moulins à visiter pour ne pas tourner en rond ce week-end</p>,\n",
       " <p class=\"article__title\">Le khatchapouri, galette star de la gastronomie géorgienne</p>,\n",
       " <p class=\"article__title\">Pourquoi la chaîne XXL est-elle plus que jamais au cou du jour ?</p>,\n",
       " <p class=\"article__title\">La France buissonnière : Chez Fred, le bar des déboires</p>,\n",
       " <h1 class=\"article__title\"><p class=\"article__title-label\">Dans les services des urgences, une crise qui s’éternise et des soignants qui s’épuisent</p> </h1>,\n",
       " <p class=\"article__title\">Aux Etats-Unis, un tireur tue 8 personnes et en blesse 7 dans un centre commercial du Texas</p>,\n",
       " <p class=\"article__title\">Thomas Piketty : « Les économistes commencent à prendre conscience du caractère insoutenable du modèle social et fiscal actuel »</p>,\n",
       " <p class=\"article__title\">Le retour du Liban sous l’emprise des Assad</p>,\n",
       " <p class=\"article__title\">Pour protéger les mineurs de la pornographie en ligne, le gouvernement veut renforcer les pouvoirs de l’Arcom</p>,\n",
       " <p class=\"article__title\">Le point de vue masculin sur la sexualité fait sa loi, bonjour les dégâts !</p>,\n",
       " <p class=\"article__title article__title--inline\">François Bayrou, l’allié d’Emmanuel Macron qui se rêve en héritier</p>,\n",
       " <h3 class=\"article__title\">Guerre en Ukraine, en direct :  la Russie dit avoir repoussé une nouvelle attaque de drones en Crimée</h3>,\n",
       " <h3 class=\"article__title\">L’irrésistible ascension de CMA CGM dans le transport et la logistique</h3>,\n",
       " <h3 class=\"article__title\">Charles III : récit d’un couronnement historique sous une pluie britannique, entre grand spectacle et manifestants vite escamotés</h3>,\n",
       " <h3 class=\"article__title\">Au Canada, une centaine de feux de forêt dans l’Alberta conduisent à l’évacuation de 25 000 personnes</h3>,\n",
       " <h3 class=\"article__title\">Grand Prix de Miami : de Netflix à Las Vegas, comment la formule 1 a reconquis l’Amérique</h3>,\n",
       " <h3 class=\"article__title\">Le Vietnam enregistre une température record de 44,1 °C </h3>,\n",
       " <h3 class=\"article__title\">« Le racisme anti-asiatique était très présent à l’école, on me disait que j’étais chinois et que je devais être fort en arts martiaux »</h3>,\n",
       " <h3 class=\"article__title\">Sur l’immigration, les députés LR Aurélien Pradié et Pierre Henri-Dumont appellent à un référendum d’initiative partagée</h3>,\n",
       " <h3 class=\"article__title\">« Dans les outre-mer, la colonisation française a laissé une empreinte durable et des séquelles profondes »</h3>,\n",
       " <h3 class=\"article__title\">Matières premières : « La fraise ramène sa framboise »</h3>,\n",
       " <h3 class=\"article__title\">Anne Brouillard : « Je voulais donner un pays à tous mes personnages »</h3>,\n",
       " <h3 class=\"article__title\">« Les Vivants et les Autres », l’île aux écrivains de José Eduardo Agualusa</h3>,\n",
       " <p class=\"article__title article__title--inline\">L’Ukraine plonge la Russie dans le « brouillard de guerre » pour réussir sa contre-offensive</p>,\n",
       " <p class=\"article__title article__title--inline\">Turquie : le vague à l’âme des ultranationalistes menace un peu plus les chances de réélection du président Erdogan</p>,\n",
       " <p class=\"article__title article__title--inline\">Philippe Sollers, romancier, critique, essayiste, est mort</p>,\n",
       " <p class=\"article__title\">Covid-19 : un immense chantier de santé publique</p>,\n",
       " <p class=\"article__title\">En Allemagne, l’angoisse monte face à la vague d’investissements industriels aux Etats-Unis et en Chine</p>,\n",
       " <p class=\"article__title\">Au sein du CAC 40, la gouvernance se mondialise</p>,\n",
       " <p class=\"article__title\">Couronnement de Charles III : revivez la journée qui a vu Charles et Camilla être officiellement couronnés</p>,\n",
       " <p class=\"article__title\">Guerre en Ukraine : Un avion polonais intercepté par la Russie en mer Noire</p>,\n",
       " <p class=\"article__title\">Philippe Sollers, romancier, critique, essayiste, est mort</p>,\n",
       " <p class=\"article__title\">Thomas Piketty : « Les économistes commencent à prendre conscience du caractère insoutenable du modèle social et fiscal actuel »</p>,\n",
       " <p class=\"article__title\">Fusillade aux Etats-Unis : un tireur tue 8 personnes et en blesse 7 dans un centre commercial du Texas</p>,\n",
       " <p class=\"article__title\">Les conquistadors du passeport : « J’ai demandé à un stagiaire de se connecter toutes les heures sur le site jusqu’à ce qu’un rendez-vous se libère »</p>,\n",
       " <p class=\"article__title\">Les photos du couronnement de Charles III, entre grands et petits moments</p>,\n",
       " <p class=\"article__title\">Russie : l’écrivain ultranationaliste Zakhar Prilepine blessé lors de l’explosion de sa voiture</p>,\n",
       " <p class=\"article__title\">Lens-Marseille : revivez la victoire des Lensois à Bollaert</p>]"
      ]
     },
     "execution_count": 21,
     "metadata": {},
     "output_type": "execute_result"
    }
   ],
   "source": [
    "soup.find_all(class_='article__title')"
   ]
  },
  {
   "cell_type": "code",
   "execution_count": 27,
   "id": "7beebdfc",
   "metadata": {},
   "outputs": [
    {
     "data": {
      "text/plain": [
       "'L’irrésistible ascension de CMA CGM dans le transport et la logistique'"
      ]
     },
     "execution_count": 27,
     "metadata": {},
     "output_type": "execute_result"
    }
   ],
   "source": [
    "soup.find_all(class_='article__title')[0].text"
   ]
  },
  {
   "cell_type": "code",
   "execution_count": null,
   "id": "f4777084",
   "metadata": {},
   "outputs": [],
   "source": []
  },
  {
   "cell_type": "code",
   "execution_count": 57,
   "id": "e298fe3f",
   "metadata": {},
   "outputs": [],
   "source": [
    "final_text = \"\"\n",
    "for idx,item in enumerate(soup.find_all(class_='c_t')[:3]):\n",
    "    final_text += f\"{idx+1}. {item.text}\\n\""
   ]
  },
  {
   "cell_type": "code",
   "execution_count": 59,
   "id": "2bdb55b2",
   "metadata": {},
   "outputs": [
    {
     "name": "stdout",
     "output_type": "stream",
     "text": [
      "1. Geoffrey Hinton, ‘padrino’ de la IA: “Necesitamos controlarla antes de que sea demasiado inteligente”\n",
      "2. Solo 9 mujeres están entre los 160 consejeros mejor pagados de la Bolsa\n",
      "3. La economía anima al Gobierno frente a unas encuestas desfavorables\n",
      "\n"
     ]
    }
   ],
   "source": [
    "print(final_text)"
   ]
  },
  {
   "cell_type": "code",
   "execution_count": null,
   "id": "45b77916",
   "metadata": {},
   "outputs": [],
   "source": []
  },
  {
   "cell_type": "code",
   "execution_count": 40,
   "id": "5fd7362c",
   "metadata": {},
   "outputs": [],
   "source": [
    "country_newspapers = {\"Spain\":('https://elpais.com/','c_t'), \n",
    "                       \"France\":(\"https://www.lemonde.fr/\",'article__title'),\n",
    "                     }"
   ]
  },
  {
   "cell_type": "code",
   "execution_count": 60,
   "id": "71d3af09",
   "metadata": {},
   "outputs": [],
   "source": [
    "def create_prompt():\n",
    "    country = input(\"What country would you like a news summary for ? : \").title()\n",
    "    \n",
    "    try:\n",
    "        url, tag = country_newspapers[country]\n",
    "    except:\n",
    "        print(\"Sorry, Country not supported !!!\")\n",
    "        return\n",
    "    \n",
    "    soup = BeautifulSoup(requests.get(url).text, 'html.parser')\n",
    "    \n",
    "    country_headlines = \"\"\n",
    "    for idx,item in enumerate(soup.find_all(class_=tag)[:3]):\n",
    "        country_headlines += f\"{idx+1}. {item.text}\\n\"\n",
    "    \n",
    "    prompt = \"Detect the language of the news headlines below, then translate a summary of the headlines to English in a conversational tone:\\n\"\n",
    "    \n",
    "    return prompt + country_headlines"
   ]
  },
  {
   "cell_type": "code",
   "execution_count": 61,
   "id": "e7fa4164",
   "metadata": {},
   "outputs": [
    {
     "name": "stdout",
     "output_type": "stream",
     "text": [
      "What country would you like a news summary for ? : france\n"
     ]
    }
   ],
   "source": [
    "news_headlines = create_prompt()"
   ]
  },
  {
   "cell_type": "code",
   "execution_count": 62,
   "id": "62f7c28d",
   "metadata": {},
   "outputs": [
    {
     "name": "stdout",
     "output_type": "stream",
     "text": [
      "Detect the language of the news headlines below, then translate a summary of the headlines to English in a conversational tone:\n",
      "1. Matières premières : « La fraise ramène sa framboise »\n",
      "2. Intelligence artificielle : Joe Biden rappelle aux patrons du secteur leur « devoir » d’affronter les dangers de leurs logiciels\n",
      "3. Plan vélo : malgré des investissements massifs, les infrastructures cyclables pâtissent encore du réflexe routier\n",
      "\n"
     ]
    }
   ],
   "source": [
    "print(news_headlines)"
   ]
  },
  {
   "cell_type": "markdown",
   "id": "7e69e7d6",
   "metadata": {},
   "source": [
    "***"
   ]
  },
  {
   "cell_type": "code",
   "execution_count": 64,
   "id": "c340769c",
   "metadata": {},
   "outputs": [],
   "source": [
    "response = openai.Completion.create(\n",
    "                          model=\"text-davinci-003\",\n",
    "                          prompt=news_headlines,\n",
    "                          temperature=0.1,\n",
    "                          max_tokens=200,\n",
    "                          top_p=1.0,\n",
    "                          frequency_penalty=0.0,\n",
    "                          presence_penalty=0.0\n",
    ")"
   ]
  },
  {
   "cell_type": "code",
   "execution_count": 65,
   "id": "29dbbc7a",
   "metadata": {},
   "outputs": [
    {
     "name": "stdout",
     "output_type": "stream",
     "text": [
      "\n",
      "Language: French\n",
      "Translation: \"Raw materials: 'Strawberry brings its raspberry'\", \"Artificial Intelligence: Joe Biden reminds sector bosses of their 'duty' to confront the dangers of their software\", \"Bike plan: despite massive investments, cycling infrastructure still suffers from the road reflex\".\n"
     ]
    }
   ],
   "source": [
    "print(response['choices'][0]['text'])"
   ]
  },
  {
   "cell_type": "code",
   "execution_count": null,
   "id": "ee903434",
   "metadata": {},
   "outputs": [],
   "source": []
  }
 ],
 "metadata": {
  "kernelspec": {
   "display_name": "Python 3 (ipykernel)",
   "language": "python",
   "name": "python3"
  },
  "language_info": {
   "codemirror_mode": {
    "name": "ipython",
    "version": 3
   },
   "file_extension": ".py",
   "mimetype": "text/x-python",
   "name": "python",
   "nbconvert_exporter": "python",
   "pygments_lexer": "ipython3",
   "version": "3.10.11"
  }
 },
 "nbformat": 4,
 "nbformat_minor": 5
}
